{
 "cells": [
  {
   "cell_type": "markdown",
   "id": "f8d46682",
   "metadata": {},
   "source": [
    "### Customer Behaviour Analysis and EDA "
   ]
  },
  {
   "cell_type": "code",
   "execution_count": 1,
   "id": "93276257",
   "metadata": {},
   "outputs": [],
   "source": [
    "# importing libraries\n",
    "import pandas as pd\n",
    "import numpy as np\n",
    "import matplotlib.pyplot as plt\n",
    "import seaborn as sns"
   ]
  },
  {
   "cell_type": "code",
   "execution_count": 2,
   "id": "e9191286",
   "metadata": {},
   "outputs": [
    {
     "data": {
      "application/vnd.microsoft.datawrangler.viewer.v0+json": {
       "columns": [
        {
         "name": "index",
         "rawType": "int64",
         "type": "integer"
        },
        {
         "name": "CustomerID",
         "rawType": "int64",
         "type": "integer"
        },
        {
         "name": "Gender",
         "rawType": "object",
         "type": "string"
        },
        {
         "name": "Age",
         "rawType": "int64",
         "type": "integer"
        },
        {
         "name": "AnnualIncome",
         "rawType": "int64",
         "type": "integer"
        },
        {
         "name": "SpendingScore",
         "rawType": "int64",
         "type": "integer"
        },
        {
         "name": "PurchaseCategory",
         "rawType": "object",
         "type": "string"
        }
       ],
       "ref": "15e6f98e-1767-4dbc-9ab6-2e38dc519670",
       "rows": [
        [
         "0",
         "101",
         "Male",
         "23",
         "40000",
         "60",
         "Clothing"
        ],
        [
         "1",
         "102",
         "Female",
         "31",
         "50000",
         "70",
         "Electronics"
        ],
        [
         "2",
         "103",
         "Female",
         "35",
         "62000",
         "90",
         "Groceries"
        ],
        [
         "3",
         "104",
         "Male",
         "22",
         "35000",
         "50",
         "Clothing"
        ],
        [
         "4",
         "105",
         "Female",
         "45",
         "80000",
         "80",
         "Electronics"
        ]
       ],
       "shape": {
        "columns": 6,
        "rows": 5
       }
      },
      "text/html": [
       "<div>\n",
       "<style scoped>\n",
       "    .dataframe tbody tr th:only-of-type {\n",
       "        vertical-align: middle;\n",
       "    }\n",
       "\n",
       "    .dataframe tbody tr th {\n",
       "        vertical-align: top;\n",
       "    }\n",
       "\n",
       "    .dataframe thead th {\n",
       "        text-align: right;\n",
       "    }\n",
       "</style>\n",
       "<table border=\"1\" class=\"dataframe\">\n",
       "  <thead>\n",
       "    <tr style=\"text-align: right;\">\n",
       "      <th></th>\n",
       "      <th>CustomerID</th>\n",
       "      <th>Gender</th>\n",
       "      <th>Age</th>\n",
       "      <th>AnnualIncome</th>\n",
       "      <th>SpendingScore</th>\n",
       "      <th>PurchaseCategory</th>\n",
       "    </tr>\n",
       "  </thead>\n",
       "  <tbody>\n",
       "    <tr>\n",
       "      <th>0</th>\n",
       "      <td>101</td>\n",
       "      <td>Male</td>\n",
       "      <td>23</td>\n",
       "      <td>40000</td>\n",
       "      <td>60</td>\n",
       "      <td>Clothing</td>\n",
       "    </tr>\n",
       "    <tr>\n",
       "      <th>1</th>\n",
       "      <td>102</td>\n",
       "      <td>Female</td>\n",
       "      <td>31</td>\n",
       "      <td>50000</td>\n",
       "      <td>70</td>\n",
       "      <td>Electronics</td>\n",
       "    </tr>\n",
       "    <tr>\n",
       "      <th>2</th>\n",
       "      <td>103</td>\n",
       "      <td>Female</td>\n",
       "      <td>35</td>\n",
       "      <td>62000</td>\n",
       "      <td>90</td>\n",
       "      <td>Groceries</td>\n",
       "    </tr>\n",
       "    <tr>\n",
       "      <th>3</th>\n",
       "      <td>104</td>\n",
       "      <td>Male</td>\n",
       "      <td>22</td>\n",
       "      <td>35000</td>\n",
       "      <td>50</td>\n",
       "      <td>Clothing</td>\n",
       "    </tr>\n",
       "    <tr>\n",
       "      <th>4</th>\n",
       "      <td>105</td>\n",
       "      <td>Female</td>\n",
       "      <td>45</td>\n",
       "      <td>80000</td>\n",
       "      <td>80</td>\n",
       "      <td>Electronics</td>\n",
       "    </tr>\n",
       "  </tbody>\n",
       "</table>\n",
       "</div>"
      ],
      "text/plain": [
       "   CustomerID  Gender  Age  AnnualIncome  SpendingScore PurchaseCategory\n",
       "0         101    Male   23         40000             60         Clothing\n",
       "1         102  Female   31         50000             70      Electronics\n",
       "2         103  Female   35         62000             90        Groceries\n",
       "3         104    Male   22         35000             50         Clothing\n",
       "4         105  Female   45         80000             80      Electronics"
      ]
     },
     "execution_count": 2,
     "metadata": {},
     "output_type": "execute_result"
    }
   ],
   "source": [
    "# loading dataset in a dataframe\n",
    "df = pd.read_csv(r\"C:\\Users\\HP\\Downloads\\customer_analysis_project\\data\\customers.csv\")\n",
    "df.head()"
   ]
  },
  {
   "cell_type": "code",
   "execution_count": 3,
   "id": "e3dd6260",
   "metadata": {},
   "outputs": [
    {
     "name": "stdout",
     "output_type": "stream",
     "text": [
      "<class 'pandas.core.frame.DataFrame'>\n",
      "RangeIndex: 10 entries, 0 to 9\n",
      "Data columns (total 6 columns):\n",
      " #   Column            Non-Null Count  Dtype \n",
      "---  ------            --------------  ----- \n",
      " 0   CustomerID        10 non-null     int64 \n",
      " 1   Gender            10 non-null     object\n",
      " 2   Age               10 non-null     int64 \n",
      " 3   AnnualIncome      10 non-null     int64 \n",
      " 4   SpendingScore     10 non-null     int64 \n",
      " 5   PurchaseCategory  10 non-null     object\n",
      "dtypes: int64(4), object(2)\n",
      "memory usage: 612.0+ bytes\n"
     ]
    }
   ],
   "source": [
    "# df information\n",
    "df.info()"
   ]
  },
  {
   "cell_type": "markdown",
   "id": "b358ad28",
   "metadata": {},
   "source": [
    "There is no null values in dataset"
   ]
  },
  {
   "cell_type": "code",
   "execution_count": 4,
   "id": "6f2e1154",
   "metadata": {},
   "outputs": [
    {
     "data": {
      "application/vnd.microsoft.datawrangler.viewer.v0+json": {
       "columns": [
        {
         "name": "index",
         "rawType": "object",
         "type": "string"
        },
        {
         "name": "0",
         "rawType": "int64",
         "type": "integer"
        }
       ],
       "ref": "ab043274-3cbf-4328-ac8b-c7eb4b02d517",
       "rows": [
        [
         "CustomerID",
         "0"
        ],
        [
         "Gender",
         "0"
        ],
        [
         "Age",
         "0"
        ],
        [
         "AnnualIncome",
         "0"
        ],
        [
         "SpendingScore",
         "0"
        ],
        [
         "PurchaseCategory",
         "0"
        ]
       ],
       "shape": {
        "columns": 1,
        "rows": 6
       }
      },
      "text/plain": [
       "CustomerID          0\n",
       "Gender              0\n",
       "Age                 0\n",
       "AnnualIncome        0\n",
       "SpendingScore       0\n",
       "PurchaseCategory    0\n",
       "dtype: int64"
      ]
     },
     "execution_count": 4,
     "metadata": {},
     "output_type": "execute_result"
    }
   ],
   "source": [
    "# checking null values\n",
    "df.isnull().sum()"
   ]
  },
  {
   "cell_type": "code",
   "execution_count": 7,
   "id": "d40d48bc",
   "metadata": {},
   "outputs": [
    {
     "data": {
      "application/vnd.microsoft.datawrangler.viewer.v0+json": {
       "columns": [
        {
         "name": "index",
         "rawType": "object",
         "type": "string"
        },
        {
         "name": "CustomerID",
         "rawType": "float64",
         "type": "float"
        },
        {
         "name": "Age",
         "rawType": "float64",
         "type": "float"
        },
        {
         "name": "AnnualIncome",
         "rawType": "float64",
         "type": "float"
        },
        {
         "name": "SpendingScore",
         "rawType": "float64",
         "type": "float"
        }
       ],
       "ref": "80153c4c-c731-4860-b7b3-80a1cdbce2a3",
       "rows": [
        [
         "count",
         "10.0",
         "10.0",
         "10.0",
         "10.0"
        ],
        [
         "mean",
         "105.5",
         "33.8",
         "59200.0",
         "66.2"
        ],
        [
         "std",
         "3.0276503540974917",
         "9.68159766429763",
         "17812.604775520307",
         "16.791532257526576"
        ],
        [
         "min",
         "101.0",
         "22.0",
         "35000.0",
         "30.0"
        ],
        [
         "25%",
         "103.25",
         "27.5",
         "48500.0",
         "61.25"
        ],
        [
         "50%",
         "105.5",
         "32.0",
         "56000.0",
         "69.0"
        ],
        [
         "75%",
         "107.75",
         "39.5",
         "71750.0",
         "75.75"
        ],
        [
         "max",
         "110.0",
         "52.0",
         "90000.0",
         "90.0"
        ]
       ],
       "shape": {
        "columns": 4,
        "rows": 8
       }
      },
      "text/html": [
       "<div>\n",
       "<style scoped>\n",
       "    .dataframe tbody tr th:only-of-type {\n",
       "        vertical-align: middle;\n",
       "    }\n",
       "\n",
       "    .dataframe tbody tr th {\n",
       "        vertical-align: top;\n",
       "    }\n",
       "\n",
       "    .dataframe thead th {\n",
       "        text-align: right;\n",
       "    }\n",
       "</style>\n",
       "<table border=\"1\" class=\"dataframe\">\n",
       "  <thead>\n",
       "    <tr style=\"text-align: right;\">\n",
       "      <th></th>\n",
       "      <th>CustomerID</th>\n",
       "      <th>Age</th>\n",
       "      <th>AnnualIncome</th>\n",
       "      <th>SpendingScore</th>\n",
       "    </tr>\n",
       "  </thead>\n",
       "  <tbody>\n",
       "    <tr>\n",
       "      <th>count</th>\n",
       "      <td>10.00000</td>\n",
       "      <td>10.000000</td>\n",
       "      <td>10.000000</td>\n",
       "      <td>10.000000</td>\n",
       "    </tr>\n",
       "    <tr>\n",
       "      <th>mean</th>\n",
       "      <td>105.50000</td>\n",
       "      <td>33.800000</td>\n",
       "      <td>59200.000000</td>\n",
       "      <td>66.200000</td>\n",
       "    </tr>\n",
       "    <tr>\n",
       "      <th>std</th>\n",
       "      <td>3.02765</td>\n",
       "      <td>9.681598</td>\n",
       "      <td>17812.604776</td>\n",
       "      <td>16.791532</td>\n",
       "    </tr>\n",
       "    <tr>\n",
       "      <th>min</th>\n",
       "      <td>101.00000</td>\n",
       "      <td>22.000000</td>\n",
       "      <td>35000.000000</td>\n",
       "      <td>30.000000</td>\n",
       "    </tr>\n",
       "    <tr>\n",
       "      <th>25%</th>\n",
       "      <td>103.25000</td>\n",
       "      <td>27.500000</td>\n",
       "      <td>48500.000000</td>\n",
       "      <td>61.250000</td>\n",
       "    </tr>\n",
       "    <tr>\n",
       "      <th>50%</th>\n",
       "      <td>105.50000</td>\n",
       "      <td>32.000000</td>\n",
       "      <td>56000.000000</td>\n",
       "      <td>69.000000</td>\n",
       "    </tr>\n",
       "    <tr>\n",
       "      <th>75%</th>\n",
       "      <td>107.75000</td>\n",
       "      <td>39.500000</td>\n",
       "      <td>71750.000000</td>\n",
       "      <td>75.750000</td>\n",
       "    </tr>\n",
       "    <tr>\n",
       "      <th>max</th>\n",
       "      <td>110.00000</td>\n",
       "      <td>52.000000</td>\n",
       "      <td>90000.000000</td>\n",
       "      <td>90.000000</td>\n",
       "    </tr>\n",
       "  </tbody>\n",
       "</table>\n",
       "</div>"
      ],
      "text/plain": [
       "       CustomerID        Age  AnnualIncome  SpendingScore\n",
       "count    10.00000  10.000000     10.000000      10.000000\n",
       "mean    105.50000  33.800000  59200.000000      66.200000\n",
       "std       3.02765   9.681598  17812.604776      16.791532\n",
       "min     101.00000  22.000000  35000.000000      30.000000\n",
       "25%     103.25000  27.500000  48500.000000      61.250000\n",
       "50%     105.50000  32.000000  56000.000000      69.000000\n",
       "75%     107.75000  39.500000  71750.000000      75.750000\n",
       "max     110.00000  52.000000  90000.000000      90.000000"
      ]
     },
     "execution_count": 7,
     "metadata": {},
     "output_type": "execute_result"
    }
   ],
   "source": [
    "# df summary\n",
    "df.describe()"
   ]
  },
  {
   "cell_type": "code",
   "execution_count": 8,
   "id": "1d70d7e6",
   "metadata": {},
   "outputs": [
    {
     "data": {
      "text/plain": [
       "Index(['CustomerID', 'Gender', 'Age', 'AnnualIncome', 'SpendingScore',\n",
       "       'PurchaseCategory'],\n",
       "      dtype='object')"
      ]
     },
     "execution_count": 8,
     "metadata": {},
     "output_type": "execute_result"
    }
   ],
   "source": [
    "df.columns"
   ]
  },
  {
   "cell_type": "code",
   "execution_count": null,
   "id": "8c5ca34c",
   "metadata": {},
   "outputs": [
    {
     "data": {
      "image/png": "[encoded data removed]",
      "text/plain": [
       "<Figure size 640x480 with 1 Axes>"
      ]
     },
     "metadata": {},
     "output_type": "display_data"
    }
   ],
   "source": [
    "# Gender Distribution using countplot\n",
    "sns.countplot(data=df, x='Gender',)\n",
    "plt.show()"
   ]
  },
  {
   "cell_type": "markdown",
   "id": "0ebbc6fa",
   "metadata": {},
   "source": [
    "#### Both Male and female are equally Distributed in Gender Column"
   ]
  },
  {
   "cell_type": "code",
   "execution_count": null,
   "id": "b2bd86cc",
   "metadata": {},
   "outputs": [
    {
     "data": {
      "image/png": "[encoded data removed]",
      "text/plain": [
       "<Figure size 640x480 with 1 Axes>"
      ]
     },
     "metadata": {},
     "output_type": "display_data"
    }
   ],
   "source": [
    "# Spending Score Based on Gender and Understand which gender tends to spend more.\n",
    "sns.boxplot(data=df, x='Gender', y='SpendingScore',palette='Set1')\n",
    "plt.title('Spending Score Based on Gender')\n",
    "plt.show()"
   ]
  },
  {
   "cell_type": "markdown",
   "id": "976f2eda",
   "metadata": {},
   "source": [
    "#### After Using Boxplot to explore the spending of both genders, it shows that female score is higher than male in spending score "
   ]
  },
  {
   "cell_type": "code",
   "execution_count": 25,
   "id": "9228577f",
   "metadata": {},
   "outputs": [
    {
     "data": {
      "image/png": "[encoded data removed]",
      "text/plain": [
       "<Figure size 640x480 with 1 Axes>"
      ]
     },
     "metadata": {},
     "output_type": "display_data"
    }
   ],
   "source": [
    "# Relation between Age and Spending score\n",
    "sns.scatterplot(data=df, x='Age',y='SpendingScore',hue='Gender',palette='Set1')\n",
    "plt.title('Relation between Age and Spending score')\n",
    "plt.show()"
   ]
  },
  {
   "cell_type": "markdown",
   "id": "304c477b",
   "metadata": {},
   "source": [
    "#### To find out what is the Relation between Age and Spending score, it clearly shows that usually male spends between 30 to 70 while female score start from 70 "
   ]
  },
  {
   "cell_type": "code",
   "execution_count": 26,
   "id": "1f15307f",
   "metadata": {},
   "outputs": [
    {
     "data": {
      "text/plain": [
       "Index(['CustomerID', 'Gender', 'Age', 'AnnualIncome', 'SpendingScore',\n",
       "       'PurchaseCategory'],\n",
       "      dtype='object')"
      ]
     },
     "execution_count": 26,
     "metadata": {},
     "output_type": "execute_result"
    }
   ],
   "source": [
    "df.columns"
   ]
  },
  {
   "cell_type": "code",
   "execution_count": 27,
   "id": "7af3bcb0",
   "metadata": {},
   "outputs": [
    {
     "data": {
      "application/vnd.microsoft.datawrangler.viewer.v0+json": {
       "columns": [
        {
         "name": "PurchaseCategory",
         "rawType": "object",
         "type": "string"
        },
        {
         "name": "SpendingScore",
         "rawType": "float64",
         "type": "float"
        }
       ],
       "ref": "ab170770-e294-44ab-a035-5245e6e1c53e",
       "rows": [
        [
         "Electronics",
         "71.66666666666667"
        ],
        [
         "Groceries",
         "65.66666666666667"
        ],
        [
         "Clothing",
         "62.5"
        ]
       ],
       "shape": {
        "columns": 1,
        "rows": 3
       }
      },
      "text/plain": [
       "PurchaseCategory\n",
       "Electronics    71.666667\n",
       "Groceries      65.666667\n",
       "Clothing       62.500000\n",
       "Name: SpendingScore, dtype: float64"
      ]
     },
     "execution_count": 27,
     "metadata": {},
     "output_type": "execute_result"
    }
   ],
   "source": [
    "# Highest Avg spending by Purchase category\n",
    "df.groupby(['PurchaseCategory'])['SpendingScore'].mean().sort_values(ascending=False)"
   ]
  },
  {
   "cell_type": "markdown",
   "id": "3cadc0d2",
   "metadata": {},
   "source": [
    "#### Average spending score of purchase category\n",
    "##### Electronics = 71.67\n",
    "##### Groceries = 65.67\n",
    "##### Clothing = 62.5"
   ]
  },
  {
   "cell_type": "code",
   "execution_count": 28,
   "id": "d169359a",
   "metadata": {},
   "outputs": [
    {
     "data": {
      "image/png": "[encoded data removed]",
      "text/plain": [
       "<Figure size 640x480 with 1 Axes>"
      ]
     },
     "metadata": {},
     "output_type": "display_data"
    }
   ],
   "source": [
    "# Comparsion between Annual Income and Spending Score\n",
    "sns.scatterplot(data=df, x='AnnualIncome',y='SpendingScore',hue='Gender',palette='Set1')\n",
    "plt.title('Comparsion between Annual Income and Spending Score')\n",
    "plt.show()"
   ]
  },
  {
   "cell_type": "markdown",
   "id": "106630c8",
   "metadata": {},
   "source": [
    "#### The annual income of female is greater than male and both male and female spend around 65 to 80"
   ]
  },
  {
   "cell_type": "code",
   "execution_count": 32,
   "id": "e002fa79",
   "metadata": {},
   "outputs": [
    {
     "data": {
      "image/png": "[encoded data removed]",
      "text/plain": [
       "<Figure size 640x480 with 1 Axes>"
      ]
     },
     "metadata": {},
     "output_type": "display_data"
    }
   ],
   "source": [
    "# Distribution of Purchase Category Using pie chart\n",
    "plt.pie(df['PurchaseCategory'].value_counts(),labels=df['PurchaseCategory'].value_counts().index,autopct='%1.1f%%')\n",
    "plt.title('Distribution of Purchase Category')\n",
    "plt.show()"
   ]
  },
  {
   "cell_type": "markdown",
   "id": "8c7a6340",
   "metadata": {},
   "source": [
    "#### The pie chart shows the percentage distribution of purchases across three categories: Clothing (40.0%), Electronics (30.0%), and Groceries (30.0%)."
   ]
  },
  {
   "cell_type": "markdown",
   "id": "78b6de58",
   "metadata": {},
   "source": [
    "### 1. Who are the high spenders?"
   ]
  },
  {
   "cell_type": "markdown",
   "id": "5d8020df",
   "metadata": {},
   "source": [
    "#### Females show significantly higher spending scores than males across all charts. The highest concentration of high spending scores (70-90) occurs in the 30-45 age group, predominantly female.And Males aged between 35-40 also show moderate-high spending scores (50-70)."
   ]
  },
  {
   "cell_type": "markdown",
   "id": "844e7a62",
   "metadata": {},
   "source": [
    "### 2. Are there patterns by gender or age?"
   ]
  },
  {
   "cell_type": "markdown",
   "id": "3cd0bb7e",
   "metadata": {},
   "source": [
    "#### Females dominate spending across all metrics (age, income, categories) and Males show consistently lower spending scores, regardless of age or income."
   ]
  },
  {
   "cell_type": "markdown",
   "id": "a7e0f7cf",
   "metadata": {},
   "source": [
    "### 3. What could a marketing team do based on this?"
   ]
  },
  {
   "cell_type": "markdown",
   "id": "a093a165",
   "metadata": {},
   "source": [
    "#### 1. Launch female-focused campaigns (ages 30-45) via social media, Magazines, News Paper and most important way is through email marketing\n",
    "#### 2. Collaborate with influencers in fashion (clothing) and tech (electronics)—these categories dominate purchases."
   ]
  },
  {
   "cell_type": "markdown",
   "id": "52c907ee",
   "metadata": {},
   "source": []
  }
 ],
 "metadata": {
  "kernelspec": {
   "display_name": "base",
   "language": "python",
   "name": "python3"
  },
  "language_info": {
   "codemirror_mode": {
    "name": "ipython",
    "version": 3
   },
   "file_extension": ".py",
   "mimetype": "text/x-python",
   "name": "python",
   "nbconvert_exporter": "python",
   "pygments_lexer": "ipython3",
   "version": "3.11.5"
  }
 },
 "nbformat": 4,
 "nbformat_minor": 5
}
