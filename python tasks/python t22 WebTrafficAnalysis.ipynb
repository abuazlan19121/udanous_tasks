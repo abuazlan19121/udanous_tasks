{
 "cells": [
  {
   "cell_type": "markdown",
   "id": "7a5cea2e",
   "metadata": {},
   "source": [
    "### WEBSITE TRAFFIC ANALYSIS"
   ]
  },
  {
   "cell_type": "code",
   "execution_count": 1,
   "id": "45184e7c",
   "metadata": {},
   "outputs": [],
   "source": [
    "# Importing the libraries\n",
    "import pandas as pd\n",
    "import matplotlib.pyplot as plt\n",
    "import numpy as np\n",
    "import seaborn as sns"
   ]
  },
  {
   "cell_type": "code",
   "execution_count": 2,
   "id": "0010d284",
   "metadata": {},
   "outputs": [
    {
     "data": {
      "application/vnd.microsoft.datawrangler.viewer.v0+json": {
       "columns": [
        {
         "name": "index",
         "rawType": "int64",
         "type": "integer"
        },
        {
         "name": "VisitID",
         "rawType": "int64",
         "type": "integer"
        },
        {
         "name": "Date",
         "rawType": "object",
         "type": "string"
        },
        {
         "name": "UserType",
         "rawType": "object",
         "type": "string"
        },
        {
         "name": "Device",
         "rawType": "object",
         "type": "string"
        },
        {
         "name": "SessionDuration",
         "rawType": "int64",
         "type": "integer"
        },
        {
         "name": "PagesVisited",
         "rawType": "int64",
         "type": "integer"
        }
       ],
       "ref": "d8711465-423d-4ff9-8d82-60d2ec882262",
       "rows": [
        [
         "0",
         "1",
         "2023-07-01",
         "New",
         "Mobile",
         "120",
         "3"
        ],
        [
         "1",
         "2",
         "2023-07-02",
         "Returning",
         "Desktop",
         "300",
         "5"
        ],
        [
         "2",
         "3",
         "2023-07-03",
         "New",
         "Tablet",
         "240",
         "4"
        ],
        [
         "3",
         "4",
         "2023-07-04",
         "Returning",
         "Mobile",
         "180",
         "3"
        ],
        [
         "4",
         "5",
         "2023-07-05",
         "New",
         "Desktop",
         "350",
         "6"
        ],
        [
         "5",
         "6",
         "2023-07-06",
         "Returning",
         "Tablet",
         "260",
         "4"
        ],
        [
         "6",
         "7",
         "2023-07-07",
         "New",
         "Mobile",
         "190",
         "3"
        ],
        [
         "7",
         "8",
         "2023-07-08",
         "Returning",
         "Desktop",
         "400",
         "7"
        ],
        [
         "8",
         "9",
         "2023-07-09",
         "New",
         "Tablet",
         "210",
         "4"
        ],
        [
         "9",
         "10",
         "2023-07-10",
         "Returning",
         "Mobile",
         "220",
         "5"
        ]
       ],
       "shape": {
        "columns": 6,
        "rows": 10
       }
      },
      "text/html": [
       "<div>\n",
       "<style scoped>\n",
       "    .dataframe tbody tr th:only-of-type {\n",
       "        vertical-align: middle;\n",
       "    }\n",
       "\n",
       "    .dataframe tbody tr th {\n",
       "        vertical-align: top;\n",
       "    }\n",
       "\n",
       "    .dataframe thead th {\n",
       "        text-align: right;\n",
       "    }\n",
       "</style>\n",
       "<table border=\"1\" class=\"dataframe\">\n",
       "  <thead>\n",
       "    <tr style=\"text-align: right;\">\n",
       "      <th></th>\n",
       "      <th>VisitID</th>\n",
       "      <th>Date</th>\n",
       "      <th>UserType</th>\n",
       "      <th>Device</th>\n",
       "      <th>SessionDuration</th>\n",
       "      <th>PagesVisited</th>\n",
       "    </tr>\n",
       "  </thead>\n",
       "  <tbody>\n",
       "    <tr>\n",
       "      <th>0</th>\n",
       "      <td>1</td>\n",
       "      <td>2023-07-01</td>\n",
       "      <td>New</td>\n",
       "      <td>Mobile</td>\n",
       "      <td>120</td>\n",
       "      <td>3</td>\n",
       "    </tr>\n",
       "    <tr>\n",
       "      <th>1</th>\n",
       "      <td>2</td>\n",
       "      <td>2023-07-02</td>\n",
       "      <td>Returning</td>\n",
       "      <td>Desktop</td>\n",
       "      <td>300</td>\n",
       "      <td>5</td>\n",
       "    </tr>\n",
       "    <tr>\n",
       "      <th>2</th>\n",
       "      <td>3</td>\n",
       "      <td>2023-07-03</td>\n",
       "      <td>New</td>\n",
       "      <td>Tablet</td>\n",
       "      <td>240</td>\n",
       "      <td>4</td>\n",
       "    </tr>\n",
       "    <tr>\n",
       "      <th>3</th>\n",
       "      <td>4</td>\n",
       "      <td>2023-07-04</td>\n",
       "      <td>Returning</td>\n",
       "      <td>Mobile</td>\n",
       "      <td>180</td>\n",
       "      <td>3</td>\n",
       "    </tr>\n",
       "    <tr>\n",
       "      <th>4</th>\n",
       "      <td>5</td>\n",
       "      <td>2023-07-05</td>\n",
       "      <td>New</td>\n",
       "      <td>Desktop</td>\n",
       "      <td>350</td>\n",
       "      <td>6</td>\n",
       "    </tr>\n",
       "    <tr>\n",
       "      <th>5</th>\n",
       "      <td>6</td>\n",
       "      <td>2023-07-06</td>\n",
       "      <td>Returning</td>\n",
       "      <td>Tablet</td>\n",
       "      <td>260</td>\n",
       "      <td>4</td>\n",
       "    </tr>\n",
       "    <tr>\n",
       "      <th>6</th>\n",
       "      <td>7</td>\n",
       "      <td>2023-07-07</td>\n",
       "      <td>New</td>\n",
       "      <td>Mobile</td>\n",
       "      <td>190</td>\n",
       "      <td>3</td>\n",
       "    </tr>\n",
       "    <tr>\n",
       "      <th>7</th>\n",
       "      <td>8</td>\n",
       "      <td>2023-07-08</td>\n",
       "      <td>Returning</td>\n",
       "      <td>Desktop</td>\n",
       "      <td>400</td>\n",
       "      <td>7</td>\n",
       "    </tr>\n",
       "    <tr>\n",
       "      <th>8</th>\n",
       "      <td>9</td>\n",
       "      <td>2023-07-09</td>\n",
       "      <td>New</td>\n",
       "      <td>Tablet</td>\n",
       "      <td>210</td>\n",
       "      <td>4</td>\n",
       "    </tr>\n",
       "    <tr>\n",
       "      <th>9</th>\n",
       "      <td>10</td>\n",
       "      <td>2023-07-10</td>\n",
       "      <td>Returning</td>\n",
       "      <td>Mobile</td>\n",
       "      <td>220</td>\n",
       "      <td>5</td>\n",
       "    </tr>\n",
       "  </tbody>\n",
       "</table>\n",
       "</div>"
      ],
      "text/plain": [
       "   VisitID        Date   UserType   Device  SessionDuration  PagesVisited\n",
       "0        1  2023-07-01        New   Mobile              120             3\n",
       "1        2  2023-07-02  Returning  Desktop              300             5\n",
       "2        3  2023-07-03        New   Tablet              240             4\n",
       "3        4  2023-07-04  Returning   Mobile              180             3\n",
       "4        5  2023-07-05        New  Desktop              350             6\n",
       "5        6  2023-07-06  Returning   Tablet              260             4\n",
       "6        7  2023-07-07        New   Mobile              190             3\n",
       "7        8  2023-07-08  Returning  Desktop              400             7\n",
       "8        9  2023-07-09        New   Tablet              210             4\n",
       "9       10  2023-07-10  Returning   Mobile              220             5"
      ]
     },
     "execution_count": 2,
     "metadata": {},
     "output_type": "execute_result"
    }
   ],
   "source": [
    "df = pd.read_csv(r\"C:\\Users\\HP\\Downloads\\web_traffic_analysis_project\\data\\web_traffic.csv\")\n",
    "df"
   ]
  },
  {
   "cell_type": "code",
   "execution_count": 3,
   "id": "f456c655",
   "metadata": {},
   "outputs": [
    {
     "data": {
      "application/vnd.microsoft.datawrangler.viewer.v0+json": {
       "columns": [
        {
         "name": "index",
         "rawType": "int64",
         "type": "integer"
        },
        {
         "name": "Date",
         "rawType": "datetime64[ns]",
         "type": "datetime"
        }
       ],
       "ref": "e2f87421-5904-46c4-92cc-e8253940db2e",
       "rows": [
        [
         "0",
         "2023-07-01 00:00:00"
        ],
        [
         "1",
         "2023-07-02 00:00:00"
        ],
        [
         "2",
         "2023-07-03 00:00:00"
        ],
        [
         "3",
         "2023-07-04 00:00:00"
        ],
        [
         "4",
         "2023-07-05 00:00:00"
        ],
        [
         "5",
         "2023-07-06 00:00:00"
        ],
        [
         "6",
         "2023-07-07 00:00:00"
        ],
        [
         "7",
         "2023-07-08 00:00:00"
        ],
        [
         "8",
         "2023-07-09 00:00:00"
        ],
        [
         "9",
         "2023-07-10 00:00:00"
        ]
       ],
       "shape": {
        "columns": 1,
        "rows": 10
       }
      },
      "text/plain": [
       "0   2023-07-01\n",
       "1   2023-07-02\n",
       "2   2023-07-03\n",
       "3   2023-07-04\n",
       "4   2023-07-05\n",
       "5   2023-07-06\n",
       "6   2023-07-07\n",
       "7   2023-07-08\n",
       "8   2023-07-09\n",
       "9   2023-07-10\n",
       "Name: Date, dtype: datetime64[ns]"
      ]
     },
     "execution_count": 3,
     "metadata": {},
     "output_type": "execute_result"
    }
   ],
   "source": [
    "# Converting the date column to datetime\n",
    "df['Date'] = pd.to_datetime(df['Date'])\n",
    "df['Date']"
   ]
  },
  {
   "cell_type": "code",
   "execution_count": 5,
   "id": "af5b249e",
   "metadata": {},
   "outputs": [
    {
     "data": {
      "text/plain": [
       "(10, 6)"
      ]
     },
     "execution_count": 5,
     "metadata": {},
     "output_type": "execute_result"
    }
   ],
   "source": [
    "# Dataframe shape\n",
    "df.shape"
   ]
  },
  {
   "cell_type": "code",
   "execution_count": 8,
   "id": "0b0aae02",
   "metadata": {},
   "outputs": [
    {
     "data": {
      "application/vnd.microsoft.datawrangler.viewer.v0+json": {
       "columns": [
        {
         "name": "index",
         "rawType": "object",
         "type": "string"
        },
        {
         "name": "0",
         "rawType": "object",
         "type": "unknown"
        }
       ],
       "ref": "e97f6781-f44b-4871-b1a9-373966fe16d2",
       "rows": [
        [
         "VisitID",
         "int64"
        ],
        [
         "Date",
         "datetime64[ns]"
        ],
        [
         "UserType",
         "object"
        ],
        [
         "Device",
         "object"
        ],
        [
         "SessionDuration",
         "int64"
        ],
        [
         "PagesVisited",
         "int64"
        ]
       ],
       "shape": {
        "columns": 1,
        "rows": 6
       }
      },
      "text/plain": [
       "VisitID                     int64\n",
       "Date               datetime64[ns]\n",
       "UserType                   object\n",
       "Device                     object\n",
       "SessionDuration             int64\n",
       "PagesVisited                int64\n",
       "dtype: object"
      ]
     },
     "execution_count": 8,
     "metadata": {},
     "output_type": "execute_result"
    }
   ],
   "source": [
    "# Data Types\n",
    "df.dtypes"
   ]
  },
  {
   "cell_type": "code",
   "execution_count": 9,
   "id": "d6ad303e",
   "metadata": {},
   "outputs": [
    {
     "data": {
      "application/vnd.microsoft.datawrangler.viewer.v0+json": {
       "columns": [
        {
         "name": "index",
         "rawType": "object",
         "type": "string"
        },
        {
         "name": "VisitID",
         "rawType": "float64",
         "type": "float"
        },
        {
         "name": "Date",
         "rawType": "object",
         "type": "unknown"
        },
        {
         "name": "SessionDuration",
         "rawType": "float64",
         "type": "float"
        },
        {
         "name": "PagesVisited",
         "rawType": "float64",
         "type": "float"
        }
       ],
       "ref": "10057aeb-23c0-4976-a476-a9856fce6d6d",
       "rows": [
        [
         "count",
         "10.0",
         "10",
         "10.0",
         "10.0"
        ],
        [
         "mean",
         "5.5",
         "2023-07-05 12:00:00",
         "247.0",
         "4.4"
        ],
        [
         "min",
         "1.0",
         "2023-07-01 00:00:00",
         "120.0",
         "3.0"
        ],
        [
         "25%",
         "3.25",
         "2023-07-03 06:00:00",
         "195.0",
         "3.25"
        ],
        [
         "50%",
         "5.5",
         "2023-07-05 12:00:00",
         "230.0",
         "4.0"
        ],
        [
         "75%",
         "7.75",
         "2023-07-07 18:00:00",
         "290.0",
         "5.0"
        ],
        [
         "max",
         "10.0",
         "2023-07-10 00:00:00",
         "400.0",
         "7.0"
        ],
        [
         "std",
         "3.0276503540974917",
         null,
         "83.67264254887084",
         "1.349897115421106"
        ]
       ],
       "shape": {
        "columns": 4,
        "rows": 8
       }
      },
      "text/html": [
       "<div>\n",
       "<style scoped>\n",
       "    .dataframe tbody tr th:only-of-type {\n",
       "        vertical-align: middle;\n",
       "    }\n",
       "\n",
       "    .dataframe tbody tr th {\n",
       "        vertical-align: top;\n",
       "    }\n",
       "\n",
       "    .dataframe thead th {\n",
       "        text-align: right;\n",
       "    }\n",
       "</style>\n",
       "<table border=\"1\" class=\"dataframe\">\n",
       "  <thead>\n",
       "    <tr style=\"text-align: right;\">\n",
       "      <th></th>\n",
       "      <th>VisitID</th>\n",
       "      <th>Date</th>\n",
       "      <th>SessionDuration</th>\n",
       "      <th>PagesVisited</th>\n",
       "    </tr>\n",
       "  </thead>\n",
       "  <tbody>\n",
       "    <tr>\n",
       "      <th>count</th>\n",
       "      <td>10.00000</td>\n",
       "      <td>10</td>\n",
       "      <td>10.000000</td>\n",
       "      <td>10.000000</td>\n",
       "    </tr>\n",
       "    <tr>\n",
       "      <th>mean</th>\n",
       "      <td>5.50000</td>\n",
       "      <td>2023-07-05 12:00:00</td>\n",
       "      <td>247.000000</td>\n",
       "      <td>4.400000</td>\n",
       "    </tr>\n",
       "    <tr>\n",
       "      <th>min</th>\n",
       "      <td>1.00000</td>\n",
       "      <td>2023-07-01 00:00:00</td>\n",
       "      <td>120.000000</td>\n",
       "      <td>3.000000</td>\n",
       "    </tr>\n",
       "    <tr>\n",
       "      <th>25%</th>\n",
       "      <td>3.25000</td>\n",
       "      <td>2023-07-03 06:00:00</td>\n",
       "      <td>195.000000</td>\n",
       "      <td>3.250000</td>\n",
       "    </tr>\n",
       "    <tr>\n",
       "      <th>50%</th>\n",
       "      <td>5.50000</td>\n",
       "      <td>2023-07-05 12:00:00</td>\n",
       "      <td>230.000000</td>\n",
       "      <td>4.000000</td>\n",
       "    </tr>\n",
       "    <tr>\n",
       "      <th>75%</th>\n",
       "      <td>7.75000</td>\n",
       "      <td>2023-07-07 18:00:00</td>\n",
       "      <td>290.000000</td>\n",
       "      <td>5.000000</td>\n",
       "    </tr>\n",
       "    <tr>\n",
       "      <th>max</th>\n",
       "      <td>10.00000</td>\n",
       "      <td>2023-07-10 00:00:00</td>\n",
       "      <td>400.000000</td>\n",
       "      <td>7.000000</td>\n",
       "    </tr>\n",
       "    <tr>\n",
       "      <th>std</th>\n",
       "      <td>3.02765</td>\n",
       "      <td>NaN</td>\n",
       "      <td>83.672643</td>\n",
       "      <td>1.349897</td>\n",
       "    </tr>\n",
       "  </tbody>\n",
       "</table>\n",
       "</div>"
      ],
      "text/plain": [
       "        VisitID                 Date  SessionDuration  PagesVisited\n",
       "count  10.00000                   10        10.000000     10.000000\n",
       "mean    5.50000  2023-07-05 12:00:00       247.000000      4.400000\n",
       "min     1.00000  2023-07-01 00:00:00       120.000000      3.000000\n",
       "25%     3.25000  2023-07-03 06:00:00       195.000000      3.250000\n",
       "50%     5.50000  2023-07-05 12:00:00       230.000000      4.000000\n",
       "75%     7.75000  2023-07-07 18:00:00       290.000000      5.000000\n",
       "max    10.00000  2023-07-10 00:00:00       400.000000      7.000000\n",
       "std     3.02765                  NaN        83.672643      1.349897"
      ]
     },
     "execution_count": 9,
     "metadata": {},
     "output_type": "execute_result"
    }
   ],
   "source": [
    "# Descriptive Statistics\n",
    "df.describe()"
   ]
  },
  {
   "cell_type": "code",
   "execution_count": 10,
   "id": "5461d48e",
   "metadata": {},
   "outputs": [
    {
     "data": {
      "application/vnd.microsoft.datawrangler.viewer.v0+json": {
       "columns": [
        {
         "name": "index",
         "rawType": "object",
         "type": "string"
        },
        {
         "name": "0",
         "rawType": "int64",
         "type": "integer"
        }
       ],
       "ref": "10e1acd4-e3ad-4eeb-aaa0-e3772feb2300",
       "rows": [
        [
         "VisitID",
         "0"
        ],
        [
         "Date",
         "0"
        ],
        [
         "UserType",
         "0"
        ],
        [
         "Device",
         "0"
        ],
        [
         "SessionDuration",
         "0"
        ],
        [
         "PagesVisited",
         "0"
        ]
       ],
       "shape": {
        "columns": 1,
        "rows": 6
       }
      },
      "text/plain": [
       "VisitID            0\n",
       "Date               0\n",
       "UserType           0\n",
       "Device             0\n",
       "SessionDuration    0\n",
       "PagesVisited       0\n",
       "dtype: int64"
      ]
     },
     "execution_count": 10,
     "metadata": {},
     "output_type": "execute_result"
    }
   ],
   "source": [
    "# Missing Values\n",
    "df.isnull().sum()"
   ]
  },
  {
   "cell_type": "markdown",
   "id": "8ab5eada",
   "metadata": {},
   "source": [
    "### DATA VISUALIZATION"
   ]
  },
  {
   "cell_type": "code",
   "execution_count": 11,
   "id": "0a9c4cea",
   "metadata": {},
   "outputs": [
    {
     "data": {
      "text/plain": [
       "Index(['VisitID', 'Date', 'UserType', 'Device', 'SessionDuration',\n",
       "       'PagesVisited'],\n",
       "      dtype='object')"
      ]
     },
     "execution_count": 11,
     "metadata": {},
     "output_type": "execute_result"
    }
   ],
   "source": [
    "df.columns"
   ]
  },
  {
   "cell_type": "code",
   "execution_count": 13,
   "id": "e7258616",
   "metadata": {},
   "outputs": [
    {
     "data": {
      "image/png": "[encoded data removed]",
      "text/plain": [
       "<Figure size 640x480 with 1 Axes>"
      ]
     },
     "metadata": {},
     "output_type": "display_data"
    }
   ],
   "source": [
    "# Session duration by device boxplot sns\n",
    "sns.boxplot(x=\"Device\",y=\"SessionDuration\",data=df)\n",
    "plt.title(\"Session Duration by Device\")\n",
    "plt.show()"
   ]
  },
  {
   "cell_type": "code",
   "execution_count": 38,
   "id": "24a1c9ac",
   "metadata": {},
   "outputs": [
    {
     "data": {
      "image/png": "[encoded data removed]",
      "text/plain": [
       "<Figure size 640x480 with 1 Axes>"
      ]
     },
     "metadata": {},
     "output_type": "display_data"
    }
   ],
   "source": [
    "# Page visited by user types barplot with Device distribution in legend\n",
    "grouped = df.groupby([\"UserType\", \"Device\"])[\"PagesVisited\"].sum().reset_index()\n",
    "sns.barplot(x=\"UserType\",y=\"PagesVisited\",data=grouped,hue=\"Device\")\n",
    "plt.title(\"Pages Visited by User Types\")\n",
    "plt.show()"
   ]
  },
  {
   "cell_type": "code",
   "execution_count": 21,
   "id": "bd1075c8",
   "metadata": {},
   "outputs": [
    {
     "data": {
      "image/png": "[encoded data removed]",
      "text/plain": [
       "<Figure size 1000x500 with 1 Axes>"
      ]
     },
     "metadata": {},
     "output_type": "display_data"
    }
   ],
   "source": [
    "# Group data by date and analyze daily trend\n",
    "df.groupby(\"Date\")[\"PagesVisited\"].sum().plot(kind=\"line\",figsize=(10,5))\n",
    "plt.title(\"Pages Visited by Date\")\n",
    "plt.show()"
   ]
  },
  {
   "cell_type": "code",
   "execution_count": 22,
   "id": "23bb9c37",
   "metadata": {},
   "outputs": [
    {
     "data": {
      "image/png": "[encoded data removed]",
      "text/plain": [
       "<Figure size 640x480 with 1 Axes>"
      ]
     },
     "metadata": {},
     "output_type": "display_data"
    }
   ],
   "source": [
    "# Piechart of device distribution\n",
    "df[\"Device\"].value_counts().plot(kind=\"pie\",autopct=\"%1.1f%%\")\n",
    "plt.title(\"Device Distribution\")\n",
    "plt.show()"
   ]
  },
  {
   "cell_type": "code",
   "execution_count": 23,
   "id": "c0fa10a7",
   "metadata": {},
   "outputs": [
    {
     "data": {
      "application/vnd.microsoft.datawrangler.viewer.v0+json": {
       "columns": [
        {
         "name": "Device",
         "rawType": "object",
         "type": "string"
        },
        {
         "name": "PagesVisited",
         "rawType": "float64",
         "type": "float"
        }
       ],
       "ref": "d956c6d5-72c9-4f0e-8adc-7f26313d190e",
       "rows": [
        [
         "Desktop",
         "6.0"
        ],
        [
         "Mobile",
         "3.5"
        ],
        [
         "Tablet",
         "4.0"
        ]
       ],
       "shape": {
        "columns": 1,
        "rows": 3
       }
      },
      "text/plain": [
       "Device\n",
       "Desktop    6.0\n",
       "Mobile     3.5\n",
       "Tablet     4.0\n",
       "Name: PagesVisited, dtype: float64"
      ]
     },
     "execution_count": 23,
     "metadata": {},
     "output_type": "execute_result"
    }
   ],
   "source": [
    "# Comparing the avg pages visited by device type\n",
    "df.groupby(\"Device\")[\"PagesVisited\"].mean()"
   ]
  },
  {
   "cell_type": "code",
   "execution_count": 26,
   "id": "827c48b0",
   "metadata": {},
   "outputs": [
    {
     "data": {
      "application/vnd.microsoft.datawrangler.viewer.v0+json": {
       "columns": [
        {
         "name": "index",
         "rawType": "int64",
         "type": "integer"
        },
        {
         "name": "VisitID",
         "rawType": "int64",
         "type": "integer"
        },
        {
         "name": "Date",
         "rawType": "datetime64[ns]",
         "type": "datetime"
        },
        {
         "name": "UserType",
         "rawType": "object",
         "type": "string"
        },
        {
         "name": "Device",
         "rawType": "object",
         "type": "string"
        },
        {
         "name": "SessionDuration",
         "rawType": "int64",
         "type": "integer"
        },
        {
         "name": "PagesVisited",
         "rawType": "int64",
         "type": "integer"
        }
       ],
       "ref": "750122a5-a0d0-4101-ae67-bf660cb7b0c3",
       "rows": [
        [
         "0",
         "1",
         "2023-07-01 00:00:00",
         "New",
         "Mobile",
         "120",
         "3"
        ],
        [
         "1",
         "2",
         "2023-07-02 00:00:00",
         "Returning",
         "Desktop",
         "300",
         "5"
        ],
        [
         "2",
         "3",
         "2023-07-03 00:00:00",
         "New",
         "Tablet",
         "240",
         "4"
        ],
        [
         "3",
         "4",
         "2023-07-04 00:00:00",
         "Returning",
         "Mobile",
         "180",
         "3"
        ],
        [
         "4",
         "5",
         "2023-07-05 00:00:00",
         "New",
         "Desktop",
         "350",
         "6"
        ],
        [
         "5",
         "6",
         "2023-07-06 00:00:00",
         "Returning",
         "Tablet",
         "260",
         "4"
        ],
        [
         "6",
         "7",
         "2023-07-07 00:00:00",
         "New",
         "Mobile",
         "190",
         "3"
        ],
        [
         "7",
         "8",
         "2023-07-08 00:00:00",
         "Returning",
         "Desktop",
         "400",
         "7"
        ],
        [
         "8",
         "9",
         "2023-07-09 00:00:00",
         "New",
         "Tablet",
         "210",
         "4"
        ],
        [
         "9",
         "10",
         "2023-07-10 00:00:00",
         "Returning",
         "Mobile",
         "220",
         "5"
        ]
       ],
       "shape": {
        "columns": 6,
        "rows": 10
       }
      },
      "text/html": [
       "<div>\n",
       "<style scoped>\n",
       "    .dataframe tbody tr th:only-of-type {\n",
       "        vertical-align: middle;\n",
       "    }\n",
       "\n",
       "    .dataframe tbody tr th {\n",
       "        vertical-align: top;\n",
       "    }\n",
       "\n",
       "    .dataframe thead th {\n",
       "        text-align: right;\n",
       "    }\n",
       "</style>\n",
       "<table border=\"1\" class=\"dataframe\">\n",
       "  <thead>\n",
       "    <tr style=\"text-align: right;\">\n",
       "      <th></th>\n",
       "      <th>VisitID</th>\n",
       "      <th>Date</th>\n",
       "      <th>UserType</th>\n",
       "      <th>Device</th>\n",
       "      <th>SessionDuration</th>\n",
       "      <th>PagesVisited</th>\n",
       "    </tr>\n",
       "  </thead>\n",
       "  <tbody>\n",
       "    <tr>\n",
       "      <th>0</th>\n",
       "      <td>1</td>\n",
       "      <td>2023-07-01</td>\n",
       "      <td>New</td>\n",
       "      <td>Mobile</td>\n",
       "      <td>120</td>\n",
       "      <td>3</td>\n",
       "    </tr>\n",
       "    <tr>\n",
       "      <th>1</th>\n",
       "      <td>2</td>\n",
       "      <td>2023-07-02</td>\n",
       "      <td>Returning</td>\n",
       "      <td>Desktop</td>\n",
       "      <td>300</td>\n",
       "      <td>5</td>\n",
       "    </tr>\n",
       "    <tr>\n",
       "      <th>2</th>\n",
       "      <td>3</td>\n",
       "      <td>2023-07-03</td>\n",
       "      <td>New</td>\n",
       "      <td>Tablet</td>\n",
       "      <td>240</td>\n",
       "      <td>4</td>\n",
       "    </tr>\n",
       "    <tr>\n",
       "      <th>3</th>\n",
       "      <td>4</td>\n",
       "      <td>2023-07-04</td>\n",
       "      <td>Returning</td>\n",
       "      <td>Mobile</td>\n",
       "      <td>180</td>\n",
       "      <td>3</td>\n",
       "    </tr>\n",
       "    <tr>\n",
       "      <th>4</th>\n",
       "      <td>5</td>\n",
       "      <td>2023-07-05</td>\n",
       "      <td>New</td>\n",
       "      <td>Desktop</td>\n",
       "      <td>350</td>\n",
       "      <td>6</td>\n",
       "    </tr>\n",
       "    <tr>\n",
       "      <th>5</th>\n",
       "      <td>6</td>\n",
       "      <td>2023-07-06</td>\n",
       "      <td>Returning</td>\n",
       "      <td>Tablet</td>\n",
       "      <td>260</td>\n",
       "      <td>4</td>\n",
       "    </tr>\n",
       "    <tr>\n",
       "      <th>6</th>\n",
       "      <td>7</td>\n",
       "      <td>2023-07-07</td>\n",
       "      <td>New</td>\n",
       "      <td>Mobile</td>\n",
       "      <td>190</td>\n",
       "      <td>3</td>\n",
       "    </tr>\n",
       "    <tr>\n",
       "      <th>7</th>\n",
       "      <td>8</td>\n",
       "      <td>2023-07-08</td>\n",
       "      <td>Returning</td>\n",
       "      <td>Desktop</td>\n",
       "      <td>400</td>\n",
       "      <td>7</td>\n",
       "    </tr>\n",
       "    <tr>\n",
       "      <th>8</th>\n",
       "      <td>9</td>\n",
       "      <td>2023-07-09</td>\n",
       "      <td>New</td>\n",
       "      <td>Tablet</td>\n",
       "      <td>210</td>\n",
       "      <td>4</td>\n",
       "    </tr>\n",
       "    <tr>\n",
       "      <th>9</th>\n",
       "      <td>10</td>\n",
       "      <td>2023-07-10</td>\n",
       "      <td>Returning</td>\n",
       "      <td>Mobile</td>\n",
       "      <td>220</td>\n",
       "      <td>5</td>\n",
       "    </tr>\n",
       "  </tbody>\n",
       "</table>\n",
       "</div>"
      ],
      "text/plain": [
       "   VisitID       Date   UserType   Device  SessionDuration  PagesVisited\n",
       "0        1 2023-07-01        New   Mobile              120             3\n",
       "1        2 2023-07-02  Returning  Desktop              300             5\n",
       "2        3 2023-07-03        New   Tablet              240             4\n",
       "3        4 2023-07-04  Returning   Mobile              180             3\n",
       "4        5 2023-07-05        New  Desktop              350             6\n",
       "5        6 2023-07-06  Returning   Tablet              260             4\n",
       "6        7 2023-07-07        New   Mobile              190             3\n",
       "7        8 2023-07-08  Returning  Desktop              400             7\n",
       "8        9 2023-07-09        New   Tablet              210             4\n",
       "9       10 2023-07-10  Returning   Mobile              220             5"
      ]
     },
     "execution_count": 26,
     "metadata": {},
     "output_type": "execute_result"
    }
   ],
   "source": [
    "df"
   ]
  },
  {
   "cell_type": "code",
   "execution_count": 28,
   "id": "4a55e1da",
   "metadata": {},
   "outputs": [
    {
     "data": {
      "application/vnd.microsoft.datawrangler.viewer.v0+json": {
       "columns": [
        {
         "name": "Date",
         "rawType": "datetime64[ns]",
         "type": "datetime"
        },
        {
         "name": "PagesVisited",
         "rawType": "int64",
         "type": "integer"
        }
       ],
       "ref": "c4b6a2e7-809e-488e-803f-3b7fb36bceb8",
       "rows": [
        [
         "2023-07-08 00:00:00",
         "7"
        ],
        [
         "2023-07-05 00:00:00",
         "6"
        ],
        [
         "2023-07-02 00:00:00",
         "5"
        ],
        [
         "2023-07-10 00:00:00",
         "5"
        ],
        [
         "2023-07-03 00:00:00",
         "4"
        ],
        [
         "2023-07-06 00:00:00",
         "4"
        ],
        [
         "2023-07-09 00:00:00",
         "4"
        ],
        [
         "2023-07-01 00:00:00",
         "3"
        ],
        [
         "2023-07-04 00:00:00",
         "3"
        ],
        [
         "2023-07-07 00:00:00",
         "3"
        ]
       ],
       "shape": {
        "columns": 1,
        "rows": 10
       }
      },
      "text/plain": [
       "Date\n",
       "2023-07-08    7\n",
       "2023-07-05    6\n",
       "2023-07-02    5\n",
       "2023-07-10    5\n",
       "2023-07-03    4\n",
       "2023-07-06    4\n",
       "2023-07-09    4\n",
       "2023-07-01    3\n",
       "2023-07-04    3\n",
       "2023-07-07    3\n",
       "Name: PagesVisited, dtype: int64"
      ]
     },
     "execution_count": 28,
     "metadata": {},
     "output_type": "execute_result"
    }
   ],
   "source": [
    "# Peak Traffic days in descending order\n",
    "df.groupby(\"Date\")[\"PagesVisited\"].sum().sort_values(ascending=False)"
   ]
  },
  {
   "cell_type": "markdown",
   "id": "01b5aa95",
   "metadata": {},
   "source": [
    "### CONCLUSIONS"
   ]
  },
  {
   "cell_type": "markdown",
   "id": "f74899d7",
   "metadata": {},
   "source": [
    "### 1.Which device performs better ?"
   ]
  },
  {
   "cell_type": "markdown",
   "id": "73993958",
   "metadata": {},
   "source": [
    "### Desktop devices have the longest median session duration, indicating that users spend more time on desktops compared to mobile and tablet devices."
   ]
  },
  {
   "cell_type": "markdown",
   "id": "1c127dd2",
   "metadata": {},
   "source": [
    "### 2.Are new or returning users more engaged?"
   ]
  },
  {
   "cell_type": "markdown",
   "id": "915aeb17",
   "metadata": {},
   "source": [
    "### Returning users are more engaged than new users across all devices.And Returning Users are more interested in Desktop and mobile but New User are intrested in tablets"
   ]
  },
  {
   "cell_type": "markdown",
   "id": "ad6bb4ae",
   "metadata": {},
   "source": [
    "### 3.Any noticeable trends over time?"
   ]
  },
  {
   "cell_type": "markdown",
   "id": "0986330f",
   "metadata": {},
   "source": [
    "### The line chart shows the number of pages visited over a period from July 1 to July 10, 2023.\n",
    "Trends :\n",
    "There is significant variability in the number of pages visited each day.\n",
    "The highest number of pages visited occurs on July 8 (~7 pages).\n",
    "The lowest number of pages visited occurs on July 7 (~3 pages)."
   ]
  },
  {
   "cell_type": "markdown",
   "id": "67326af1",
   "metadata": {},
   "source": []
  }
 ],
 "metadata": {
  "kernelspec": {
   "display_name": "base",
   "language": "python",
   "name": "python3"
  },
  "language_info": {
   "codemirror_mode": {
    "name": "ipython",
    "version": 3
   },
   "file_extension": ".py",
   "mimetype": "text/x-python",
   "name": "python",
   "nbconvert_exporter": "python",
   "pygments_lexer": "ipython3",
   "version": "3.11.5"
  }
 },
 "nbformat": 4,
 "nbformat_minor": 5
}
