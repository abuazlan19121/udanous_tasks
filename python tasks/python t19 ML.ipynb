{
 "cells": [
  {
   "cell_type": "markdown",
   "id": "9f80146b-f0a6-4e73-90d9-6408aae0dc0e",
   "metadata": {},
   "source": [
    "### Machine Learning"
   ]
  },
  {
   "cell_type": "code",
   "execution_count": 1,
   "id": "9b73ffea-dad8-45e4-99e5-8c806a666fa1",
   "metadata": {
    "tags": []
   },
   "outputs": [],
   "source": [
    "# importing required libraries\n",
    "import pandas as pd\n",
    "import numpy as np"
   ]
  },
  {
   "cell_type": "code",
   "execution_count": 3,
   "id": "e5dec073-f952-43ff-b173-348ec1984e13",
   "metadata": {
    "tags": []
   },
   "outputs": [
    {
     "data": {
      "text/html": [
       "<div>\n",
       "<style scoped>\n",
       "    .dataframe tbody tr th:only-of-type {\n",
       "        vertical-align: middle;\n",
       "    }\n",
       "\n",
       "    .dataframe tbody tr th {\n",
       "        vertical-align: top;\n",
       "    }\n",
       "\n",
       "    .dataframe thead th {\n",
       "        text-align: right;\n",
       "    }\n",
       "</style>\n",
       "<table border=\"1\" class=\"dataframe\">\n",
       "  <thead>\n",
       "    <tr style=\"text-align: right;\">\n",
       "      <th></th>\n",
       "      <th>EmployeeID</th>\n",
       "      <th>gender</th>\n",
       "      <th>department</th>\n",
       "      <th>Days Present</th>\n",
       "      <th>Accuracy of Work</th>\n",
       "      <th>Meeting Project Deadlines</th>\n",
       "      <th>Task Completion Rates</th>\n",
       "      <th>Interpersonal Skills Rating</th>\n",
       "      <th>Decision-Making Skills Rating</th>\n",
       "      <th>Sales Revenue Generated</th>\n",
       "      <th>churned</th>\n",
       "    </tr>\n",
       "  </thead>\n",
       "  <tbody>\n",
       "    <tr>\n",
       "      <th>0</th>\n",
       "      <td>1</td>\n",
       "      <td>Male</td>\n",
       "      <td>Sales</td>\n",
       "      <td>20</td>\n",
       "      <td>High</td>\n",
       "      <td>Yes</td>\n",
       "      <td>85</td>\n",
       "      <td>8</td>\n",
       "      <td>7</td>\n",
       "      <td>51638</td>\n",
       "      <td>No</td>\n",
       "    </tr>\n",
       "    <tr>\n",
       "      <th>1</th>\n",
       "      <td>2</td>\n",
       "      <td>Female</td>\n",
       "      <td>Marketing</td>\n",
       "      <td>22</td>\n",
       "      <td>Medium</td>\n",
       "      <td>Yes</td>\n",
       "      <td>90</td>\n",
       "      <td>7</td>\n",
       "      <td>6</td>\n",
       "      <td>97797</td>\n",
       "      <td>Yes</td>\n",
       "    </tr>\n",
       "    <tr>\n",
       "      <th>2</th>\n",
       "      <td>3</td>\n",
       "      <td>Male</td>\n",
       "      <td>Human Resources</td>\n",
       "      <td>25</td>\n",
       "      <td>High</td>\n",
       "      <td>No</td>\n",
       "      <td>80</td>\n",
       "      <td>9</td>\n",
       "      <td>8</td>\n",
       "      <td>95341</td>\n",
       "      <td>No</td>\n",
       "    </tr>\n",
       "    <tr>\n",
       "      <th>3</th>\n",
       "      <td>4</td>\n",
       "      <td>Male</td>\n",
       "      <td>Engineering</td>\n",
       "      <td>19</td>\n",
       "      <td>Low</td>\n",
       "      <td>Yes</td>\n",
       "      <td>75</td>\n",
       "      <td>6</td>\n",
       "      <td>5</td>\n",
       "      <td>91806</td>\n",
       "      <td>No</td>\n",
       "    </tr>\n",
       "    <tr>\n",
       "      <th>4</th>\n",
       "      <td>5</td>\n",
       "      <td>Female</td>\n",
       "      <td>Finance</td>\n",
       "      <td>23</td>\n",
       "      <td>Medium</td>\n",
       "      <td>Yes</td>\n",
       "      <td>85</td>\n",
       "      <td>7</td>\n",
       "      <td>7</td>\n",
       "      <td>64247</td>\n",
       "      <td>Yes</td>\n",
       "    </tr>\n",
       "  </tbody>\n",
       "</table>\n",
       "</div>"
      ],
      "text/plain": [
       "   EmployeeID  gender       department  Days Present Accuracy of Work  \\\n",
       "0           1    Male            Sales            20             High   \n",
       "1           2  Female        Marketing            22           Medium   \n",
       "2           3    Male  Human Resources            25             High   \n",
       "3           4    Male      Engineering            19              Low   \n",
       "4           5  Female          Finance            23           Medium   \n",
       "\n",
       "  Meeting Project Deadlines  Task Completion Rates  \\\n",
       "0                       Yes                     85   \n",
       "1                       Yes                     90   \n",
       "2                        No                     80   \n",
       "3                       Yes                     75   \n",
       "4                       Yes                     85   \n",
       "\n",
       "   Interpersonal Skills Rating  Decision-Making Skills Rating  \\\n",
       "0                            8                              7   \n",
       "1                            7                              6   \n",
       "2                            9                              8   \n",
       "3                            6                              5   \n",
       "4                            7                              7   \n",
       "\n",
       "   Sales Revenue Generated churned  \n",
       "0                    51638      No  \n",
       "1                    97797     Yes  \n",
       "2                    95341      No  \n",
       "3                    91806      No  \n",
       "4                    64247     Yes  "
      ]
     },
     "execution_count": 3,
     "metadata": {},
     "output_type": "execute_result"
    }
   ],
   "source": [
    "df = pd.read_excel(r\"C:\\Users\\HP\\Downloads\\practice_data.xlsx\")\n",
    "df.head()"
   ]
  },
  {
   "cell_type": "code",
   "execution_count": 4,
   "id": "885062e1-43b5-429b-b1af-72875b67587e",
   "metadata": {
    "tags": []
   },
   "outputs": [],
   "source": [
    "from sklearn.model_selection import train_test_split\n",
    "from sklearn.linear_model import LogisticRegression\n",
    "from sklearn.tree import DecisionTreeClassifier\n",
    "from sklearn.ensemble import RandomForestClassifier\n",
    "from sklearn.metrics import accuracy_score, confusion_matrix"
   ]
  },
  {
   "cell_type": "code",
   "execution_count": 5,
   "id": "add42105-cfdb-4d9b-aaee-4437d1e3e3ff",
   "metadata": {
    "tags": []
   },
   "outputs": [],
   "source": [
    "# converting the categorical variables into dummies\n",
    "df = pd.get_dummies(df,drop_first=True)"
   ]
  },
  {
   "cell_type": "code",
   "execution_count": 6,
   "id": "f4652199-2c0f-4fd4-855f-40e5cc3d2a34",
   "metadata": {
    "tags": []
   },
   "outputs": [],
   "source": [
    "# Defining features x and y\n",
    "x = df.drop(['EmployeeID', 'Sales Revenue Generated', 'churned_Yes'], axis=1)\n",
    "y = df['churned_Yes']"
   ]
  },
  {
   "cell_type": "code",
   "execution_count": 8,
   "id": "273d9a2f-6a84-4a08-b9a3-c3a392e544be",
   "metadata": {
    "tags": []
   },
   "outputs": [],
   "source": [
    "# Split data into train and test sets\n",
    "X_train, X_test, y_train, y_test = train_test_split(x, y, test_size=0.2, random_state=42)"
   ]
  },
  {
   "cell_type": "markdown",
   "id": "76e610c1-b8ce-4f29-90d9-d620732bb828",
   "metadata": {},
   "source": [
    "#### Logistic Regression "
   ]
  },
  {
   "cell_type": "code",
   "execution_count": 10,
   "id": "9147ffa4-cd6b-4eaa-872a-ab1325a28bee",
   "metadata": {
    "tags": []
   },
   "outputs": [
    {
     "name": "stdout",
     "output_type": "stream",
     "text": [
      "Logistic Regression Accuracy: 1.0\n",
      "Confusion Matrix [[5 0]\n",
      " [0 2]]\n"
     ]
    },
    {
     "name": "stderr",
     "output_type": "stream",
     "text": [
      "C:\\Users\\HP\\anaconda3\\Lib\\site-packages\\sklearn\\linear_model\\_logistic.py:460: ConvergenceWarning: lbfgs failed to converge (status=1):\n",
      "STOP: TOTAL NO. of ITERATIONS REACHED LIMIT.\n",
      "\n",
      "Increase the number of iterations (max_iter) or scale the data as shown in:\n",
      "    https://scikit-learn.org/stable/modules/preprocessing.html\n",
      "Please also refer to the documentation for alternative solver options:\n",
      "    https://scikit-learn.org/stable/modules/linear_model.html#logistic-regression\n",
      "  n_iter_i = _check_optimize_result(\n"
     ]
    }
   ],
   "source": [
    "lr = LogisticRegression()\n",
    "lr.fit(X_train,y_train)\n",
    "y_pred_lr = lr.predict(X_test)\n",
    "print(\"Logistic Regression Accuracy:\", accuracy_score(y_test, y_pred_lr))\n",
    "print(\"Confusion Matrix\", confusion_matrix(y_test, y_pred_lr))"
   ]
  },
  {
   "cell_type": "markdown",
   "id": "7422ac01-d17d-4bd3-8450-1270fddded26",
   "metadata": {},
   "source": [
    "### Decision Tree"
   ]
  },
  {
   "cell_type": "code",
   "execution_count": 11,
   "id": "82c10fdd-d845-4164-8001-784f2e85e61a",
   "metadata": {
    "tags": []
   },
   "outputs": [
    {
     "name": "stdout",
     "output_type": "stream",
     "text": [
      "\n",
      "Decision Tree Accuracy: 1.0\n",
      "Confusion Matrix: [[5 0]\n",
      " [0 2]]\n"
     ]
    }
   ],
   "source": [
    "dt = DecisionTreeClassifier(random_state=42)\n",
    "dt.fit(X_train, y_train)\n",
    "y_pred_dt = dt.predict(X_test)\n",
    "print(\"\\nDecision Tree Accuracy:\", accuracy_score(y_test, y_pred_dt))\n",
    "print(\"Confusion Matrix:\", confusion_matrix(y_test, y_pred_dt))"
   ]
  },
  {
   "cell_type": "markdown",
   "id": "ec8d0cf1-77a1-4fa6-ba09-2fcd0dc4337c",
   "metadata": {},
   "source": [
    "### Random Forest"
   ]
  },
  {
   "cell_type": "code",
   "execution_count": 12,
   "id": "acee49d4-468d-4df9-a005-9bb70ec4454b",
   "metadata": {
    "tags": []
   },
   "outputs": [
    {
     "name": "stdout",
     "output_type": "stream",
     "text": [
      "\n",
      "Random Forest Accuracy: 1.0\n",
      "Confusion Matrix: [[5 0]\n",
      " [0 2]]\n"
     ]
    }
   ],
   "source": [
    "rf = RandomForestClassifier(n_estimators=100, random_state=42)\n",
    "rf.fit(X_train, y_train)\n",
    "y_pred_rf = rf.predict(X_test)\n",
    "print(\"\\nRandom Forest Accuracy:\", accuracy_score(y_test, y_pred_rf))\n",
    "print(\"Confusion Matrix:\", confusion_matrix(y_test, y_pred_rf))"
   ]
  },
  {
   "cell_type": "code",
   "execution_count": null,
   "id": "8bc42c1c-93f2-4728-8f94-b2d16ccc2373",
   "metadata": {},
   "outputs": [],
   "source": []
  }
 ],
 "metadata": {
  "kernelspec": {
   "display_name": "Python 3 (ipykernel)",
   "language": "python",
   "name": "python3"
  },
  "language_info": {
   "codemirror_mode": {
    "name": "ipython",
    "version": 3
   },
   "file_extension": ".py",
   "mimetype": "text/x-python",
   "name": "python",
   "nbconvert_exporter": "python",
   "pygments_lexer": "ipython3",
   "version": "3.11.5"
  }
 },
 "nbformat": 4,
 "nbformat_minor": 5
}
