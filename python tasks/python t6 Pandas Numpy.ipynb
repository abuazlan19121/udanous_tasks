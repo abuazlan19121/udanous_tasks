{
 "cells": [
  {
   "cell_type": "markdown",
   "id": "8ad2afa7",
   "metadata": {},
   "source": [
    "## Pandas And Numpy"
   ]
  },
  {
   "cell_type": "code",
   "execution_count": 5,
   "id": "829e62b1",
   "metadata": {},
   "outputs": [],
   "source": [
    "# importing the pandas and numpy library\n",
    "import pandas as pd\n",
    "import numpy as np\n",
    "from io import StringIO"
   ]
  },
  {
   "cell_type": "code",
   "execution_count": 23,
   "id": "166dc958",
   "metadata": {},
   "outputs": [
    {
     "data": {
      "application/vnd.microsoft.datawrangler.viewer.v0+json": {
       "columns": [
        {
         "name": "index",
         "rawType": "int64",
         "type": "integer"
        },
        {
         "name": "ID",
         "rawType": "object",
         "type": "string"
        },
        {
         "name": "Name",
         "rawType": "object",
         "type": "unknown"
        },
        {
         "name": "Age",
         "rawType": "object",
         "type": "unknown"
        },
        {
         "name": "Email",
         "rawType": "object",
         "type": "unknown"
        },
        {
         "name": "JoinDate",
         "rawType": "object",
         "type": "string"
        },
        {
         "name": "Salary",
         "rawType": "object",
         "type": "unknown"
        }
       ],
       "conversionMethod": "pd.DataFrame",
       "ref": "f8c527b1-b9c6-4714-ba5c-8909ddcfcee4",
       "rows": [
        [
         "0",
         "1",
         "Alice",
         "25",
         "alice@example.com",
         "2020-01-01",
         "50000"
        ],
        [
         "1",
         "2",
         "Bob",
         "30",
         "bob@example.com",
         "not a date",
         "60000"
        ],
        [
         "2",
         "2",
         "Bob",
         "30",
         "bob@example.com",
         "2020-02-01",
         "60000"
        ],
        [
         "3",
         "4",
         "Charlie",
         null,
         "charlie@",
         "2020-03-01",
         "70000"
        ],
        [
         "4",
         "5",
         "David",
         "Twenty-two",
         null,
         "2020-04-01",
         null
        ],
        [
         "5",
         "6",
         "Eve",
         "45",
         "eve@example",
         "2020-05-01",
         "90000"
        ],
        [
         "6",
         "7",
         "Frank",
         "50",
         "frank@@example.com",
         "2020/06/01",
         "100000"
        ],
        [
         "7",
         "8",
         "Grace",
         "55",
         "grace@example.com",
         "01-07-2020",
         "one lakh"
        ],
        [
         "8",
         "nine",
         "Heidi",
         "60",
         "heidi@example.com",
         "2020.08.01",
         "120000"
        ],
        [
         "9",
         "10",
         null,
         "65",
         "10@example.com",
         "2020-09-01",
         "130000"
        ]
       ],
       "shape": {
        "columns": 6,
        "rows": 10
       }
      },
      "text/html": [
       "<div>\n",
       "<style scoped>\n",
       "    .dataframe tbody tr th:only-of-type {\n",
       "        vertical-align: middle;\n",
       "    }\n",
       "\n",
       "    .dataframe tbody tr th {\n",
       "        vertical-align: top;\n",
       "    }\n",
       "\n",
       "    .dataframe thead th {\n",
       "        text-align: right;\n",
       "    }\n",
       "</style>\n",
       "<table border=\"1\" class=\"dataframe\">\n",
       "  <thead>\n",
       "    <tr style=\"text-align: right;\">\n",
       "      <th></th>\n",
       "      <th>ID</th>\n",
       "      <th>Name</th>\n",
       "      <th>Age</th>\n",
       "      <th>Email</th>\n",
       "      <th>JoinDate</th>\n",
       "      <th>Salary</th>\n",
       "    </tr>\n",
       "  </thead>\n",
       "  <tbody>\n",
       "    <tr>\n",
       "      <th>0</th>\n",
       "      <td>1</td>\n",
       "      <td>Alice</td>\n",
       "      <td>25</td>\n",
       "      <td>alice@example.com</td>\n",
       "      <td>2020-01-01</td>\n",
       "      <td>50000</td>\n",
       "    </tr>\n",
       "    <tr>\n",
       "      <th>1</th>\n",
       "      <td>2</td>\n",
       "      <td>Bob</td>\n",
       "      <td>30</td>\n",
       "      <td>bob@example.com</td>\n",
       "      <td>not a date</td>\n",
       "      <td>60000</td>\n",
       "    </tr>\n",
       "    <tr>\n",
       "      <th>2</th>\n",
       "      <td>2</td>\n",
       "      <td>Bob</td>\n",
       "      <td>30</td>\n",
       "      <td>bob@example.com</td>\n",
       "      <td>2020-02-01</td>\n",
       "      <td>60000</td>\n",
       "    </tr>\n",
       "    <tr>\n",
       "      <th>3</th>\n",
       "      <td>4</td>\n",
       "      <td>Charlie</td>\n",
       "      <td>NaN</td>\n",
       "      <td>charlie@</td>\n",
       "      <td>2020-03-01</td>\n",
       "      <td>70000</td>\n",
       "    </tr>\n",
       "    <tr>\n",
       "      <th>4</th>\n",
       "      <td>5</td>\n",
       "      <td>David</td>\n",
       "      <td>Twenty-two</td>\n",
       "      <td>NaN</td>\n",
       "      <td>2020-04-01</td>\n",
       "      <td>NaN</td>\n",
       "    </tr>\n",
       "    <tr>\n",
       "      <th>5</th>\n",
       "      <td>6</td>\n",
       "      <td>Eve</td>\n",
       "      <td>45</td>\n",
       "      <td>eve@example</td>\n",
       "      <td>2020-05-01</td>\n",
       "      <td>90000</td>\n",
       "    </tr>\n",
       "    <tr>\n",
       "      <th>6</th>\n",
       "      <td>7</td>\n",
       "      <td>Frank</td>\n",
       "      <td>50</td>\n",
       "      <td>frank@@example.com</td>\n",
       "      <td>2020/06/01</td>\n",
       "      <td>100000</td>\n",
       "    </tr>\n",
       "    <tr>\n",
       "      <th>7</th>\n",
       "      <td>8</td>\n",
       "      <td>Grace</td>\n",
       "      <td>55</td>\n",
       "      <td>grace@example.com</td>\n",
       "      <td>01-07-2020</td>\n",
       "      <td>one lakh</td>\n",
       "    </tr>\n",
       "    <tr>\n",
       "      <th>8</th>\n",
       "      <td>nine</td>\n",
       "      <td>Heidi</td>\n",
       "      <td>60</td>\n",
       "      <td>heidi@example.com</td>\n",
       "      <td>2020.08.01</td>\n",
       "      <td>120000</td>\n",
       "    </tr>\n",
       "    <tr>\n",
       "      <th>9</th>\n",
       "      <td>10</td>\n",
       "      <td>NaN</td>\n",
       "      <td>65</td>\n",
       "      <td>10@example.com</td>\n",
       "      <td>2020-09-01</td>\n",
       "      <td>130000</td>\n",
       "    </tr>\n",
       "  </tbody>\n",
       "</table>\n",
       "</div>"
      ],
      "text/plain": [
       "     ID     Name         Age               Email    JoinDate    Salary\n",
       "0     1    Alice          25   alice@example.com  2020-01-01     50000\n",
       "1     2      Bob          30     bob@example.com  not a date     60000\n",
       "2     2      Bob          30     bob@example.com  2020-02-01     60000\n",
       "3     4  Charlie         NaN            charlie@  2020-03-01     70000\n",
       "4     5    David  Twenty-two                 NaN  2020-04-01       NaN\n",
       "5     6      Eve          45         eve@example  2020-05-01     90000\n",
       "6     7    Frank          50  frank@@example.com  2020/06/01    100000\n",
       "7     8    Grace          55   grace@example.com  01-07-2020  one lakh\n",
       "8  nine    Heidi          60   heidi@example.com  2020.08.01    120000\n",
       "9    10      NaN          65      10@example.com  2020-09-01    130000"
      ]
     },
     "execution_count": 23,
     "metadata": {},
     "output_type": "execute_result"
    }
   ],
   "source": [
    "# import data in pandas dataframe\n",
    "df = pd.read_csv(r\"C:\\Users\\HP\\Downloads\\Messy data set.csv\")\n",
    "df"
   ]
  },
  {
   "cell_type": "code",
   "execution_count": 24,
   "id": "ea50e602",
   "metadata": {},
   "outputs": [
    {
     "data": {
      "application/vnd.microsoft.datawrangler.viewer.v0+json": {
       "columns": [
        {
         "name": "index",
         "rawType": "int64",
         "type": "integer"
        },
        {
         "name": "ID",
         "rawType": "float64",
         "type": "float"
        },
        {
         "name": "Name",
         "rawType": "object",
         "type": "unknown"
        },
        {
         "name": "Age",
         "rawType": "float64",
         "type": "float"
        },
        {
         "name": "Email",
         "rawType": "object",
         "type": "unknown"
        },
        {
         "name": "JoinDate",
         "rawType": "object",
         "type": "string"
        },
        {
         "name": "Salary",
         "rawType": "float64",
         "type": "float"
        }
       ],
       "conversionMethod": "pd.DataFrame",
       "ref": "320a2658-f4f9-4972-9186-2af21d2d0e93",
       "rows": [
        [
         "0",
         "1.0",
         "Alice",
         "25.0",
         "alice@example.com",
         "2020-01-01",
         "50000.0"
        ],
        [
         "1",
         "2.0",
         "Bob",
         "30.0",
         "bob@example.com",
         "not a date",
         "60000.0"
        ],
        [
         "2",
         "2.0",
         "Bob",
         "30.0",
         "bob@example.com",
         "2020-02-01",
         "60000.0"
        ],
        [
         "3",
         "4.0",
         "Charlie",
         null,
         "charlie@",
         "2020-03-01",
         "70000.0"
        ],
        [
         "4",
         "5.0",
         "David",
         null,
         null,
         "2020-04-01",
         null
        ],
        [
         "5",
         "6.0",
         "Eve",
         "45.0",
         "eve@example",
         "2020-05-01",
         "90000.0"
        ],
        [
         "6",
         "7.0",
         "Frank",
         "50.0",
         "frank@@example.com",
         "2020/06/01",
         "100000.0"
        ],
        [
         "7",
         "8.0",
         "Grace",
         "55.0",
         "grace@example.com",
         "01-07-2020",
         null
        ],
        [
         "8",
         null,
         "Heidi",
         "60.0",
         "heidi@example.com",
         "2020.08.01",
         "120000.0"
        ],
        [
         "9",
         "10.0",
         null,
         "65.0",
         "10@example.com",
         "2020-09-01",
         "130000.0"
        ]
       ],
       "shape": {
        "columns": 6,
        "rows": 10
       }
      },
      "text/html": [
       "<div>\n",
       "<style scoped>\n",
       "    .dataframe tbody tr th:only-of-type {\n",
       "        vertical-align: middle;\n",
       "    }\n",
       "\n",
       "    .dataframe tbody tr th {\n",
       "        vertical-align: top;\n",
       "    }\n",
       "\n",
       "    .dataframe thead th {\n",
       "        text-align: right;\n",
       "    }\n",
       "</style>\n",
       "<table border=\"1\" class=\"dataframe\">\n",
       "  <thead>\n",
       "    <tr style=\"text-align: right;\">\n",
       "      <th></th>\n",
       "      <th>ID</th>\n",
       "      <th>Name</th>\n",
       "      <th>Age</th>\n",
       "      <th>Email</th>\n",
       "      <th>JoinDate</th>\n",
       "      <th>Salary</th>\n",
       "    </tr>\n",
       "  </thead>\n",
       "  <tbody>\n",
       "    <tr>\n",
       "      <th>0</th>\n",
       "      <td>1.0</td>\n",
       "      <td>Alice</td>\n",
       "      <td>25.0</td>\n",
       "      <td>alice@example.com</td>\n",
       "      <td>2020-01-01</td>\n",
       "      <td>50000.0</td>\n",
       "    </tr>\n",
       "    <tr>\n",
       "      <th>1</th>\n",
       "      <td>2.0</td>\n",
       "      <td>Bob</td>\n",
       "      <td>30.0</td>\n",
       "      <td>bob@example.com</td>\n",
       "      <td>not a date</td>\n",
       "      <td>60000.0</td>\n",
       "    </tr>\n",
       "    <tr>\n",
       "      <th>2</th>\n",
       "      <td>2.0</td>\n",
       "      <td>Bob</td>\n",
       "      <td>30.0</td>\n",
       "      <td>bob@example.com</td>\n",
       "      <td>2020-02-01</td>\n",
       "      <td>60000.0</td>\n",
       "    </tr>\n",
       "    <tr>\n",
       "      <th>3</th>\n",
       "      <td>4.0</td>\n",
       "      <td>Charlie</td>\n",
       "      <td>NaN</td>\n",
       "      <td>charlie@</td>\n",
       "      <td>2020-03-01</td>\n",
       "      <td>70000.0</td>\n",
       "    </tr>\n",
       "    <tr>\n",
       "      <th>4</th>\n",
       "      <td>5.0</td>\n",
       "      <td>David</td>\n",
       "      <td>NaN</td>\n",
       "      <td>NaN</td>\n",
       "      <td>2020-04-01</td>\n",
       "      <td>NaN</td>\n",
       "    </tr>\n",
       "    <tr>\n",
       "      <th>5</th>\n",
       "      <td>6.0</td>\n",
       "      <td>Eve</td>\n",
       "      <td>45.0</td>\n",
       "      <td>eve@example</td>\n",
       "      <td>2020-05-01</td>\n",
       "      <td>90000.0</td>\n",
       "    </tr>\n",
       "    <tr>\n",
       "      <th>6</th>\n",
       "      <td>7.0</td>\n",
       "      <td>Frank</td>\n",
       "      <td>50.0</td>\n",
       "      <td>frank@@example.com</td>\n",
       "      <td>2020/06/01</td>\n",
       "      <td>100000.0</td>\n",
       "    </tr>\n",
       "    <tr>\n",
       "      <th>7</th>\n",
       "      <td>8.0</td>\n",
       "      <td>Grace</td>\n",
       "      <td>55.0</td>\n",
       "      <td>grace@example.com</td>\n",
       "      <td>01-07-2020</td>\n",
       "      <td>NaN</td>\n",
       "    </tr>\n",
       "    <tr>\n",
       "      <th>8</th>\n",
       "      <td>NaN</td>\n",
       "      <td>Heidi</td>\n",
       "      <td>60.0</td>\n",
       "      <td>heidi@example.com</td>\n",
       "      <td>2020.08.01</td>\n",
       "      <td>120000.0</td>\n",
       "    </tr>\n",
       "    <tr>\n",
       "      <th>9</th>\n",
       "      <td>10.0</td>\n",
       "      <td>NaN</td>\n",
       "      <td>65.0</td>\n",
       "      <td>10@example.com</td>\n",
       "      <td>2020-09-01</td>\n",
       "      <td>130000.0</td>\n",
       "    </tr>\n",
       "  </tbody>\n",
       "</table>\n",
       "</div>"
      ],
      "text/plain": [
       "     ID     Name   Age               Email    JoinDate    Salary\n",
       "0   1.0    Alice  25.0   alice@example.com  2020-01-01   50000.0\n",
       "1   2.0      Bob  30.0     bob@example.com  not a date   60000.0\n",
       "2   2.0      Bob  30.0     bob@example.com  2020-02-01   60000.0\n",
       "3   4.0  Charlie   NaN            charlie@  2020-03-01   70000.0\n",
       "4   5.0    David   NaN                 NaN  2020-04-01       NaN\n",
       "5   6.0      Eve  45.0         eve@example  2020-05-01   90000.0\n",
       "6   7.0    Frank  50.0  frank@@example.com  2020/06/01  100000.0\n",
       "7   8.0    Grace  55.0   grace@example.com  01-07-2020       NaN\n",
       "8   NaN    Heidi  60.0   heidi@example.com  2020.08.01  120000.0\n",
       "9  10.0      NaN  65.0      10@example.com  2020-09-01  130000.0"
      ]
     },
     "execution_count": 24,
     "metadata": {},
     "output_type": "execute_result"
    }
   ],
   "source": [
    "# changing the data type of id,age,salary\n",
    "df['ID'] = pd.to_numeric(df['ID'], errors='coerce')\n",
    "df['Age'] = pd.to_numeric(df['Age'], errors='coerce')\n",
    "df['Salary'] = pd.to_numeric(df['Salary'], errors='coerce')\n",
    "df"
   ]
  },
  {
   "cell_type": "code",
   "execution_count": 25,
   "id": "e478ed4b",
   "metadata": {},
   "outputs": [
    {
     "data": {
      "text/plain": [
       "ID          float64\n",
       "Name         object\n",
       "Age         float64\n",
       "Email        object\n",
       "JoinDate     object\n",
       "Salary      float64\n",
       "dtype: object"
      ]
     },
     "execution_count": 25,
     "metadata": {},
     "output_type": "execute_result"
    }
   ],
   "source": [
    "# data type\n",
    "df.dtypes"
   ]
  },
  {
   "cell_type": "code",
   "execution_count": 26,
   "id": "ddc72b53",
   "metadata": {},
   "outputs": [
    {
     "data": {
      "text/plain": [
       "ID          1\n",
       "Name        1\n",
       "Age         2\n",
       "Email       1\n",
       "JoinDate    0\n",
       "Salary      2\n",
       "dtype: int64"
      ]
     },
     "execution_count": 26,
     "metadata": {},
     "output_type": "execute_result"
    }
   ],
   "source": [
    "# missing values\n",
    "df.isnull().sum()"
   ]
  },
  {
   "cell_type": "code",
   "execution_count": 29,
   "id": "d5047602",
   "metadata": {},
   "outputs": [
    {
     "data": {
      "application/vnd.microsoft.datawrangler.viewer.v0+json": {
       "columns": [
        {
         "name": "index",
         "rawType": "int64",
         "type": "integer"
        },
        {
         "name": "ID",
         "rawType": "float64",
         "type": "float"
        },
        {
         "name": "Name",
         "rawType": "object",
         "type": "unknown"
        },
        {
         "name": "Age",
         "rawType": "float64",
         "type": "float"
        },
        {
         "name": "Email",
         "rawType": "object",
         "type": "unknown"
        },
        {
         "name": "JoinDate",
         "rawType": "object",
         "type": "string"
        },
        {
         "name": "Salary",
         "rawType": "float64",
         "type": "float"
        }
       ],
       "conversionMethod": "pd.DataFrame",
       "ref": "5d8da7a8-3823-4ddd-83c0-a607ecd28e42",
       "rows": [
        [
         "0",
         "1.0",
         "Alice",
         "25.0",
         "alice@example.com",
         "2020-01-01",
         "50000.0"
        ],
        [
         "1",
         "2.0",
         "Bob",
         "30.0",
         "bob@example.com",
         "not a date",
         "60000.0"
        ],
        [
         "2",
         "2.0",
         "Bob",
         "30.0",
         "bob@example.com",
         "2020-02-01",
         "60000.0"
        ],
        [
         "3",
         "4.0",
         "Charlie",
         "45.0",
         "charlie@",
         "2020-03-01",
         "70000.0"
        ],
        [
         "4",
         "5.0",
         "David",
         "45.0",
         null,
         "2020-04-01",
         "85000.0"
        ],
        [
         "5",
         "6.0",
         "Eve",
         "45.0",
         "eve@example",
         "2020-05-01",
         "90000.0"
        ],
        [
         "6",
         "7.0",
         "Frank",
         "50.0",
         "frank@@example.com",
         "2020/06/01",
         "100000.0"
        ],
        [
         "7",
         "8.0",
         "Grace",
         "55.0",
         "grace@example.com",
         "01-07-2020",
         "85000.0"
        ],
        [
         "8",
         null,
         "Heidi",
         "60.0",
         "heidi@example.com",
         "2020.08.01",
         "120000.0"
        ],
        [
         "9",
         "10.0",
         null,
         "65.0",
         "10@example.com",
         "2020-09-01",
         "130000.0"
        ]
       ],
       "shape": {
        "columns": 6,
        "rows": 10
       }
      },
      "text/html": [
       "<div>\n",
       "<style scoped>\n",
       "    .dataframe tbody tr th:only-of-type {\n",
       "        vertical-align: middle;\n",
       "    }\n",
       "\n",
       "    .dataframe tbody tr th {\n",
       "        vertical-align: top;\n",
       "    }\n",
       "\n",
       "    .dataframe thead th {\n",
       "        text-align: right;\n",
       "    }\n",
       "</style>\n",
       "<table border=\"1\" class=\"dataframe\">\n",
       "  <thead>\n",
       "    <tr style=\"text-align: right;\">\n",
       "      <th></th>\n",
       "      <th>ID</th>\n",
       "      <th>Name</th>\n",
       "      <th>Age</th>\n",
       "      <th>Email</th>\n",
       "      <th>JoinDate</th>\n",
       "      <th>Salary</th>\n",
       "    </tr>\n",
       "  </thead>\n",
       "  <tbody>\n",
       "    <tr>\n",
       "      <th>0</th>\n",
       "      <td>1.0</td>\n",
       "      <td>Alice</td>\n",
       "      <td>25.0</td>\n",
       "      <td>alice@example.com</td>\n",
       "      <td>2020-01-01</td>\n",
       "      <td>50000.0</td>\n",
       "    </tr>\n",
       "    <tr>\n",
       "      <th>1</th>\n",
       "      <td>2.0</td>\n",
       "      <td>Bob</td>\n",
       "      <td>30.0</td>\n",
       "      <td>bob@example.com</td>\n",
       "      <td>not a date</td>\n",
       "      <td>60000.0</td>\n",
       "    </tr>\n",
       "    <tr>\n",
       "      <th>2</th>\n",
       "      <td>2.0</td>\n",
       "      <td>Bob</td>\n",
       "      <td>30.0</td>\n",
       "      <td>bob@example.com</td>\n",
       "      <td>2020-02-01</td>\n",
       "      <td>60000.0</td>\n",
       "    </tr>\n",
       "    <tr>\n",
       "      <th>3</th>\n",
       "      <td>4.0</td>\n",
       "      <td>Charlie</td>\n",
       "      <td>45.0</td>\n",
       "      <td>charlie@</td>\n",
       "      <td>2020-03-01</td>\n",
       "      <td>70000.0</td>\n",
       "    </tr>\n",
       "    <tr>\n",
       "      <th>4</th>\n",
       "      <td>5.0</td>\n",
       "      <td>David</td>\n",
       "      <td>45.0</td>\n",
       "      <td>NaN</td>\n",
       "      <td>2020-04-01</td>\n",
       "      <td>85000.0</td>\n",
       "    </tr>\n",
       "    <tr>\n",
       "      <th>5</th>\n",
       "      <td>6.0</td>\n",
       "      <td>Eve</td>\n",
       "      <td>45.0</td>\n",
       "      <td>eve@example</td>\n",
       "      <td>2020-05-01</td>\n",
       "      <td>90000.0</td>\n",
       "    </tr>\n",
       "    <tr>\n",
       "      <th>6</th>\n",
       "      <td>7.0</td>\n",
       "      <td>Frank</td>\n",
       "      <td>50.0</td>\n",
       "      <td>frank@@example.com</td>\n",
       "      <td>2020/06/01</td>\n",
       "      <td>100000.0</td>\n",
       "    </tr>\n",
       "    <tr>\n",
       "      <th>7</th>\n",
       "      <td>8.0</td>\n",
       "      <td>Grace</td>\n",
       "      <td>55.0</td>\n",
       "      <td>grace@example.com</td>\n",
       "      <td>01-07-2020</td>\n",
       "      <td>85000.0</td>\n",
       "    </tr>\n",
       "    <tr>\n",
       "      <th>8</th>\n",
       "      <td>NaN</td>\n",
       "      <td>Heidi</td>\n",
       "      <td>60.0</td>\n",
       "      <td>heidi@example.com</td>\n",
       "      <td>2020.08.01</td>\n",
       "      <td>120000.0</td>\n",
       "    </tr>\n",
       "    <tr>\n",
       "      <th>9</th>\n",
       "      <td>10.0</td>\n",
       "      <td>NaN</td>\n",
       "      <td>65.0</td>\n",
       "      <td>10@example.com</td>\n",
       "      <td>2020-09-01</td>\n",
       "      <td>130000.0</td>\n",
       "    </tr>\n",
       "  </tbody>\n",
       "</table>\n",
       "</div>"
      ],
      "text/plain": [
       "     ID     Name   Age               Email    JoinDate    Salary\n",
       "0   1.0    Alice  25.0   alice@example.com  2020-01-01   50000.0\n",
       "1   2.0      Bob  30.0     bob@example.com  not a date   60000.0\n",
       "2   2.0      Bob  30.0     bob@example.com  2020-02-01   60000.0\n",
       "3   4.0  Charlie  45.0            charlie@  2020-03-01   70000.0\n",
       "4   5.0    David  45.0                 NaN  2020-04-01   85000.0\n",
       "5   6.0      Eve  45.0         eve@example  2020-05-01   90000.0\n",
       "6   7.0    Frank  50.0  frank@@example.com  2020/06/01  100000.0\n",
       "7   8.0    Grace  55.0   grace@example.com  01-07-2020   85000.0\n",
       "8   NaN    Heidi  60.0   heidi@example.com  2020.08.01  120000.0\n",
       "9  10.0      NaN  65.0      10@example.com  2020-09-01  130000.0"
      ]
     },
     "execution_count": 29,
     "metadata": {},
     "output_type": "execute_result"
    }
   ],
   "source": [
    "# fill missing values of age and salary\n",
    "df['Age'] = df['Age'].fillna(df['Age'].mean())\n",
    "df['Salary'] = df['Salary'].fillna(df['Salary'].mean())\n",
    "df"
   ]
  },
  {
   "cell_type": "code",
   "execution_count": 32,
   "id": "1859daf5",
   "metadata": {},
   "outputs": [
    {
     "data": {
      "application/vnd.microsoft.datawrangler.viewer.v0+json": {
       "columns": [
        {
         "name": "index",
         "rawType": "int64",
         "type": "integer"
        },
        {
         "name": "ID",
         "rawType": "float64",
         "type": "float"
        },
        {
         "name": "Name",
         "rawType": "object",
         "type": "string"
        },
        {
         "name": "Age",
         "rawType": "float64",
         "type": "float"
        },
        {
         "name": "Email",
         "rawType": "object",
         "type": "string"
        },
        {
         "name": "JoinDate",
         "rawType": "object",
         "type": "string"
        },
        {
         "name": "Salary",
         "rawType": "float64",
         "type": "float"
        }
       ],
       "conversionMethod": "pd.DataFrame",
       "ref": "37414177-e3ab-4712-b6d5-62b31e477cef",
       "rows": [
        [
         "0",
         "1.0",
         "Alice",
         "25.0",
         "alice@example.com",
         "2020-01-01",
         "50000.0"
        ],
        [
         "1",
         "2.0",
         "Bob",
         "30.0",
         "bob@example.com",
         "not a date",
         "60000.0"
        ],
        [
         "2",
         "2.0",
         "Bob",
         "30.0",
         "bob@example.com",
         "2020-02-01",
         "60000.0"
        ],
        [
         "3",
         "4.0",
         "Charlie",
         "45.0",
         "charlie@",
         "2020-03-01",
         "70000.0"
        ],
        [
         "5",
         "6.0",
         "Eve",
         "45.0",
         "eve@example",
         "2020-05-01",
         "90000.0"
        ],
        [
         "6",
         "7.0",
         "Frank",
         "50.0",
         "frank@@example.com",
         "2020/06/01",
         "100000.0"
        ],
        [
         "7",
         "8.0",
         "Grace",
         "55.0",
         "grace@example.com",
         "01-07-2020",
         "85000.0"
        ]
       ],
       "shape": {
        "columns": 6,
        "rows": 7
       }
      },
      "text/html": [
       "<div>\n",
       "<style scoped>\n",
       "    .dataframe tbody tr th:only-of-type {\n",
       "        vertical-align: middle;\n",
       "    }\n",
       "\n",
       "    .dataframe tbody tr th {\n",
       "        vertical-align: top;\n",
       "    }\n",
       "\n",
       "    .dataframe thead th {\n",
       "        text-align: right;\n",
       "    }\n",
       "</style>\n",
       "<table border=\"1\" class=\"dataframe\">\n",
       "  <thead>\n",
       "    <tr style=\"text-align: right;\">\n",
       "      <th></th>\n",
       "      <th>ID</th>\n",
       "      <th>Name</th>\n",
       "      <th>Age</th>\n",
       "      <th>Email</th>\n",
       "      <th>JoinDate</th>\n",
       "      <th>Salary</th>\n",
       "    </tr>\n",
       "  </thead>\n",
       "  <tbody>\n",
       "    <tr>\n",
       "      <th>0</th>\n",
       "      <td>1.0</td>\n",
       "      <td>Alice</td>\n",
       "      <td>25.0</td>\n",
       "      <td>alice@example.com</td>\n",
       "      <td>2020-01-01</td>\n",
       "      <td>50000.0</td>\n",
       "    </tr>\n",
       "    <tr>\n",
       "      <th>1</th>\n",
       "      <td>2.0</td>\n",
       "      <td>Bob</td>\n",
       "      <td>30.0</td>\n",
       "      <td>bob@example.com</td>\n",
       "      <td>not a date</td>\n",
       "      <td>60000.0</td>\n",
       "    </tr>\n",
       "    <tr>\n",
       "      <th>2</th>\n",
       "      <td>2.0</td>\n",
       "      <td>Bob</td>\n",
       "      <td>30.0</td>\n",
       "      <td>bob@example.com</td>\n",
       "      <td>2020-02-01</td>\n",
       "      <td>60000.0</td>\n",
       "    </tr>\n",
       "    <tr>\n",
       "      <th>3</th>\n",
       "      <td>4.0</td>\n",
       "      <td>Charlie</td>\n",
       "      <td>45.0</td>\n",
       "      <td>charlie@</td>\n",
       "      <td>2020-03-01</td>\n",
       "      <td>70000.0</td>\n",
       "    </tr>\n",
       "    <tr>\n",
       "      <th>5</th>\n",
       "      <td>6.0</td>\n",
       "      <td>Eve</td>\n",
       "      <td>45.0</td>\n",
       "      <td>eve@example</td>\n",
       "      <td>2020-05-01</td>\n",
       "      <td>90000.0</td>\n",
       "    </tr>\n",
       "    <tr>\n",
       "      <th>6</th>\n",
       "      <td>7.0</td>\n",
       "      <td>Frank</td>\n",
       "      <td>50.0</td>\n",
       "      <td>frank@@example.com</td>\n",
       "      <td>2020/06/01</td>\n",
       "      <td>100000.0</td>\n",
       "    </tr>\n",
       "    <tr>\n",
       "      <th>7</th>\n",
       "      <td>8.0</td>\n",
       "      <td>Grace</td>\n",
       "      <td>55.0</td>\n",
       "      <td>grace@example.com</td>\n",
       "      <td>01-07-2020</td>\n",
       "      <td>85000.0</td>\n",
       "    </tr>\n",
       "  </tbody>\n",
       "</table>\n",
       "</div>"
      ],
      "text/plain": [
       "    ID     Name   Age               Email    JoinDate    Salary\n",
       "0  1.0    Alice  25.0   alice@example.com  2020-01-01   50000.0\n",
       "1  2.0      Bob  30.0     bob@example.com  not a date   60000.0\n",
       "2  2.0      Bob  30.0     bob@example.com  2020-02-01   60000.0\n",
       "3  4.0  Charlie  45.0            charlie@  2020-03-01   70000.0\n",
       "5  6.0      Eve  45.0         eve@example  2020-05-01   90000.0\n",
       "6  7.0    Frank  50.0  frank@@example.com  2020/06/01  100000.0\n",
       "7  8.0    Grace  55.0   grace@example.com  01-07-2020   85000.0"
      ]
     },
     "execution_count": 32,
     "metadata": {},
     "output_type": "execute_result"
    }
   ],
   "source": [
    "# remove rows with missing values\n",
    "df.dropna(inplace=True)\n",
    "df"
   ]
  },
  {
   "cell_type": "code",
   "execution_count": null,
   "id": "a30e6a24",
   "metadata": {},
   "outputs": [],
   "source": []
  }
 ],
 "metadata": {
  "kernelspec": {
   "display_name": "base",
   "language": "python",
   "name": "python3"
  },
  "language_info": {
   "codemirror_mode": {
    "name": "ipython",
    "version": 3
   },
   "file_extension": ".py",
   "mimetype": "text/x-python",
   "name": "python",
   "nbconvert_exporter": "python",
   "pygments_lexer": "ipython3",
   "version": "3.11.5"
  }
 },
 "nbformat": 4,
 "nbformat_minor": 5
}
