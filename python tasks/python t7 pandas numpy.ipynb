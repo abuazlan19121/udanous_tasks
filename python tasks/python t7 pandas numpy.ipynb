{
 "cells": [
  {
   "cell_type": "code",
   "execution_count": 5,
   "id": "caca2084",
   "metadata": {},
   "outputs": [],
   "source": [
    "# importing pandas and numpy library\n",
    "import pandas as pd\n",
    "import numpy as np"
   ]
  },
  {
   "cell_type": "code",
   "execution_count": 6,
   "id": "f642ce72",
   "metadata": {},
   "outputs": [
    {
     "data": {
      "application/vnd.microsoft.datawrangler.viewer.v0+json": {
       "columns": [
        {
         "name": "index",
         "rawType": "int64",
         "type": "integer"
        },
        {
         "name": "ID",
         "rawType": "object",
         "type": "string"
        },
        {
         "name": "Name",
         "rawType": "object",
         "type": "unknown"
        },
        {
         "name": "Age",
         "rawType": "object",
         "type": "unknown"
        },
        {
         "name": "Email",
         "rawType": "object",
         "type": "unknown"
        },
        {
         "name": "JoinDate",
         "rawType": "object",
         "type": "string"
        },
        {
         "name": "Salary",
         "rawType": "object",
         "type": "unknown"
        }
       ],
       "conversionMethod": "pd.DataFrame",
       "ref": "945ee1a4-0f75-440e-bebb-7abb7eea311f",
       "rows": [
        [
         "0",
         "1",
         "Alice",
         "25",
         "alice@example.com",
         "2020-01-01",
         "50000"
        ],
        [
         "1",
         "2",
         "Bob",
         "30",
         "bob@example.com",
         "not a date",
         "60000"
        ],
        [
         "2",
         "2",
         "Bob",
         "30",
         "bob@example.com",
         "2020-02-01",
         "60000"
        ],
        [
         "3",
         "4",
         "Charlie",
         null,
         "charlie@",
         "2020-03-01",
         "70000"
        ],
        [
         "4",
         "5",
         "David",
         "Twenty-two",
         null,
         "2020-04-01",
         null
        ],
        [
         "5",
         "6",
         "Eve",
         "45",
         "eve@example",
         "2020-05-01",
         "90000"
        ],
        [
         "6",
         "7",
         "Frank",
         "50",
         "frank@@example.com",
         "2020/06/01",
         "100000"
        ],
        [
         "7",
         "8",
         "Grace",
         "55",
         "grace@example.com",
         "01-07-2020",
         "one lakh"
        ],
        [
         "8",
         "nine",
         "Heidi",
         "60",
         "heidi@example.com",
         "2020.08.01",
         "120000"
        ],
        [
         "9",
         "10",
         null,
         "65",
         "10@example.com",
         "2020-09-01",
         "130000"
        ]
       ],
       "shape": {
        "columns": 6,
        "rows": 10
       }
      },
      "text/html": [
       "<div>\n",
       "<style scoped>\n",
       "    .dataframe tbody tr th:only-of-type {\n",
       "        vertical-align: middle;\n",
       "    }\n",
       "\n",
       "    .dataframe tbody tr th {\n",
       "        vertical-align: top;\n",
       "    }\n",
       "\n",
       "    .dataframe thead th {\n",
       "        text-align: right;\n",
       "    }\n",
       "</style>\n",
       "<table border=\"1\" class=\"dataframe\">\n",
       "  <thead>\n",
       "    <tr style=\"text-align: right;\">\n",
       "      <th></th>\n",
       "      <th>ID</th>\n",
       "      <th>Name</th>\n",
       "      <th>Age</th>\n",
       "      <th>Email</th>\n",
       "      <th>JoinDate</th>\n",
       "      <th>Salary</th>\n",
       "    </tr>\n",
       "  </thead>\n",
       "  <tbody>\n",
       "    <tr>\n",
       "      <th>0</th>\n",
       "      <td>1</td>\n",
       "      <td>Alice</td>\n",
       "      <td>25</td>\n",
       "      <td>alice@example.com</td>\n",
       "      <td>2020-01-01</td>\n",
       "      <td>50000</td>\n",
       "    </tr>\n",
       "    <tr>\n",
       "      <th>1</th>\n",
       "      <td>2</td>\n",
       "      <td>Bob</td>\n",
       "      <td>30</td>\n",
       "      <td>bob@example.com</td>\n",
       "      <td>not a date</td>\n",
       "      <td>60000</td>\n",
       "    </tr>\n",
       "    <tr>\n",
       "      <th>2</th>\n",
       "      <td>2</td>\n",
       "      <td>Bob</td>\n",
       "      <td>30</td>\n",
       "      <td>bob@example.com</td>\n",
       "      <td>2020-02-01</td>\n",
       "      <td>60000</td>\n",
       "    </tr>\n",
       "    <tr>\n",
       "      <th>3</th>\n",
       "      <td>4</td>\n",
       "      <td>Charlie</td>\n",
       "      <td>NaN</td>\n",
       "      <td>charlie@</td>\n",
       "      <td>2020-03-01</td>\n",
       "      <td>70000</td>\n",
       "    </tr>\n",
       "    <tr>\n",
       "      <th>4</th>\n",
       "      <td>5</td>\n",
       "      <td>David</td>\n",
       "      <td>Twenty-two</td>\n",
       "      <td>NaN</td>\n",
       "      <td>2020-04-01</td>\n",
       "      <td>NaN</td>\n",
       "    </tr>\n",
       "    <tr>\n",
       "      <th>5</th>\n",
       "      <td>6</td>\n",
       "      <td>Eve</td>\n",
       "      <td>45</td>\n",
       "      <td>eve@example</td>\n",
       "      <td>2020-05-01</td>\n",
       "      <td>90000</td>\n",
       "    </tr>\n",
       "    <tr>\n",
       "      <th>6</th>\n",
       "      <td>7</td>\n",
       "      <td>Frank</td>\n",
       "      <td>50</td>\n",
       "      <td>frank@@example.com</td>\n",
       "      <td>2020/06/01</td>\n",
       "      <td>100000</td>\n",
       "    </tr>\n",
       "    <tr>\n",
       "      <th>7</th>\n",
       "      <td>8</td>\n",
       "      <td>Grace</td>\n",
       "      <td>55</td>\n",
       "      <td>grace@example.com</td>\n",
       "      <td>01-07-2020</td>\n",
       "      <td>one lakh</td>\n",
       "    </tr>\n",
       "    <tr>\n",
       "      <th>8</th>\n",
       "      <td>nine</td>\n",
       "      <td>Heidi</td>\n",
       "      <td>60</td>\n",
       "      <td>heidi@example.com</td>\n",
       "      <td>2020.08.01</td>\n",
       "      <td>120000</td>\n",
       "    </tr>\n",
       "    <tr>\n",
       "      <th>9</th>\n",
       "      <td>10</td>\n",
       "      <td>NaN</td>\n",
       "      <td>65</td>\n",
       "      <td>10@example.com</td>\n",
       "      <td>2020-09-01</td>\n",
       "      <td>130000</td>\n",
       "    </tr>\n",
       "  </tbody>\n",
       "</table>\n",
       "</div>"
      ],
      "text/plain": [
       "     ID     Name         Age               Email    JoinDate    Salary\n",
       "0     1    Alice          25   alice@example.com  2020-01-01     50000\n",
       "1     2      Bob          30     bob@example.com  not a date     60000\n",
       "2     2      Bob          30     bob@example.com  2020-02-01     60000\n",
       "3     4  Charlie         NaN            charlie@  2020-03-01     70000\n",
       "4     5    David  Twenty-two                 NaN  2020-04-01       NaN\n",
       "5     6      Eve          45         eve@example  2020-05-01     90000\n",
       "6     7    Frank          50  frank@@example.com  2020/06/01    100000\n",
       "7     8    Grace          55   grace@example.com  01-07-2020  one lakh\n",
       "8  nine    Heidi          60   heidi@example.com  2020.08.01    120000\n",
       "9    10      NaN          65      10@example.com  2020-09-01    130000"
      ]
     },
     "execution_count": 6,
     "metadata": {},
     "output_type": "execute_result"
    }
   ],
   "source": [
    "df = pd.read_csv(r\"C:\\Users\\HP\\Downloads\\Messy data set.csv\")\n",
    "df"
   ]
  },
  {
   "cell_type": "code",
   "execution_count": 8,
   "id": "88d854f5",
   "metadata": {},
   "outputs": [
    {
     "data": {
      "text/plain": [
       "Index(['ID', 'Name', 'Age', 'Email', 'JoinDate', 'Salary'], dtype='object')"
      ]
     },
     "execution_count": 8,
     "metadata": {},
     "output_type": "execute_result"
    }
   ],
   "source": [
    "df.columns"
   ]
  },
  {
   "cell_type": "code",
   "execution_count": 9,
   "id": "794c55d1",
   "metadata": {},
   "outputs": [
    {
     "data": {
      "text/plain": [
       "ID          object\n",
       "Name        object\n",
       "Age         object\n",
       "Email       object\n",
       "JoinDate    object\n",
       "Salary      object\n",
       "dtype: object"
      ]
     },
     "execution_count": 9,
     "metadata": {},
     "output_type": "execute_result"
    }
   ],
   "source": [
    "df.dtypes"
   ]
  },
  {
   "cell_type": "code",
   "execution_count": 17,
   "id": "f8050f46",
   "metadata": {},
   "outputs": [],
   "source": [
    "# want to update specific cells\n",
    "df.at[8,'ID'] = 9\n",
    "df.at[9,'ID'] = 10\n",
    "df.at[9,'Name'] = 'John'"
   ]
  },
  {
   "cell_type": "code",
   "execution_count": 18,
   "id": "14772292",
   "metadata": {},
   "outputs": [
    {
     "data": {
      "application/vnd.microsoft.datawrangler.viewer.v0+json": {
       "columns": [
        {
         "name": "index",
         "rawType": "int64",
         "type": "integer"
        },
        {
         "name": "ID",
         "rawType": "object",
         "type": "unknown"
        },
        {
         "name": "Name",
         "rawType": "object",
         "type": "string"
        },
        {
         "name": "Age",
         "rawType": "object",
         "type": "string"
        },
        {
         "name": "Email",
         "rawType": "object",
         "type": "string"
        },
        {
         "name": "JoinDate",
         "rawType": "object",
         "type": "string"
        },
        {
         "name": "Salary",
         "rawType": "object",
         "type": "string"
        }
       ],
       "conversionMethod": "pd.DataFrame",
       "ref": "731de2b8-b11d-4c4d-b135-436c74e4d84c",
       "rows": [
        [
         "5",
         "6",
         "Eve",
         "45",
         "eve@example",
         "2020-05-01",
         "90000"
        ],
        [
         "6",
         "7",
         "Frank",
         "50",
         "frank@@example.com",
         "2020/06/01",
         "100000"
        ],
        [
         "7",
         "8",
         "Grace",
         "55",
         "grace@example.com",
         "01-07-2020",
         "one lakh"
        ],
        [
         "8",
         "9",
         "Heidi",
         "60",
         "heidi@example.com",
         "2020.08.01",
         "120000"
        ],
        [
         "9",
         "10",
         "John",
         "65",
         "10@example.com",
         "2020-09-01",
         "130000"
        ]
       ],
       "shape": {
        "columns": 6,
        "rows": 5
       }
      },
      "text/html": [
       "<div>\n",
       "<style scoped>\n",
       "    .dataframe tbody tr th:only-of-type {\n",
       "        vertical-align: middle;\n",
       "    }\n",
       "\n",
       "    .dataframe tbody tr th {\n",
       "        vertical-align: top;\n",
       "    }\n",
       "\n",
       "    .dataframe thead th {\n",
       "        text-align: right;\n",
       "    }\n",
       "</style>\n",
       "<table border=\"1\" class=\"dataframe\">\n",
       "  <thead>\n",
       "    <tr style=\"text-align: right;\">\n",
       "      <th></th>\n",
       "      <th>ID</th>\n",
       "      <th>Name</th>\n",
       "      <th>Age</th>\n",
       "      <th>Email</th>\n",
       "      <th>JoinDate</th>\n",
       "      <th>Salary</th>\n",
       "    </tr>\n",
       "  </thead>\n",
       "  <tbody>\n",
       "    <tr>\n",
       "      <th>5</th>\n",
       "      <td>6</td>\n",
       "      <td>Eve</td>\n",
       "      <td>45</td>\n",
       "      <td>eve@example</td>\n",
       "      <td>2020-05-01</td>\n",
       "      <td>90000</td>\n",
       "    </tr>\n",
       "    <tr>\n",
       "      <th>6</th>\n",
       "      <td>7</td>\n",
       "      <td>Frank</td>\n",
       "      <td>50</td>\n",
       "      <td>frank@@example.com</td>\n",
       "      <td>2020/06/01</td>\n",
       "      <td>100000</td>\n",
       "    </tr>\n",
       "    <tr>\n",
       "      <th>7</th>\n",
       "      <td>8</td>\n",
       "      <td>Grace</td>\n",
       "      <td>55</td>\n",
       "      <td>grace@example.com</td>\n",
       "      <td>01-07-2020</td>\n",
       "      <td>one lakh</td>\n",
       "    </tr>\n",
       "    <tr>\n",
       "      <th>8</th>\n",
       "      <td>9</td>\n",
       "      <td>Heidi</td>\n",
       "      <td>60</td>\n",
       "      <td>heidi@example.com</td>\n",
       "      <td>2020.08.01</td>\n",
       "      <td>120000</td>\n",
       "    </tr>\n",
       "    <tr>\n",
       "      <th>9</th>\n",
       "      <td>10</td>\n",
       "      <td>John</td>\n",
       "      <td>65</td>\n",
       "      <td>10@example.com</td>\n",
       "      <td>2020-09-01</td>\n",
       "      <td>130000</td>\n",
       "    </tr>\n",
       "  </tbody>\n",
       "</table>\n",
       "</div>"
      ],
      "text/plain": [
       "   ID   Name Age               Email    JoinDate    Salary\n",
       "5   6    Eve  45         eve@example  2020-05-01     90000\n",
       "6   7  Frank  50  frank@@example.com  2020/06/01    100000\n",
       "7   8  Grace  55   grace@example.com  01-07-2020  one lakh\n",
       "8   9  Heidi  60   heidi@example.com  2020.08.01    120000\n",
       "9  10   John  65      10@example.com  2020-09-01    130000"
      ]
     },
     "execution_count": 18,
     "metadata": {},
     "output_type": "execute_result"
    }
   ],
   "source": [
    "df.tail()"
   ]
  },
  {
   "cell_type": "code",
   "execution_count": 26,
   "id": "d4b1fe84",
   "metadata": {},
   "outputs": [
    {
     "name": "stdout",
     "output_type": "stream",
     "text": [
      "['25' '30' '60' '45' '50' '55' '65']\n"
     ]
    }
   ],
   "source": [
    "print(df['Age'].unique())\n",
    "df.at[4,'Age'] = '60'\n",
    "df.at[2,'Age'] = '30'"
   ]
  },
  {
   "cell_type": "code",
   "execution_count": 28,
   "id": "1c9713d0",
   "metadata": {},
   "outputs": [
    {
     "data": {
      "application/vnd.microsoft.datawrangler.viewer.v0+json": {
       "columns": [
        {
         "name": "index",
         "rawType": "int64",
         "type": "integer"
        },
        {
         "name": "ID",
         "rawType": "int64",
         "type": "integer"
        },
        {
         "name": "Name",
         "rawType": "object",
         "type": "string"
        },
        {
         "name": "Age",
         "rawType": "int64",
         "type": "integer"
        },
        {
         "name": "Email",
         "rawType": "object",
         "type": "unknown"
        },
        {
         "name": "JoinDate",
         "rawType": "object",
         "type": "string"
        },
        {
         "name": "Salary",
         "rawType": "float64",
         "type": "float"
        }
       ],
       "conversionMethod": "pd.DataFrame",
       "ref": "905c46c1-e0b4-43b0-96e4-c94dc9770cde",
       "rows": [
        [
         "0",
         "1",
         "Alice",
         "25",
         "alice@example.com",
         "2020-01-01",
         "50000.0"
        ],
        [
         "1",
         "2",
         "Bob",
         "30",
         "bob@example.com",
         "not a date",
         "60000.0"
        ],
        [
         "2",
         "2",
         "Bob",
         "30",
         "bob@example.com",
         "2020-02-01",
         "60000.0"
        ],
        [
         "3",
         "4",
         "Charlie",
         "60",
         "charlie@",
         "2020-03-01",
         "70000.0"
        ],
        [
         "4",
         "5",
         "David",
         "60",
         null,
         "2020-04-01",
         null
        ],
        [
         "5",
         "6",
         "Eve",
         "45",
         "eve@example",
         "2020-05-01",
         "90000.0"
        ],
        [
         "6",
         "7",
         "Frank",
         "50",
         "frank@@example.com",
         "2020/06/01",
         "100000.0"
        ],
        [
         "7",
         "8",
         "Grace",
         "55",
         "grace@example.com",
         "01-07-2020",
         null
        ],
        [
         "8",
         "9",
         "Heidi",
         "60",
         "heidi@example.com",
         "2020.08.01",
         "120000.0"
        ],
        [
         "9",
         "10",
         "John",
         "65",
         "10@example.com",
         "2020-09-01",
         "130000.0"
        ]
       ],
       "shape": {
        "columns": 6,
        "rows": 10
       }
      },
      "text/html": [
       "<div>\n",
       "<style scoped>\n",
       "    .dataframe tbody tr th:only-of-type {\n",
       "        vertical-align: middle;\n",
       "    }\n",
       "\n",
       "    .dataframe tbody tr th {\n",
       "        vertical-align: top;\n",
       "    }\n",
       "\n",
       "    .dataframe thead th {\n",
       "        text-align: right;\n",
       "    }\n",
       "</style>\n",
       "<table border=\"1\" class=\"dataframe\">\n",
       "  <thead>\n",
       "    <tr style=\"text-align: right;\">\n",
       "      <th></th>\n",
       "      <th>ID</th>\n",
       "      <th>Name</th>\n",
       "      <th>Age</th>\n",
       "      <th>Email</th>\n",
       "      <th>JoinDate</th>\n",
       "      <th>Salary</th>\n",
       "    </tr>\n",
       "  </thead>\n",
       "  <tbody>\n",
       "    <tr>\n",
       "      <th>0</th>\n",
       "      <td>1</td>\n",
       "      <td>Alice</td>\n",
       "      <td>25</td>\n",
       "      <td>alice@example.com</td>\n",
       "      <td>2020-01-01</td>\n",
       "      <td>50000.0</td>\n",
       "    </tr>\n",
       "    <tr>\n",
       "      <th>1</th>\n",
       "      <td>2</td>\n",
       "      <td>Bob</td>\n",
       "      <td>30</td>\n",
       "      <td>bob@example.com</td>\n",
       "      <td>not a date</td>\n",
       "      <td>60000.0</td>\n",
       "    </tr>\n",
       "    <tr>\n",
       "      <th>2</th>\n",
       "      <td>2</td>\n",
       "      <td>Bob</td>\n",
       "      <td>30</td>\n",
       "      <td>bob@example.com</td>\n",
       "      <td>2020-02-01</td>\n",
       "      <td>60000.0</td>\n",
       "    </tr>\n",
       "    <tr>\n",
       "      <th>3</th>\n",
       "      <td>4</td>\n",
       "      <td>Charlie</td>\n",
       "      <td>60</td>\n",
       "      <td>charlie@</td>\n",
       "      <td>2020-03-01</td>\n",
       "      <td>70000.0</td>\n",
       "    </tr>\n",
       "    <tr>\n",
       "      <th>4</th>\n",
       "      <td>5</td>\n",
       "      <td>David</td>\n",
       "      <td>60</td>\n",
       "      <td>NaN</td>\n",
       "      <td>2020-04-01</td>\n",
       "      <td>NaN</td>\n",
       "    </tr>\n",
       "    <tr>\n",
       "      <th>5</th>\n",
       "      <td>6</td>\n",
       "      <td>Eve</td>\n",
       "      <td>45</td>\n",
       "      <td>eve@example</td>\n",
       "      <td>2020-05-01</td>\n",
       "      <td>90000.0</td>\n",
       "    </tr>\n",
       "    <tr>\n",
       "      <th>6</th>\n",
       "      <td>7</td>\n",
       "      <td>Frank</td>\n",
       "      <td>50</td>\n",
       "      <td>frank@@example.com</td>\n",
       "      <td>2020/06/01</td>\n",
       "      <td>100000.0</td>\n",
       "    </tr>\n",
       "    <tr>\n",
       "      <th>7</th>\n",
       "      <td>8</td>\n",
       "      <td>Grace</td>\n",
       "      <td>55</td>\n",
       "      <td>grace@example.com</td>\n",
       "      <td>01-07-2020</td>\n",
       "      <td>NaN</td>\n",
       "    </tr>\n",
       "    <tr>\n",
       "      <th>8</th>\n",
       "      <td>9</td>\n",
       "      <td>Heidi</td>\n",
       "      <td>60</td>\n",
       "      <td>heidi@example.com</td>\n",
       "      <td>2020.08.01</td>\n",
       "      <td>120000.0</td>\n",
       "    </tr>\n",
       "    <tr>\n",
       "      <th>9</th>\n",
       "      <td>10</td>\n",
       "      <td>John</td>\n",
       "      <td>65</td>\n",
       "      <td>10@example.com</td>\n",
       "      <td>2020-09-01</td>\n",
       "      <td>130000.0</td>\n",
       "    </tr>\n",
       "  </tbody>\n",
       "</table>\n",
       "</div>"
      ],
      "text/plain": [
       "   ID     Name  Age               Email    JoinDate    Salary\n",
       "0   1    Alice   25   alice@example.com  2020-01-01   50000.0\n",
       "1   2      Bob   30     bob@example.com  not a date   60000.0\n",
       "2   2      Bob   30     bob@example.com  2020-02-01   60000.0\n",
       "3   4  Charlie   60            charlie@  2020-03-01   70000.0\n",
       "4   5    David   60                 NaN  2020-04-01       NaN\n",
       "5   6      Eve   45         eve@example  2020-05-01   90000.0\n",
       "6   7    Frank   50  frank@@example.com  2020/06/01  100000.0\n",
       "7   8    Grace   55   grace@example.com  01-07-2020       NaN\n",
       "8   9    Heidi   60   heidi@example.com  2020.08.01  120000.0\n",
       "9  10     John   65      10@example.com  2020-09-01  130000.0"
      ]
     },
     "execution_count": 28,
     "metadata": {},
     "output_type": "execute_result"
    }
   ],
   "source": [
    "# changing datatype of id, age and salary\n",
    "df['ID'] = pd.to_numeric(df['ID'], errors='coerce')\n",
    "df['Age'] = pd.to_numeric(df['Age'], errors='coerce')\n",
    "df['Salary'] = pd.to_numeric(df['Salary'], errors='coerce')\n",
    "df"
   ]
  },
  {
   "cell_type": "code",
   "execution_count": 30,
   "id": "2dcdc8ed",
   "metadata": {},
   "outputs": [
    {
     "data": {
      "application/vnd.microsoft.datawrangler.viewer.v0+json": {
       "columns": [
        {
         "name": "index",
         "rawType": "int64",
         "type": "integer"
        },
        {
         "name": "ID",
         "rawType": "int64",
         "type": "integer"
        },
        {
         "name": "Name",
         "rawType": "object",
         "type": "string"
        },
        {
         "name": "Age",
         "rawType": "int64",
         "type": "integer"
        },
        {
         "name": "Email",
         "rawType": "object",
         "type": "unknown"
        },
        {
         "name": "JoinDate",
         "rawType": "object",
         "type": "string"
        },
        {
         "name": "Salary",
         "rawType": "float64",
         "type": "float"
        }
       ],
       "conversionMethod": "pd.DataFrame",
       "ref": "636e8b75-955f-43bb-af20-0713d5d1f554",
       "rows": [
        [
         "0",
         "1",
         "Alice",
         "25",
         "alice@example.com",
         "2020-01-01",
         "50000.0"
        ],
        [
         "1",
         "2",
         "Bob",
         "30",
         "bob@example.com",
         "not a date",
         "60000.0"
        ],
        [
         "2",
         "2",
         "Bob",
         "30",
         "bob@example.com",
         "2020-02-01",
         "60000.0"
        ],
        [
         "3",
         "4",
         "Charlie",
         "60",
         "charlie@",
         "2020-03-01",
         "70000.0"
        ],
        [
         "4",
         "5",
         "David",
         "60",
         null,
         "2020-04-01",
         "85000.0"
        ],
        [
         "5",
         "6",
         "Eve",
         "45",
         "eve@example",
         "2020-05-01",
         "90000.0"
        ],
        [
         "6",
         "7",
         "Frank",
         "50",
         "frank@@example.com",
         "2020/06/01",
         "100000.0"
        ],
        [
         "7",
         "8",
         "Grace",
         "55",
         "grace@example.com",
         "01-07-2020",
         "85000.0"
        ],
        [
         "8",
         "9",
         "Heidi",
         "60",
         "heidi@example.com",
         "2020.08.01",
         "120000.0"
        ],
        [
         "9",
         "10",
         "John",
         "65",
         "10@example.com",
         "2020-09-01",
         "130000.0"
        ]
       ],
       "shape": {
        "columns": 6,
        "rows": 10
       }
      },
      "text/html": [
       "<div>\n",
       "<style scoped>\n",
       "    .dataframe tbody tr th:only-of-type {\n",
       "        vertical-align: middle;\n",
       "    }\n",
       "\n",
       "    .dataframe tbody tr th {\n",
       "        vertical-align: top;\n",
       "    }\n",
       "\n",
       "    .dataframe thead th {\n",
       "        text-align: right;\n",
       "    }\n",
       "</style>\n",
       "<table border=\"1\" class=\"dataframe\">\n",
       "  <thead>\n",
       "    <tr style=\"text-align: right;\">\n",
       "      <th></th>\n",
       "      <th>ID</th>\n",
       "      <th>Name</th>\n",
       "      <th>Age</th>\n",
       "      <th>Email</th>\n",
       "      <th>JoinDate</th>\n",
       "      <th>Salary</th>\n",
       "    </tr>\n",
       "  </thead>\n",
       "  <tbody>\n",
       "    <tr>\n",
       "      <th>0</th>\n",
       "      <td>1</td>\n",
       "      <td>Alice</td>\n",
       "      <td>25</td>\n",
       "      <td>alice@example.com</td>\n",
       "      <td>2020-01-01</td>\n",
       "      <td>50000.0</td>\n",
       "    </tr>\n",
       "    <tr>\n",
       "      <th>1</th>\n",
       "      <td>2</td>\n",
       "      <td>Bob</td>\n",
       "      <td>30</td>\n",
       "      <td>bob@example.com</td>\n",
       "      <td>not a date</td>\n",
       "      <td>60000.0</td>\n",
       "    </tr>\n",
       "    <tr>\n",
       "      <th>2</th>\n",
       "      <td>2</td>\n",
       "      <td>Bob</td>\n",
       "      <td>30</td>\n",
       "      <td>bob@example.com</td>\n",
       "      <td>2020-02-01</td>\n",
       "      <td>60000.0</td>\n",
       "    </tr>\n",
       "    <tr>\n",
       "      <th>3</th>\n",
       "      <td>4</td>\n",
       "      <td>Charlie</td>\n",
       "      <td>60</td>\n",
       "      <td>charlie@</td>\n",
       "      <td>2020-03-01</td>\n",
       "      <td>70000.0</td>\n",
       "    </tr>\n",
       "    <tr>\n",
       "      <th>4</th>\n",
       "      <td>5</td>\n",
       "      <td>David</td>\n",
       "      <td>60</td>\n",
       "      <td>NaN</td>\n",
       "      <td>2020-04-01</td>\n",
       "      <td>85000.0</td>\n",
       "    </tr>\n",
       "    <tr>\n",
       "      <th>5</th>\n",
       "      <td>6</td>\n",
       "      <td>Eve</td>\n",
       "      <td>45</td>\n",
       "      <td>eve@example</td>\n",
       "      <td>2020-05-01</td>\n",
       "      <td>90000.0</td>\n",
       "    </tr>\n",
       "    <tr>\n",
       "      <th>6</th>\n",
       "      <td>7</td>\n",
       "      <td>Frank</td>\n",
       "      <td>50</td>\n",
       "      <td>frank@@example.com</td>\n",
       "      <td>2020/06/01</td>\n",
       "      <td>100000.0</td>\n",
       "    </tr>\n",
       "    <tr>\n",
       "      <th>7</th>\n",
       "      <td>8</td>\n",
       "      <td>Grace</td>\n",
       "      <td>55</td>\n",
       "      <td>grace@example.com</td>\n",
       "      <td>01-07-2020</td>\n",
       "      <td>85000.0</td>\n",
       "    </tr>\n",
       "    <tr>\n",
       "      <th>8</th>\n",
       "      <td>9</td>\n",
       "      <td>Heidi</td>\n",
       "      <td>60</td>\n",
       "      <td>heidi@example.com</td>\n",
       "      <td>2020.08.01</td>\n",
       "      <td>120000.0</td>\n",
       "    </tr>\n",
       "    <tr>\n",
       "      <th>9</th>\n",
       "      <td>10</td>\n",
       "      <td>John</td>\n",
       "      <td>65</td>\n",
       "      <td>10@example.com</td>\n",
       "      <td>2020-09-01</td>\n",
       "      <td>130000.0</td>\n",
       "    </tr>\n",
       "  </tbody>\n",
       "</table>\n",
       "</div>"
      ],
      "text/plain": [
       "   ID     Name  Age               Email    JoinDate    Salary\n",
       "0   1    Alice   25   alice@example.com  2020-01-01   50000.0\n",
       "1   2      Bob   30     bob@example.com  not a date   60000.0\n",
       "2   2      Bob   30     bob@example.com  2020-02-01   60000.0\n",
       "3   4  Charlie   60            charlie@  2020-03-01   70000.0\n",
       "4   5    David   60                 NaN  2020-04-01   85000.0\n",
       "5   6      Eve   45         eve@example  2020-05-01   90000.0\n",
       "6   7    Frank   50  frank@@example.com  2020/06/01  100000.0\n",
       "7   8    Grace   55   grace@example.com  01-07-2020   85000.0\n",
       "8   9    Heidi   60   heidi@example.com  2020.08.01  120000.0\n",
       "9  10     John   65      10@example.com  2020-09-01  130000.0"
      ]
     },
     "execution_count": 30,
     "metadata": {},
     "output_type": "execute_result"
    }
   ],
   "source": [
    "# filling missing value of age and salary\n",
    "df['Salary'] = df['Salary'].fillna(df['Salary'].median())\n",
    "df"
   ]
  },
  {
   "cell_type": "code",
   "execution_count": 34,
   "id": "bc7ca50f",
   "metadata": {},
   "outputs": [
    {
     "data": {
      "application/vnd.microsoft.datawrangler.viewer.v0+json": {
       "columns": [
        {
         "name": "index",
         "rawType": "int64",
         "type": "integer"
        },
        {
         "name": "ID",
         "rawType": "int64",
         "type": "integer"
        },
        {
         "name": "Name",
         "rawType": "object",
         "type": "string"
        },
        {
         "name": "Age",
         "rawType": "int64",
         "type": "integer"
        },
        {
         "name": "Email",
         "rawType": "object",
         "type": "unknown"
        },
        {
         "name": "JoinDate",
         "rawType": "object",
         "type": "string"
        },
        {
         "name": "Salary",
         "rawType": "float64",
         "type": "float"
        }
       ],
       "conversionMethod": "pd.DataFrame",
       "ref": "369d632a-9047-4e4c-a918-8649e139cbf2",
       "rows": [
        [
         "0",
         "1",
         "Alice",
         "25",
         "alice@example.com",
         "2020-01-01",
         "50000.0"
        ],
        [
         "1",
         "2",
         "Bob",
         "30",
         "bob@example.com",
         "not a date",
         "60000.0"
        ],
        [
         "2",
         "2",
         "Bob",
         "30",
         "bob@example.com",
         "2020-02-01",
         "60000.0"
        ],
        [
         "3",
         "4",
         "Charlie",
         "60",
         "charlie@",
         "2020-03-01",
         "70000.0"
        ],
        [
         "4",
         "5",
         "David",
         "60",
         null,
         "2020-04-01",
         "85000.0"
        ]
       ],
       "shape": {
        "columns": 6,
        "rows": 5
       }
      },
      "text/html": [
       "<div>\n",
       "<style scoped>\n",
       "    .dataframe tbody tr th:only-of-type {\n",
       "        vertical-align: middle;\n",
       "    }\n",
       "\n",
       "    .dataframe tbody tr th {\n",
       "        vertical-align: top;\n",
       "    }\n",
       "\n",
       "    .dataframe thead th {\n",
       "        text-align: right;\n",
       "    }\n",
       "</style>\n",
       "<table border=\"1\" class=\"dataframe\">\n",
       "  <thead>\n",
       "    <tr style=\"text-align: right;\">\n",
       "      <th></th>\n",
       "      <th>ID</th>\n",
       "      <th>Name</th>\n",
       "      <th>Age</th>\n",
       "      <th>Email</th>\n",
       "      <th>JoinDate</th>\n",
       "      <th>Salary</th>\n",
       "    </tr>\n",
       "  </thead>\n",
       "  <tbody>\n",
       "    <tr>\n",
       "      <th>0</th>\n",
       "      <td>1</td>\n",
       "      <td>Alice</td>\n",
       "      <td>25</td>\n",
       "      <td>alice@example.com</td>\n",
       "      <td>2020-01-01</td>\n",
       "      <td>50000.0</td>\n",
       "    </tr>\n",
       "    <tr>\n",
       "      <th>1</th>\n",
       "      <td>2</td>\n",
       "      <td>Bob</td>\n",
       "      <td>30</td>\n",
       "      <td>bob@example.com</td>\n",
       "      <td>not a date</td>\n",
       "      <td>60000.0</td>\n",
       "    </tr>\n",
       "    <tr>\n",
       "      <th>2</th>\n",
       "      <td>2</td>\n",
       "      <td>Bob</td>\n",
       "      <td>30</td>\n",
       "      <td>bob@example.com</td>\n",
       "      <td>2020-02-01</td>\n",
       "      <td>60000.0</td>\n",
       "    </tr>\n",
       "    <tr>\n",
       "      <th>3</th>\n",
       "      <td>4</td>\n",
       "      <td>Charlie</td>\n",
       "      <td>60</td>\n",
       "      <td>charlie@</td>\n",
       "      <td>2020-03-01</td>\n",
       "      <td>70000.0</td>\n",
       "    </tr>\n",
       "    <tr>\n",
       "      <th>4</th>\n",
       "      <td>5</td>\n",
       "      <td>David</td>\n",
       "      <td>60</td>\n",
       "      <td>NaN</td>\n",
       "      <td>2020-04-01</td>\n",
       "      <td>85000.0</td>\n",
       "    </tr>\n",
       "  </tbody>\n",
       "</table>\n",
       "</div>"
      ],
      "text/plain": [
       "   ID     Name  Age              Email    JoinDate   Salary\n",
       "0   1    Alice   25  alice@example.com  2020-01-01  50000.0\n",
       "1   2      Bob   30    bob@example.com  not a date  60000.0\n",
       "2   2      Bob   30    bob@example.com  2020-02-01  60000.0\n",
       "3   4  Charlie   60           charlie@  2020-03-01  70000.0\n",
       "4   5    David   60                NaN  2020-04-01  85000.0"
      ]
     },
     "execution_count": 34,
     "metadata": {},
     "output_type": "execute_result"
    }
   ],
   "source": [
    "# sorting age column in ascending order\n",
    "df.sort_values(by=['Age'], ascending=True)\n",
    "df.head()"
   ]
  },
  {
   "cell_type": "code",
   "execution_count": 37,
   "id": "36f6bbd1",
   "metadata": {},
   "outputs": [
    {
     "data": {
      "application/vnd.microsoft.datawrangler.viewer.v0+json": {
       "columns": [
        {
         "name": "index",
         "rawType": "int64",
         "type": "integer"
        },
        {
         "name": "ID",
         "rawType": "int64",
         "type": "integer"
        },
        {
         "name": "Name",
         "rawType": "object",
         "type": "string"
        },
        {
         "name": "Age",
         "rawType": "int64",
         "type": "integer"
        },
        {
         "name": "Email",
         "rawType": "object",
         "type": "string"
        },
        {
         "name": "JoinDate",
         "rawType": "object",
         "type": "string"
        },
        {
         "name": "Salary",
         "rawType": "float64",
         "type": "float"
        }
       ],
       "conversionMethod": "pd.DataFrame",
       "ref": "13bded99-54c1-4655-bfe9-4ad7799427f1",
       "rows": [
        [
         "0",
         "1",
         "Alice",
         "25",
         "alice@example.com",
         "2020-01-01",
         "50000.0"
        ],
        [
         "1",
         "2",
         "Bob",
         "30",
         "bob@example.com",
         "not a date",
         "60000.0"
        ],
        [
         "2",
         "2",
         "Bob",
         "30",
         "bob@example.com",
         "2020-02-01",
         "60000.0"
        ],
        [
         "5",
         "6",
         "Eve",
         "45",
         "eve@example",
         "2020-05-01",
         "90000.0"
        ],
        [
         "6",
         "7",
         "Frank",
         "50",
         "frank@@example.com",
         "2020/06/01",
         "100000.0"
        ]
       ],
       "shape": {
        "columns": 6,
        "rows": 5
       }
      },
      "text/html": [
       "<div>\n",
       "<style scoped>\n",
       "    .dataframe tbody tr th:only-of-type {\n",
       "        vertical-align: middle;\n",
       "    }\n",
       "\n",
       "    .dataframe tbody tr th {\n",
       "        vertical-align: top;\n",
       "    }\n",
       "\n",
       "    .dataframe thead th {\n",
       "        text-align: right;\n",
       "    }\n",
       "</style>\n",
       "<table border=\"1\" class=\"dataframe\">\n",
       "  <thead>\n",
       "    <tr style=\"text-align: right;\">\n",
       "      <th></th>\n",
       "      <th>ID</th>\n",
       "      <th>Name</th>\n",
       "      <th>Age</th>\n",
       "      <th>Email</th>\n",
       "      <th>JoinDate</th>\n",
       "      <th>Salary</th>\n",
       "    </tr>\n",
       "  </thead>\n",
       "  <tbody>\n",
       "    <tr>\n",
       "      <th>0</th>\n",
       "      <td>1</td>\n",
       "      <td>Alice</td>\n",
       "      <td>25</td>\n",
       "      <td>alice@example.com</td>\n",
       "      <td>2020-01-01</td>\n",
       "      <td>50000.0</td>\n",
       "    </tr>\n",
       "    <tr>\n",
       "      <th>1</th>\n",
       "      <td>2</td>\n",
       "      <td>Bob</td>\n",
       "      <td>30</td>\n",
       "      <td>bob@example.com</td>\n",
       "      <td>not a date</td>\n",
       "      <td>60000.0</td>\n",
       "    </tr>\n",
       "    <tr>\n",
       "      <th>2</th>\n",
       "      <td>2</td>\n",
       "      <td>Bob</td>\n",
       "      <td>30</td>\n",
       "      <td>bob@example.com</td>\n",
       "      <td>2020-02-01</td>\n",
       "      <td>60000.0</td>\n",
       "    </tr>\n",
       "    <tr>\n",
       "      <th>5</th>\n",
       "      <td>6</td>\n",
       "      <td>Eve</td>\n",
       "      <td>45</td>\n",
       "      <td>eve@example</td>\n",
       "      <td>2020-05-01</td>\n",
       "      <td>90000.0</td>\n",
       "    </tr>\n",
       "    <tr>\n",
       "      <th>6</th>\n",
       "      <td>7</td>\n",
       "      <td>Frank</td>\n",
       "      <td>50</td>\n",
       "      <td>frank@@example.com</td>\n",
       "      <td>2020/06/01</td>\n",
       "      <td>100000.0</td>\n",
       "    </tr>\n",
       "  </tbody>\n",
       "</table>\n",
       "</div>"
      ],
      "text/plain": [
       "   ID   Name  Age               Email    JoinDate    Salary\n",
       "0   1  Alice   25   alice@example.com  2020-01-01   50000.0\n",
       "1   2    Bob   30     bob@example.com  not a date   60000.0\n",
       "2   2    Bob   30     bob@example.com  2020-02-01   60000.0\n",
       "5   6    Eve   45         eve@example  2020-05-01   90000.0\n",
       "6   7  Frank   50  frank@@example.com  2020/06/01  100000.0"
      ]
     },
     "execution_count": 37,
     "metadata": {},
     "output_type": "execute_result"
    }
   ],
   "source": [
    "# filtering age greater than 80\n",
    "df[df['Age'] <=50]"
   ]
  },
  {
   "cell_type": "code",
   "execution_count": 43,
   "id": "5db6eb4f",
   "metadata": {},
   "outputs": [
    {
     "data": {
      "application/vnd.microsoft.datawrangler.viewer.v0+json": {
       "columns": [
        {
         "name": "index",
         "rawType": "int64",
         "type": "integer"
        },
        {
         "name": "ID",
         "rawType": "int64",
         "type": "integer"
        },
        {
         "name": "Name",
         "rawType": "object",
         "type": "string"
        },
        {
         "name": "Age",
         "rawType": "int64",
         "type": "integer"
        },
        {
         "name": "Email",
         "rawType": "object",
         "type": "string"
        },
        {
         "name": "JoinDate",
         "rawType": "object",
         "type": "string"
        },
        {
         "name": "Salary",
         "rawType": "float64",
         "type": "float"
        }
       ],
       "conversionMethod": "pd.DataFrame",
       "ref": "5b5b2b13-3b99-4812-998f-f4f241a545d7",
       "rows": [
        [
         "0",
         "1",
         "Alice",
         "25",
         "alice@example.com",
         "2020-01-01",
         "50000.0"
        ],
        [
         "1",
         "2",
         "Bob",
         "30",
         "bob@example.com",
         "not a date",
         "60000.0"
        ],
        [
         "2",
         "2",
         "Bob",
         "30",
         "bob@example.com",
         "2020-02-01",
         "60000.0"
        ]
       ],
       "shape": {
        "columns": 6,
        "rows": 3
       }
      },
      "text/html": [
       "<div>\n",
       "<style scoped>\n",
       "    .dataframe tbody tr th:only-of-type {\n",
       "        vertical-align: middle;\n",
       "    }\n",
       "\n",
       "    .dataframe tbody tr th {\n",
       "        vertical-align: top;\n",
       "    }\n",
       "\n",
       "    .dataframe thead th {\n",
       "        text-align: right;\n",
       "    }\n",
       "</style>\n",
       "<table border=\"1\" class=\"dataframe\">\n",
       "  <thead>\n",
       "    <tr style=\"text-align: right;\">\n",
       "      <th></th>\n",
       "      <th>ID</th>\n",
       "      <th>Name</th>\n",
       "      <th>Age</th>\n",
       "      <th>Email</th>\n",
       "      <th>JoinDate</th>\n",
       "      <th>Salary</th>\n",
       "    </tr>\n",
       "  </thead>\n",
       "  <tbody>\n",
       "    <tr>\n",
       "      <th>0</th>\n",
       "      <td>1</td>\n",
       "      <td>Alice</td>\n",
       "      <td>25</td>\n",
       "      <td>alice@example.com</td>\n",
       "      <td>2020-01-01</td>\n",
       "      <td>50000.0</td>\n",
       "    </tr>\n",
       "    <tr>\n",
       "      <th>1</th>\n",
       "      <td>2</td>\n",
       "      <td>Bob</td>\n",
       "      <td>30</td>\n",
       "      <td>bob@example.com</td>\n",
       "      <td>not a date</td>\n",
       "      <td>60000.0</td>\n",
       "    </tr>\n",
       "    <tr>\n",
       "      <th>2</th>\n",
       "      <td>2</td>\n",
       "      <td>Bob</td>\n",
       "      <td>30</td>\n",
       "      <td>bob@example.com</td>\n",
       "      <td>2020-02-01</td>\n",
       "      <td>60000.0</td>\n",
       "    </tr>\n",
       "  </tbody>\n",
       "</table>\n",
       "</div>"
      ],
      "text/plain": [
       "   ID   Name  Age              Email    JoinDate   Salary\n",
       "0   1  Alice   25  alice@example.com  2020-01-01  50000.0\n",
       "1   2    Bob   30    bob@example.com  not a date  60000.0\n",
       "2   2    Bob   30    bob@example.com  2020-02-01  60000.0"
      ]
     },
     "execution_count": 43,
     "metadata": {},
     "output_type": "execute_result"
    }
   ],
   "source": [
    "bobAlice_row = df[df['Name'].isin(['Bob', 'Alice'])]\n",
    "bobAlice_row"
   ]
  },
  {
   "cell_type": "code",
   "execution_count": 44,
   "id": "f12998e7",
   "metadata": {},
   "outputs": [
    {
     "data": {
      "text/plain": [
       "0     50000.0\n",
       "1     60000.0\n",
       "2     60000.0\n",
       "3     70000.0\n",
       "4     85000.0\n",
       "5     90000.0\n",
       "6    100000.0\n",
       "7     85000.0\n",
       "8    120000.0\n",
       "9    130000.0\n",
       "Name: Salary, dtype: float64"
      ]
     },
     "execution_count": 44,
     "metadata": {},
     "output_type": "execute_result"
    }
   ],
   "source": [
    "df['Salary']"
   ]
  },
  {
   "cell_type": "code",
   "execution_count": 47,
   "id": "43fedc39",
   "metadata": {},
   "outputs": [
    {
     "data": {
      "application/vnd.microsoft.datawrangler.viewer.v0+json": {
       "columns": [
        {
         "name": "index",
         "rawType": "int64",
         "type": "integer"
        },
        {
         "name": "ID",
         "rawType": "int64",
         "type": "integer"
        },
        {
         "name": "Name",
         "rawType": "object",
         "type": "string"
        },
        {
         "name": "Age",
         "rawType": "int64",
         "type": "integer"
        },
        {
         "name": "Email",
         "rawType": "object",
         "type": "string"
        },
        {
         "name": "JoinDate",
         "rawType": "object",
         "type": "string"
        },
        {
         "name": "Salary",
         "rawType": "float64",
         "type": "float"
        }
       ],
       "conversionMethod": "pd.DataFrame",
       "ref": "3cf9ad74-c7c3-46f8-b2da-64480ab77f50",
       "rows": [
        [
         "1",
         "2",
         "Bob",
         "30",
         "bob@example.com",
         "not a date",
         "60000.0"
        ],
        [
         "2",
         "2",
         "Bob",
         "30",
         "bob@example.com",
         "2020-02-01",
         "60000.0"
        ],
        [
         "3",
         "4",
         "Charlie",
         "60",
         "charlie@",
         "2020-03-01",
         "70000.0"
        ]
       ],
       "shape": {
        "columns": 6,
        "rows": 3
       }
      },
      "text/html": [
       "<div>\n",
       "<style scoped>\n",
       "    .dataframe tbody tr th:only-of-type {\n",
       "        vertical-align: middle;\n",
       "    }\n",
       "\n",
       "    .dataframe tbody tr th {\n",
       "        vertical-align: top;\n",
       "    }\n",
       "\n",
       "    .dataframe thead th {\n",
       "        text-align: right;\n",
       "    }\n",
       "</style>\n",
       "<table border=\"1\" class=\"dataframe\">\n",
       "  <thead>\n",
       "    <tr style=\"text-align: right;\">\n",
       "      <th></th>\n",
       "      <th>ID</th>\n",
       "      <th>Name</th>\n",
       "      <th>Age</th>\n",
       "      <th>Email</th>\n",
       "      <th>JoinDate</th>\n",
       "      <th>Salary</th>\n",
       "    </tr>\n",
       "  </thead>\n",
       "  <tbody>\n",
       "    <tr>\n",
       "      <th>1</th>\n",
       "      <td>2</td>\n",
       "      <td>Bob</td>\n",
       "      <td>30</td>\n",
       "      <td>bob@example.com</td>\n",
       "      <td>not a date</td>\n",
       "      <td>60000.0</td>\n",
       "    </tr>\n",
       "    <tr>\n",
       "      <th>2</th>\n",
       "      <td>2</td>\n",
       "      <td>Bob</td>\n",
       "      <td>30</td>\n",
       "      <td>bob@example.com</td>\n",
       "      <td>2020-02-01</td>\n",
       "      <td>60000.0</td>\n",
       "    </tr>\n",
       "    <tr>\n",
       "      <th>3</th>\n",
       "      <td>4</td>\n",
       "      <td>Charlie</td>\n",
       "      <td>60</td>\n",
       "      <td>charlie@</td>\n",
       "      <td>2020-03-01</td>\n",
       "      <td>70000.0</td>\n",
       "    </tr>\n",
       "  </tbody>\n",
       "</table>\n",
       "</div>"
      ],
      "text/plain": [
       "   ID     Name  Age            Email    JoinDate   Salary\n",
       "1   2      Bob   30  bob@example.com  not a date  60000.0\n",
       "2   2      Bob   30  bob@example.com  2020-02-01  60000.0\n",
       "3   4  Charlie   60         charlie@  2020-03-01  70000.0"
      ]
     },
     "execution_count": 47,
     "metadata": {},
     "output_type": "execute_result"
    }
   ],
   "source": [
    "# filtering the data with condition of salary greater than 50000 and less than 80000\n",
    "df[(df['Salary'] > 50000) & (df['Salary'] < 80000)]"
   ]
  },
  {
   "cell_type": "code",
   "execution_count": 49,
   "id": "eb09811c",
   "metadata": {},
   "outputs": [
    {
     "data": {
      "text/plain": [
       "ID                        2\n",
       "Name                    Bob\n",
       "Age                      30\n",
       "Email       bob@example.com\n",
       "JoinDate         2020-02-01\n",
       "Salary              60000.0\n",
       "Name: 2, dtype: object"
      ]
     },
     "execution_count": 49,
     "metadata": {},
     "output_type": "execute_result"
    }
   ],
   "source": [
    "# iloc\n",
    "df.iloc[2]"
   ]
  },
  {
   "cell_type": "code",
   "execution_count": 53,
   "id": "3e7707fb",
   "metadata": {},
   "outputs": [
    {
     "data": {
      "text/plain": [
       "60000.0"
      ]
     },
     "execution_count": 53,
     "metadata": {},
     "output_type": "execute_result"
    }
   ],
   "source": [
    "# loc\n",
    "df.loc[2,'Salary']"
   ]
  },
  {
   "cell_type": "code",
   "execution_count": null,
   "id": "f8945f1d",
   "metadata": {},
   "outputs": [],
   "source": []
  }
 ],
 "metadata": {
  "kernelspec": {
   "display_name": "base",
   "language": "python",
   "name": "python3"
  },
  "language_info": {
   "codemirror_mode": {
    "name": "ipython",
    "version": 3
   },
   "file_extension": ".py",
   "mimetype": "text/x-python",
   "name": "python",
   "nbconvert_exporter": "python",
   "pygments_lexer": "ipython3",
   "version": "3.11.5"
  }
 },
 "nbformat": 4,
 "nbformat_minor": 5
}
