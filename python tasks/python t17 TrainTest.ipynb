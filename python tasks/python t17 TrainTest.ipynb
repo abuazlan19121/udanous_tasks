{
 "cells": [
  {
   "cell_type": "markdown",
   "id": "013a1c88",
   "metadata": {},
   "source": [
    "### Train Test and Split"
   ]
  },
  {
   "cell_type": "code",
   "execution_count": 9,
   "id": "1ed28343",
   "metadata": {},
   "outputs": [],
   "source": [
    "# importing the required libraries\n",
    "import pandas as pd\n",
    "import numpy as np\n",
    "from sklearn.model_selection import train_test_split"
   ]
  },
  {
   "cell_type": "code",
   "execution_count": 17,
   "id": "cf25ff9b",
   "metadata": {},
   "outputs": [
    {
     "data": {
      "application/vnd.microsoft.datawrangler.viewer.v0+json": {
       "columns": [
        {
         "name": "index",
         "rawType": "int64",
         "type": "integer"
        },
        {
         "name": "EmployeeID",
         "rawType": "int64",
         "type": "integer"
        },
        {
         "name": "gender",
         "rawType": "object",
         "type": "string"
        },
        {
         "name": "department",
         "rawType": "object",
         "type": "string"
        },
        {
         "name": "Days Present",
         "rawType": "int64",
         "type": "integer"
        },
        {
         "name": "Accuracy of Work",
         "rawType": "object",
         "type": "string"
        },
        {
         "name": "Meeting Project Deadlines",
         "rawType": "object",
         "type": "string"
        },
        {
         "name": "Task Completion Rates",
         "rawType": "int64",
         "type": "integer"
        },
        {
         "name": "Interpersonal Skills Rating",
         "rawType": "int64",
         "type": "integer"
        },
        {
         "name": "Decision-Making Skills Rating",
         "rawType": "int64",
         "type": "integer"
        },
        {
         "name": "Sales Revenue Generated",
         "rawType": "int64",
         "type": "integer"
        },
        {
         "name": "churned",
         "rawType": "object",
         "type": "string"
        }
       ],
       "conversionMethod": "pd.DataFrame",
       "ref": "69d14831-3bdc-4919-8359-3107159a36c7",
       "rows": [
        [
         "0",
         "1",
         "Male",
         "Sales",
         "20",
         "High",
         "Yes",
         "85",
         "8",
         "7",
         "51638",
         "No"
        ],
        [
         "1",
         "2",
         "Female",
         "Marketing",
         "22",
         "Medium",
         "Yes",
         "90",
         "7",
         "6",
         "97797",
         "Yes"
        ],
        [
         "2",
         "3",
         "Male",
         "Human Resources",
         "25",
         "High",
         "No",
         "80",
         "9",
         "8",
         "95341",
         "No"
        ],
        [
         "3",
         "4",
         "Male",
         "Engineering",
         "19",
         "Low",
         "Yes",
         "75",
         "6",
         "5",
         "91806",
         "No"
        ],
        [
         "4",
         "5",
         "Female",
         "Finance",
         "23",
         "Medium",
         "Yes",
         "85",
         "7",
         "7",
         "64247",
         "Yes"
        ]
       ],
       "shape": {
        "columns": 11,
        "rows": 5
       }
      },
      "text/html": [
       "<div>\n",
       "<style scoped>\n",
       "    .dataframe tbody tr th:only-of-type {\n",
       "        vertical-align: middle;\n",
       "    }\n",
       "\n",
       "    .dataframe tbody tr th {\n",
       "        vertical-align: top;\n",
       "    }\n",
       "\n",
       "    .dataframe thead th {\n",
       "        text-align: right;\n",
       "    }\n",
       "</style>\n",
       "<table border=\"1\" class=\"dataframe\">\n",
       "  <thead>\n",
       "    <tr style=\"text-align: right;\">\n",
       "      <th></th>\n",
       "      <th>EmployeeID</th>\n",
       "      <th>gender</th>\n",
       "      <th>department</th>\n",
       "      <th>Days Present</th>\n",
       "      <th>Accuracy of Work</th>\n",
       "      <th>Meeting Project Deadlines</th>\n",
       "      <th>Task Completion Rates</th>\n",
       "      <th>Interpersonal Skills Rating</th>\n",
       "      <th>Decision-Making Skills Rating</th>\n",
       "      <th>Sales Revenue Generated</th>\n",
       "      <th>churned</th>\n",
       "    </tr>\n",
       "  </thead>\n",
       "  <tbody>\n",
       "    <tr>\n",
       "      <th>0</th>\n",
       "      <td>1</td>\n",
       "      <td>Male</td>\n",
       "      <td>Sales</td>\n",
       "      <td>20</td>\n",
       "      <td>High</td>\n",
       "      <td>Yes</td>\n",
       "      <td>85</td>\n",
       "      <td>8</td>\n",
       "      <td>7</td>\n",
       "      <td>51638</td>\n",
       "      <td>No</td>\n",
       "    </tr>\n",
       "    <tr>\n",
       "      <th>1</th>\n",
       "      <td>2</td>\n",
       "      <td>Female</td>\n",
       "      <td>Marketing</td>\n",
       "      <td>22</td>\n",
       "      <td>Medium</td>\n",
       "      <td>Yes</td>\n",
       "      <td>90</td>\n",
       "      <td>7</td>\n",
       "      <td>6</td>\n",
       "      <td>97797</td>\n",
       "      <td>Yes</td>\n",
       "    </tr>\n",
       "    <tr>\n",
       "      <th>2</th>\n",
       "      <td>3</td>\n",
       "      <td>Male</td>\n",
       "      <td>Human Resources</td>\n",
       "      <td>25</td>\n",
       "      <td>High</td>\n",
       "      <td>No</td>\n",
       "      <td>80</td>\n",
       "      <td>9</td>\n",
       "      <td>8</td>\n",
       "      <td>95341</td>\n",
       "      <td>No</td>\n",
       "    </tr>\n",
       "    <tr>\n",
       "      <th>3</th>\n",
       "      <td>4</td>\n",
       "      <td>Male</td>\n",
       "      <td>Engineering</td>\n",
       "      <td>19</td>\n",
       "      <td>Low</td>\n",
       "      <td>Yes</td>\n",
       "      <td>75</td>\n",
       "      <td>6</td>\n",
       "      <td>5</td>\n",
       "      <td>91806</td>\n",
       "      <td>No</td>\n",
       "    </tr>\n",
       "    <tr>\n",
       "      <th>4</th>\n",
       "      <td>5</td>\n",
       "      <td>Female</td>\n",
       "      <td>Finance</td>\n",
       "      <td>23</td>\n",
       "      <td>Medium</td>\n",
       "      <td>Yes</td>\n",
       "      <td>85</td>\n",
       "      <td>7</td>\n",
       "      <td>7</td>\n",
       "      <td>64247</td>\n",
       "      <td>Yes</td>\n",
       "    </tr>\n",
       "  </tbody>\n",
       "</table>\n",
       "</div>"
      ],
      "text/plain": [
       "   EmployeeID  gender       department  Days Present Accuracy of Work  \\\n",
       "0           1    Male            Sales            20             High   \n",
       "1           2  Female        Marketing            22           Medium   \n",
       "2           3    Male  Human Resources            25             High   \n",
       "3           4    Male      Engineering            19              Low   \n",
       "4           5  Female          Finance            23           Medium   \n",
       "\n",
       "  Meeting Project Deadlines  Task Completion Rates  \\\n",
       "0                       Yes                     85   \n",
       "1                       Yes                     90   \n",
       "2                        No                     80   \n",
       "3                       Yes                     75   \n",
       "4                       Yes                     85   \n",
       "\n",
       "   Interpersonal Skills Rating  Decision-Making Skills Rating  \\\n",
       "0                            8                              7   \n",
       "1                            7                              6   \n",
       "2                            9                              8   \n",
       "3                            6                              5   \n",
       "4                            7                              7   \n",
       "\n",
       "   Sales Revenue Generated churned  \n",
       "0                    51638      No  \n",
       "1                    97797     Yes  \n",
       "2                    95341      No  \n",
       "3                    91806      No  \n",
       "4                    64247     Yes  "
      ]
     },
     "execution_count": 17,
     "metadata": {},
     "output_type": "execute_result"
    }
   ],
   "source": [
    "df = pd.read_excel(r\"C:\\Users\\HP\\Downloads\\practice_data.xlsx\")\n",
    "df.head()"
   ]
  },
  {
   "cell_type": "code",
   "execution_count": 18,
   "id": "490e9eb2",
   "metadata": {},
   "outputs": [
    {
     "data": {
      "text/plain": [
       "Index(['EmployeeID', 'gender', 'department', 'Days Present',\n",
       "       'Accuracy of Work', 'Meeting Project Deadlines',\n",
       "       'Task Completion Rates', 'Interpersonal Skills Rating',\n",
       "       'Decision-Making Skills Rating', 'Sales Revenue Generated', 'churned'],\n",
       "      dtype='object')"
      ]
     },
     "execution_count": 18,
     "metadata": {},
     "output_type": "execute_result"
    }
   ],
   "source": [
    "df.columns"
   ]
  },
  {
   "cell_type": "code",
   "execution_count": null,
   "id": "3d33e35b",
   "metadata": {},
   "outputs": [
    {
     "data": {
      "application/vnd.microsoft.datawrangler.viewer.v0+json": {
       "columns": [
        {
         "name": "index",
         "rawType": "int64",
         "type": "integer"
        },
        {
         "name": "EmployeeID",
         "rawType": "float64",
         "type": "float"
        },
        {
         "name": "Days Present",
         "rawType": "float64",
         "type": "float"
        },
        {
         "name": "Task Completion Rates",
         "rawType": "float64",
         "type": "float"
        },
        {
         "name": "Interpersonal Skills Rating",
         "rawType": "float64",
         "type": "float"
        },
        {
         "name": "Decision-Making Skills Rating",
         "rawType": "float64",
         "type": "float"
        },
        {
         "name": "Sales Revenue Generated",
         "rawType": "float64",
         "type": "float"
        }
       ],
       "conversionMethod": "pd.DataFrame",
       "ref": "76049635-abae-4f02-933e-8e0e0f36eac4",
       "rows": [
        [
         "0",
         "1.1005647717665794",
         "-0.7942929481958454",
         "0.35355339059327323",
         "0.7745966692414834",
         "0.46499055497527736",
         "-0.1100304497822188"
        ],
        [
         "1",
         "-0.22563880257975888",
         "0.5673521058541753",
         "0.35355339059327323",
         "0.0",
         "0.46499055497527736",
         "-0.6966736257365544"
        ],
        [
         "2",
         "-1.5518423769260972",
         "-0.7942929481958454",
         "0.8838834764831839",
         "0.7745966692414834",
         "0.46499055497527736",
         "-1.867195880845937"
        ],
        [
         "3",
         "-1.1097745188106511",
         "0.5673521058541753",
         "0.8838834764831839",
         "0.0",
         "0.46499055497527736",
         "-0.9500249192082162"
        ],
        [
         "4",
         "0.2164290555356872",
         "-0.7942929481958454",
         "0.8838834764831839",
         "0.7745966692414834",
         "0.46499055497527736",
         "-0.1772416456386114"
        ]
       ],
       "shape": {
        "columns": 6,
        "rows": 5
       }
      },
      "text/html": [
       "<div>\n",
       "<style scoped>\n",
       "    .dataframe tbody tr th:only-of-type {\n",
       "        vertical-align: middle;\n",
       "    }\n",
       "\n",
       "    .dataframe tbody tr th {\n",
       "        vertical-align: top;\n",
       "    }\n",
       "\n",
       "    .dataframe thead th {\n",
       "        text-align: right;\n",
       "    }\n",
       "</style>\n",
       "<table border=\"1\" class=\"dataframe\">\n",
       "  <thead>\n",
       "    <tr style=\"text-align: right;\">\n",
       "      <th></th>\n",
       "      <th>EmployeeID</th>\n",
       "      <th>Days Present</th>\n",
       "      <th>Task Completion Rates</th>\n",
       "      <th>Interpersonal Skills Rating</th>\n",
       "      <th>Decision-Making Skills Rating</th>\n",
       "      <th>Sales Revenue Generated</th>\n",
       "    </tr>\n",
       "  </thead>\n",
       "  <tbody>\n",
       "    <tr>\n",
       "      <th>0</th>\n",
       "      <td>1.100565</td>\n",
       "      <td>-0.794293</td>\n",
       "      <td>0.353553</td>\n",
       "      <td>0.774597</td>\n",
       "      <td>0.464991</td>\n",
       "      <td>-0.110030</td>\n",
       "    </tr>\n",
       "    <tr>\n",
       "      <th>1</th>\n",
       "      <td>-0.225639</td>\n",
       "      <td>0.567352</td>\n",
       "      <td>0.353553</td>\n",
       "      <td>0.000000</td>\n",
       "      <td>0.464991</td>\n",
       "      <td>-0.696674</td>\n",
       "    </tr>\n",
       "    <tr>\n",
       "      <th>2</th>\n",
       "      <td>-1.551842</td>\n",
       "      <td>-0.794293</td>\n",
       "      <td>0.883883</td>\n",
       "      <td>0.774597</td>\n",
       "      <td>0.464991</td>\n",
       "      <td>-1.867196</td>\n",
       "    </tr>\n",
       "    <tr>\n",
       "      <th>3</th>\n",
       "      <td>-1.109775</td>\n",
       "      <td>0.567352</td>\n",
       "      <td>0.883883</td>\n",
       "      <td>0.000000</td>\n",
       "      <td>0.464991</td>\n",
       "      <td>-0.950025</td>\n",
       "    </tr>\n",
       "    <tr>\n",
       "      <th>4</th>\n",
       "      <td>0.216429</td>\n",
       "      <td>-0.794293</td>\n",
       "      <td>0.883883</td>\n",
       "      <td>0.774597</td>\n",
       "      <td>0.464991</td>\n",
       "      <td>-0.177242</td>\n",
       "    </tr>\n",
       "  </tbody>\n",
       "</table>\n",
       "</div>"
      ],
      "text/plain": [
       "   EmployeeID  Days Present  Task Completion Rates  \\\n",
       "0    1.100565     -0.794293               0.353553   \n",
       "1   -0.225639      0.567352               0.353553   \n",
       "2   -1.551842     -0.794293               0.883883   \n",
       "3   -1.109775      0.567352               0.883883   \n",
       "4    0.216429     -0.794293               0.883883   \n",
       "\n",
       "   Interpersonal Skills Rating  Decision-Making Skills Rating  \\\n",
       "0                     0.774597                       0.464991   \n",
       "1                     0.000000                       0.464991   \n",
       "2                     0.774597                       0.464991   \n",
       "3                     0.000000                       0.464991   \n",
       "4                     0.774597                       0.464991   \n",
       "\n",
       "   Sales Revenue Generated  \n",
       "0                -0.110030  \n",
       "1                -0.696674  \n",
       "2                -1.867196  \n",
       "3                -0.950025  \n",
       "4                -0.177242  "
      ]
     },
     "execution_count": 21,
     "metadata": {},
     "output_type": "execute_result"
    }
   ],
   "source": [
    "# splitting the data into train and test\n",
    "from sklearn.model_selection import train_test_split\n",
    "from sklearn.preprocessing import StandardScaler, LabelEncoder\n",
    "\n",
    "\n",
    "le = LabelEncoder()\n",
    "y = le.fit_transform(df['churned'])  \n",
    "\n",
    "x = df.drop(['gender', 'department', 'churned', 'Accuracy of Work', 'Meeting Project Deadlines'], axis=1)\n",
    "\n",
    "X_train, X_test, y_train, y_test = train_test_split(x, y, test_size=0.2, random_state=42)\n",
    "\n",
    "scaler = StandardScaler()\n",
    "X_train_scaled = scaler.fit_transform(X_train)\n",
    "X_test_scaled = scaler.transform(X_test)\n",
    "\n",
    "X_train_scaled = pd.DataFrame(X_train_scaled, columns=x.columns)\n",
    "X_test_scaled = pd.DataFrame(X_test_scaled, columns=x.columns)\n",
    "\n",
    "X_train_scaled.head()\n"
   ]
  },
  {
   "cell_type": "code",
   "execution_count": 22,
   "id": "aae8e868",
   "metadata": {},
   "outputs": [
    {
     "name": "stdout",
     "output_type": "stream",
     "text": [
      "(24, 6)\n",
      "(7, 6)\n",
      "(24,)\n",
      "(7,)\n"
     ]
    }
   ],
   "source": [
    "# test and train\n",
    "print(X_train_scaled.shape)\n",
    "print(X_test_scaled.shape)\n",
    "print(y_train.shape)\n",
    "print(y_test.shape)"
   ]
  },
  {
   "cell_type": "code",
   "execution_count": null,
   "id": "22315d4c",
   "metadata": {},
   "outputs": [],
   "source": []
  }
 ],
 "metadata": {
  "kernelspec": {
   "display_name": "base",
   "language": "python",
   "name": "python3"
  },
  "language_info": {
   "codemirror_mode": {
    "name": "ipython",
    "version": 3
   },
   "file_extension": ".py",
   "mimetype": "text/x-python",
   "name": "python",
   "nbconvert_exporter": "python",
   "pygments_lexer": "ipython3",
   "version": "3.11.5"
  }
 },
 "nbformat": 4,
 "nbformat_minor": 5
}
