{
 "cells": [
  {
   "cell_type": "markdown",
   "id": "7f32509b",
   "metadata": {},
   "source": [
    "### E-commerce Sales Analysis"
   ]
  },
  {
   "cell_type": "code",
   "execution_count": 1,
   "id": "74318904",
   "metadata": {},
   "outputs": [],
   "source": [
    "# importing the libraries\n",
    "import pandas as pd\n",
    "import numpy as np\n",
    "import matplotlib.pyplot as plt\n",
    "import seaborn as sns"
   ]
  },
  {
   "cell_type": "code",
   "execution_count": 2,
   "id": "9034652f",
   "metadata": {},
   "outputs": [
    {
     "data": {
      "application/vnd.microsoft.datawrangler.viewer.v0+json": {
       "columns": [
        {
         "name": "index",
         "rawType": "int64",
         "type": "integer"
        },
        {
         "name": "OrderID",
         "rawType": "int64",
         "type": "integer"
        },
        {
         "name": "CustomerID",
         "rawType": "int64",
         "type": "integer"
        },
        {
         "name": "OrderDate",
         "rawType": "object",
         "type": "string"
        },
        {
         "name": "Category",
         "rawType": "object",
         "type": "string"
        },
        {
         "name": "OrderValue",
         "rawType": "float64",
         "type": "float"
        },
        {
         "name": "DiscountApplied",
         "rawType": "int64",
         "type": "integer"
        },
        {
         "name": "PaymentMethod",
         "rawType": "object",
         "type": "string"
        },
        {
         "name": "Revenue",
         "rawType": "float64",
         "type": "float"
        }
       ],
       "ref": "e53e9ed9-21f4-4bb6-8ad3-fb1fa81ab93c",
       "rows": [
        [
         "0",
         "1001",
         "7",
         "2024-01-01",
         "Home & Kitchen",
         "156.59",
         "5",
         "Net Banking",
         "148.76"
        ],
        [
         "1",
         "1002",
         "20",
         "2024-01-02",
         "Books",
         "105.24",
         "10",
         "PayPal",
         "94.72"
        ],
        [
         "2",
         "1003",
         "15",
         "2024-01-03",
         "Books",
         "107.73",
         "5",
         "Credit Card",
         "102.34"
        ],
        [
         "3",
         "1004",
         "11",
         "2024-01-04",
         "Clothing",
         "97.77",
         "0",
         "Net Banking",
         "97.77"
        ],
        [
         "4",
         "1005",
         "8",
         "2024-01-05",
         "Home & Kitchen",
         "42.44",
         "20",
         "PayPal",
         "33.95"
        ]
       ],
       "shape": {
        "columns": 8,
        "rows": 5
       }
      },
      "text/html": [
       "<div>\n",
       "<style scoped>\n",
       "    .dataframe tbody tr th:only-of-type {\n",
       "        vertical-align: middle;\n",
       "    }\n",
       "\n",
       "    .dataframe tbody tr th {\n",
       "        vertical-align: top;\n",
       "    }\n",
       "\n",
       "    .dataframe thead th {\n",
       "        text-align: right;\n",
       "    }\n",
       "</style>\n",
       "<table border=\"1\" class=\"dataframe\">\n",
       "  <thead>\n",
       "    <tr style=\"text-align: right;\">\n",
       "      <th></th>\n",
       "      <th>OrderID</th>\n",
       "      <th>CustomerID</th>\n",
       "      <th>OrderDate</th>\n",
       "      <th>Category</th>\n",
       "      <th>OrderValue</th>\n",
       "      <th>DiscountApplied</th>\n",
       "      <th>PaymentMethod</th>\n",
       "      <th>Revenue</th>\n",
       "    </tr>\n",
       "  </thead>\n",
       "  <tbody>\n",
       "    <tr>\n",
       "      <th>0</th>\n",
       "      <td>1001</td>\n",
       "      <td>7</td>\n",
       "      <td>2024-01-01</td>\n",
       "      <td>Home &amp; Kitchen</td>\n",
       "      <td>156.59</td>\n",
       "      <td>5</td>\n",
       "      <td>Net Banking</td>\n",
       "      <td>148.76</td>\n",
       "    </tr>\n",
       "    <tr>\n",
       "      <th>1</th>\n",
       "      <td>1002</td>\n",
       "      <td>20</td>\n",
       "      <td>2024-01-02</td>\n",
       "      <td>Books</td>\n",
       "      <td>105.24</td>\n",
       "      <td>10</td>\n",
       "      <td>PayPal</td>\n",
       "      <td>94.72</td>\n",
       "    </tr>\n",
       "    <tr>\n",
       "      <th>2</th>\n",
       "      <td>1003</td>\n",
       "      <td>15</td>\n",
       "      <td>2024-01-03</td>\n",
       "      <td>Books</td>\n",
       "      <td>107.73</td>\n",
       "      <td>5</td>\n",
       "      <td>Credit Card</td>\n",
       "      <td>102.34</td>\n",
       "    </tr>\n",
       "    <tr>\n",
       "      <th>3</th>\n",
       "      <td>1004</td>\n",
       "      <td>11</td>\n",
       "      <td>2024-01-04</td>\n",
       "      <td>Clothing</td>\n",
       "      <td>97.77</td>\n",
       "      <td>0</td>\n",
       "      <td>Net Banking</td>\n",
       "      <td>97.77</td>\n",
       "    </tr>\n",
       "    <tr>\n",
       "      <th>4</th>\n",
       "      <td>1005</td>\n",
       "      <td>8</td>\n",
       "      <td>2024-01-05</td>\n",
       "      <td>Home &amp; Kitchen</td>\n",
       "      <td>42.44</td>\n",
       "      <td>20</td>\n",
       "      <td>PayPal</td>\n",
       "      <td>33.95</td>\n",
       "    </tr>\n",
       "  </tbody>\n",
       "</table>\n",
       "</div>"
      ],
      "text/plain": [
       "   OrderID  CustomerID   OrderDate        Category  OrderValue  \\\n",
       "0     1001           7  2024-01-01  Home & Kitchen      156.59   \n",
       "1     1002          20  2024-01-02           Books      105.24   \n",
       "2     1003          15  2024-01-03           Books      107.73   \n",
       "3     1004          11  2024-01-04        Clothing       97.77   \n",
       "4     1005           8  2024-01-05  Home & Kitchen       42.44   \n",
       "\n",
       "   DiscountApplied PaymentMethod  Revenue  \n",
       "0                5   Net Banking   148.76  \n",
       "1               10        PayPal    94.72  \n",
       "2                5   Credit Card   102.34  \n",
       "3                0   Net Banking    97.77  \n",
       "4               20        PayPal    33.95  "
      ]
     },
     "execution_count": 2,
     "metadata": {},
     "output_type": "execute_result"
    }
   ],
   "source": [
    "df = pd.read_csv(r\"C:\\Users\\HP\\Downloads\\ecommerce_sales_analysis_project\\data\\ecommerce_orders.csv\")\n",
    "df.head()"
   ]
  },
  {
   "cell_type": "code",
   "execution_count": 3,
   "id": "3e69ad3b",
   "metadata": {},
   "outputs": [
    {
     "data": {
      "application/vnd.microsoft.datawrangler.viewer.v0+json": {
       "columns": [
        {
         "name": "index",
         "rawType": "object",
         "type": "string"
        },
        {
         "name": "0",
         "rawType": "object",
         "type": "unknown"
        }
       ],
       "ref": "54b281de-d30c-4ff3-ab87-6142fe631687",
       "rows": [
        [
         "OrderID",
         "int64"
        ],
        [
         "CustomerID",
         "int64"
        ],
        [
         "OrderDate",
         "object"
        ],
        [
         "Category",
         "object"
        ],
        [
         "OrderValue",
         "float64"
        ],
        [
         "DiscountApplied",
         "int64"
        ],
        [
         "PaymentMethod",
         "object"
        ],
        [
         "Revenue",
         "float64"
        ]
       ],
       "shape": {
        "columns": 1,
        "rows": 8
       }
      },
      "text/plain": [
       "OrderID              int64\n",
       "CustomerID           int64\n",
       "OrderDate           object\n",
       "Category            object\n",
       "OrderValue         float64\n",
       "DiscountApplied      int64\n",
       "PaymentMethod       object\n",
       "Revenue            float64\n",
       "dtype: object"
      ]
     },
     "execution_count": 3,
     "metadata": {},
     "output_type": "execute_result"
    }
   ],
   "source": [
    "# check the data type\n",
    "df.dtypes"
   ]
  },
  {
   "cell_type": "code",
   "execution_count": 4,
   "id": "e5121da4",
   "metadata": {},
   "outputs": [
    {
     "data": {
      "application/vnd.microsoft.datawrangler.viewer.v0+json": {
       "columns": [
        {
         "name": "index",
         "rawType": "object",
         "type": "string"
        },
        {
         "name": "0",
         "rawType": "object",
         "type": "unknown"
        }
       ],
       "ref": "12bd4ff9-6133-4044-afa2-b7becfd680ae",
       "rows": [
        [
         "OrderID",
         "int64"
        ],
        [
         "CustomerID",
         "int64"
        ],
        [
         "OrderDate",
         "datetime64[ns]"
        ],
        [
         "Category",
         "object"
        ],
        [
         "OrderValue",
         "float64"
        ],
        [
         "DiscountApplied",
         "int64"
        ],
        [
         "PaymentMethod",
         "object"
        ],
        [
         "Revenue",
         "float64"
        ]
       ],
       "shape": {
        "columns": 1,
        "rows": 8
       }
      },
      "text/plain": [
       "OrderID                     int64\n",
       "CustomerID                  int64\n",
       "OrderDate          datetime64[ns]\n",
       "Category                   object\n",
       "OrderValue                float64\n",
       "DiscountApplied             int64\n",
       "PaymentMethod              object\n",
       "Revenue                   float64\n",
       "dtype: object"
      ]
     },
     "execution_count": 4,
     "metadata": {},
     "output_type": "execute_result"
    }
   ],
   "source": [
    "# chenge the data type\n",
    "df['OrderDate'] = pd.to_datetime(df['OrderDate'])\n",
    "df.dtypes"
   ]
  },
  {
   "cell_type": "code",
   "execution_count": 5,
   "id": "59c56795",
   "metadata": {},
   "outputs": [
    {
     "name": "stdout",
     "output_type": "stream",
     "text": [
      "<class 'pandas.core.frame.DataFrame'>\n",
      "RangeIndex: 100 entries, 0 to 99\n",
      "Data columns (total 8 columns):\n",
      " #   Column           Non-Null Count  Dtype         \n",
      "---  ------           --------------  -----         \n",
      " 0   OrderID          100 non-null    int64         \n",
      " 1   CustomerID       100 non-null    int64         \n",
      " 2   OrderDate        100 non-null    datetime64[ns]\n",
      " 3   Category         100 non-null    object        \n",
      " 4   OrderValue       100 non-null    float64       \n",
      " 5   DiscountApplied  100 non-null    int64         \n",
      " 6   PaymentMethod    100 non-null    object        \n",
      " 7   Revenue          100 non-null    float64       \n",
      "dtypes: datetime64[ns](1), float64(2), int64(3), object(2)\n",
      "memory usage: 6.4+ KB\n"
     ]
    }
   ],
   "source": [
    "df.info()"
   ]
  },
  {
   "cell_type": "code",
   "execution_count": 6,
   "id": "eca8fd0b",
   "metadata": {},
   "outputs": [
    {
     "data": {
      "application/vnd.microsoft.datawrangler.viewer.v0+json": {
       "columns": [
        {
         "name": "index",
         "rawType": "object",
         "type": "string"
        },
        {
         "name": "0",
         "rawType": "int64",
         "type": "integer"
        }
       ],
       "ref": "ce48a74b-cf81-4355-9fcd-855367d6c151",
       "rows": [
        [
         "OrderID",
         "0"
        ],
        [
         "CustomerID",
         "0"
        ],
        [
         "OrderDate",
         "0"
        ],
        [
         "Category",
         "0"
        ],
        [
         "OrderValue",
         "0"
        ],
        [
         "DiscountApplied",
         "0"
        ],
        [
         "PaymentMethod",
         "0"
        ],
        [
         "Revenue",
         "0"
        ]
       ],
       "shape": {
        "columns": 1,
        "rows": 8
       }
      },
      "text/plain": [
       "OrderID            0\n",
       "CustomerID         0\n",
       "OrderDate          0\n",
       "Category           0\n",
       "OrderValue         0\n",
       "DiscountApplied    0\n",
       "PaymentMethod      0\n",
       "Revenue            0\n",
       "dtype: int64"
      ]
     },
     "execution_count": 6,
     "metadata": {},
     "output_type": "execute_result"
    }
   ],
   "source": [
    "# check the null values\n",
    "df.isnull().sum()"
   ]
  },
  {
   "cell_type": "code",
   "execution_count": 7,
   "id": "8627918e",
   "metadata": {},
   "outputs": [
    {
     "data": {
      "text/plain": [
       "0"
      ]
     },
     "execution_count": 7,
     "metadata": {},
     "output_type": "execute_result"
    }
   ],
   "source": [
    "# check the duplicates\n",
    "df.duplicated().sum()"
   ]
  },
  {
   "cell_type": "code",
   "execution_count": 8,
   "id": "290597df",
   "metadata": {},
   "outputs": [
    {
     "data": {
      "application/vnd.microsoft.datawrangler.viewer.v0+json": {
       "columns": [
        {
         "name": "index",
         "rawType": "object",
         "type": "string"
        },
        {
         "name": "0",
         "rawType": "int64",
         "type": "integer"
        }
       ],
       "ref": "934d399d-acdb-4fce-a9ff-2d8f924ca81b",
       "rows": [
        [
         "OrderID",
         "100"
        ],
        [
         "CustomerID",
         "20"
        ],
        [
         "OrderDate",
         "100"
        ],
        [
         "Category",
         "4"
        ],
        [
         "OrderValue",
         "99"
        ],
        [
         "DiscountApplied",
         "5"
        ],
        [
         "PaymentMethod",
         "3"
        ],
        [
         "Revenue",
         "100"
        ]
       ],
       "shape": {
        "columns": 1,
        "rows": 8
       }
      },
      "text/plain": [
       "OrderID            100\n",
       "CustomerID          20\n",
       "OrderDate          100\n",
       "Category             4\n",
       "OrderValue          99\n",
       "DiscountApplied      5\n",
       "PaymentMethod        3\n",
       "Revenue            100\n",
       "dtype: int64"
      ]
     },
     "execution_count": 8,
     "metadata": {},
     "output_type": "execute_result"
    }
   ],
   "source": [
    "# check the unique values\n",
    "df.nunique()"
   ]
  },
  {
   "cell_type": "code",
   "execution_count": 9,
   "id": "1663db07",
   "metadata": {},
   "outputs": [
    {
     "data": {
      "application/vnd.microsoft.datawrangler.viewer.v0+json": {
       "columns": [
        {
         "name": "index",
         "rawType": "object",
         "type": "string"
        },
        {
         "name": "OrderID",
         "rawType": "float64",
         "type": "float"
        },
        {
         "name": "CustomerID",
         "rawType": "float64",
         "type": "float"
        },
        {
         "name": "OrderDate",
         "rawType": "object",
         "type": "unknown"
        },
        {
         "name": "OrderValue",
         "rawType": "float64",
         "type": "float"
        },
        {
         "name": "DiscountApplied",
         "rawType": "float64",
         "type": "float"
        },
        {
         "name": "Revenue",
         "rawType": "float64",
         "type": "float"
        }
       ],
       "ref": "7abd6007-6b19-43d7-b4cd-be05cd68c742",
       "rows": [
        [
         "count",
         "100.0",
         "100.0",
         "100",
         "100.0",
         "100.0",
         "100.0"
        ],
        [
         "mean",
         "1050.5",
         "10.01",
         "2024-02-19 12:00:00",
         "101.71270000000003",
         "10.75",
         "91.477"
        ],
        [
         "min",
         "1001.0",
         "1.0",
         "2024-01-01 00:00:00",
         "42.44",
         "0.0",
         "33.95"
        ],
        [
         "25%",
         "1025.75",
         "5.75",
         "2024-01-25 18:00:00",
         "75.4925",
         "5.0",
         "70.4225"
        ],
        [
         "50%",
         "1050.5",
         "9.5",
         "2024-02-19 12:00:00",
         "105.22",
         "10.0",
         "93.825"
        ],
        [
         "75%",
         "1075.25",
         "15.0",
         "2024-03-15 06:00:00",
         "119.0025",
         "16.25",
         "105.8375"
        ],
        [
         "max",
         "1100.0",
         "20.0",
         "2024-04-09 00:00:00",
         "181.61",
         "20.0",
         "181.61"
        ],
        [
         "std",
         "29.011491975882016",
         "5.535003398938671",
         null,
         "28.94113157215467",
         "7.295183134760701",
         "29.551128112599564"
        ]
       ],
       "shape": {
        "columns": 6,
        "rows": 8
       }
      },
      "text/html": [
       "<div>\n",
       "<style scoped>\n",
       "    .dataframe tbody tr th:only-of-type {\n",
       "        vertical-align: middle;\n",
       "    }\n",
       "\n",
       "    .dataframe tbody tr th {\n",
       "        vertical-align: top;\n",
       "    }\n",
       "\n",
       "    .dataframe thead th {\n",
       "        text-align: right;\n",
       "    }\n",
       "</style>\n",
       "<table border=\"1\" class=\"dataframe\">\n",
       "  <thead>\n",
       "    <tr style=\"text-align: right;\">\n",
       "      <th></th>\n",
       "      <th>OrderID</th>\n",
       "      <th>CustomerID</th>\n",
       "      <th>OrderDate</th>\n",
       "      <th>OrderValue</th>\n",
       "      <th>DiscountApplied</th>\n",
       "      <th>Revenue</th>\n",
       "    </tr>\n",
       "  </thead>\n",
       "  <tbody>\n",
       "    <tr>\n",
       "      <th>count</th>\n",
       "      <td>100.000000</td>\n",
       "      <td>100.000000</td>\n",
       "      <td>100</td>\n",
       "      <td>100.000000</td>\n",
       "      <td>100.000000</td>\n",
       "      <td>100.000000</td>\n",
       "    </tr>\n",
       "    <tr>\n",
       "      <th>mean</th>\n",
       "      <td>1050.500000</td>\n",
       "      <td>10.010000</td>\n",
       "      <td>2024-02-19 12:00:00</td>\n",
       "      <td>101.712700</td>\n",
       "      <td>10.750000</td>\n",
       "      <td>91.477000</td>\n",
       "    </tr>\n",
       "    <tr>\n",
       "      <th>min</th>\n",
       "      <td>1001.000000</td>\n",
       "      <td>1.000000</td>\n",
       "      <td>2024-01-01 00:00:00</td>\n",
       "      <td>42.440000</td>\n",
       "      <td>0.000000</td>\n",
       "      <td>33.950000</td>\n",
       "    </tr>\n",
       "    <tr>\n",
       "      <th>25%</th>\n",
       "      <td>1025.750000</td>\n",
       "      <td>5.750000</td>\n",
       "      <td>2024-01-25 18:00:00</td>\n",
       "      <td>75.492500</td>\n",
       "      <td>5.000000</td>\n",
       "      <td>70.422500</td>\n",
       "    </tr>\n",
       "    <tr>\n",
       "      <th>50%</th>\n",
       "      <td>1050.500000</td>\n",
       "      <td>9.500000</td>\n",
       "      <td>2024-02-19 12:00:00</td>\n",
       "      <td>105.220000</td>\n",
       "      <td>10.000000</td>\n",
       "      <td>93.825000</td>\n",
       "    </tr>\n",
       "    <tr>\n",
       "      <th>75%</th>\n",
       "      <td>1075.250000</td>\n",
       "      <td>15.000000</td>\n",
       "      <td>2024-03-15 06:00:00</td>\n",
       "      <td>119.002500</td>\n",
       "      <td>16.250000</td>\n",
       "      <td>105.837500</td>\n",
       "    </tr>\n",
       "    <tr>\n",
       "      <th>max</th>\n",
       "      <td>1100.000000</td>\n",
       "      <td>20.000000</td>\n",
       "      <td>2024-04-09 00:00:00</td>\n",
       "      <td>181.610000</td>\n",
       "      <td>20.000000</td>\n",
       "      <td>181.610000</td>\n",
       "    </tr>\n",
       "    <tr>\n",
       "      <th>std</th>\n",
       "      <td>29.011492</td>\n",
       "      <td>5.535003</td>\n",
       "      <td>NaN</td>\n",
       "      <td>28.941132</td>\n",
       "      <td>7.295183</td>\n",
       "      <td>29.551128</td>\n",
       "    </tr>\n",
       "  </tbody>\n",
       "</table>\n",
       "</div>"
      ],
      "text/plain": [
       "           OrderID  CustomerID            OrderDate  OrderValue  \\\n",
       "count   100.000000  100.000000                  100  100.000000   \n",
       "mean   1050.500000   10.010000  2024-02-19 12:00:00  101.712700   \n",
       "min    1001.000000    1.000000  2024-01-01 00:00:00   42.440000   \n",
       "25%    1025.750000    5.750000  2024-01-25 18:00:00   75.492500   \n",
       "50%    1050.500000    9.500000  2024-02-19 12:00:00  105.220000   \n",
       "75%    1075.250000   15.000000  2024-03-15 06:00:00  119.002500   \n",
       "max    1100.000000   20.000000  2024-04-09 00:00:00  181.610000   \n",
       "std      29.011492    5.535003                  NaN   28.941132   \n",
       "\n",
       "       DiscountApplied     Revenue  \n",
       "count       100.000000  100.000000  \n",
       "mean         10.750000   91.477000  \n",
       "min           0.000000   33.950000  \n",
       "25%           5.000000   70.422500  \n",
       "50%          10.000000   93.825000  \n",
       "75%          16.250000  105.837500  \n",
       "max          20.000000  181.610000  \n",
       "std           7.295183   29.551128  "
      ]
     },
     "execution_count": 9,
     "metadata": {},
     "output_type": "execute_result"
    }
   ],
   "source": [
    "# check the summary statistics\n",
    "df.describe()\n"
   ]
  },
  {
   "cell_type": "code",
   "execution_count": 10,
   "id": "2440edd4",
   "metadata": {},
   "outputs": [
    {
     "data": {
      "text/plain": [
       "Index(['OrderID', 'CustomerID', 'OrderDate', 'Category', 'OrderValue',\n",
       "       'DiscountApplied', 'PaymentMethod', 'Revenue'],\n",
       "      dtype='object')"
      ]
     },
     "execution_count": 10,
     "metadata": {},
     "output_type": "execute_result"
    }
   ],
   "source": [
    "df.columns"
   ]
  },
  {
   "cell_type": "code",
   "execution_count": null,
   "id": "115f3c72",
   "metadata": {},
   "outputs": [
    {
     "data": {
      "image/png": "[encoded data removed]",
      "text/plain": [
       "<Figure size 1500x600 with 1 Axes>"
      ]
     },
     "metadata": {},
     "output_type": "display_data"
    }
   ],
   "source": [
    "# Create the line plot\n",
    "plt.figure(figsize=(15, 6))\n",
    "sns.lineplot(x='OrderDate', y='Revenue', data=df,)\n",
    "plt.title('Revenue Over Time: A Story of Growth and Seasonality')\n",
    "plt.xlabel('Order Date')\n",
    "plt.ylabel('Revenue ($ thousands)')\n",
    "# Adding a horizontal line to represent the average revenue\n",
    "avg_revenue = df['Revenue'].mean()\n",
    "plt.axhline(avg_revenue, color='red', linestyle='--', label='Average Revenue')\n",
    "plt.legend()\n",
    "plt.show()"
   ]
  },
  {
   "cell_type": "code",
   "execution_count": 29,
   "id": "4a304cdc",
   "metadata": {},
   "outputs": [
    {
     "data": {
      "application/vnd.plotly.v1+json": {
       "config": {
        "plotlyServerURL": "https://plot.ly"
       },
       "data": [
        {
         "mode": "lines",
         "name": "Revenue",
         "type": "scatter",
         "x": [
          "2024-01-01T00:00:00",
          "2024-01-02T00:00:00",
          "2024-01-03T00:00:00",
          "2024-01-04T00:00:00",
          "2024-01-05T00:00:00",
          "2024-01-06T00:00:00",
          "2024-01-07T00:00:00",
          "2024-01-08T00:00:00",
          "2024-01-09T00:00:00",
          "2024-01-10T00:00:00",
          "2024-01-11T00:00:00",
          "2024-01-12T00:00:00",
          "2024-01-13T00:00:00",
          "2024-01-14T00:00:00",
          "2024-01-15T00:00:00",
          "2024-01-16T00:00:00",
          "2024-01-17T00:00:00",
          "2024-01-18T00:00:00",
          "2024-01-19T00:00:00",
          "2024-01-20T00:00:00",
          "2024-01-21T00:00:00",
          "2024-01-22T00:00:00",
          "2024-01-23T00:00:00",
          "2024-01-24T00:00:00",
          "2024-01-25T00:00:00",
          "2024-01-26T00:00:00",
          "2024-01-27T00:00:00",
          "2024-01-28T00:00:00",
          "2024-01-29T00:00:00",
          "2024-01-30T00:00:00",
          "2024-01-31T00:00:00",
          "2024-02-01T00:00:00",
          "2024-02-02T00:00:00",
          "2024-02-03T00:00:00",
          "2024-02-04T00:00:00",
          "2024-02-05T00:00:00",
          "2024-02-06T00:00:00",
          "2024-02-07T00:00:00",
          "2024-02-08T00:00:00",
          "2024-02-09T00:00:00",
          "2024-02-10T00:00:00",
          "2024-02-11T00:00:00",
          "2024-02-12T00:00:00",
          "2024-02-13T00:00:00",
          "2024-02-14T00:00:00",
          "2024-02-15T00:00:00",
          "2024-02-16T00:00:00",
          "2024-02-17T00:00:00",
          "2024-02-18T00:00:00",
          "2024-02-19T00:00:00",
          "2024-02-20T00:00:00",
          "2024-02-21T00:00:00",
          "2024-02-22T00:00:00",
          "2024-02-23T00:00:00",
          "2024-02-24T00:00:00",
          "2024-02-25T00:00:00",
          "2024-02-26T00:00:00",
          "2024-02-27T00:00:00",
          "2024-02-28T00:00:00",
          "2024-02-29T00:00:00",
          "2024-03-01T00:00:00",
          "2024-03-02T00:00:00",
          "2024-03-03T00:00:00",
          "2024-03-04T00:00:00",
          "2024-03-05T00:00:00",
          "2024-03-06T00:00:00",
          "2024-03-07T00:00:00",
          "2024-03-08T00:00:00",
          "2024-03-09T00:00:00",
          "2024-03-10T00:00:00",
          "2024-03-11T00:00:00",
          "2024-03-12T00:00:00",
          "2024-03-13T00:00:00",
          "2024-03-14T00:00:00",
          "2024-03-15T00:00:00",
          "2024-03-16T00:00:00",
          "2024-03-17T00:00:00",
          "2024-03-18T00:00:00",
          "2024-03-19T00:00:00",
          "2024-03-20T00:00:00",
          "2024-03-21T00:00:00",
          "2024-03-22T00:00:00",
          "2024-03-23T00:00:00",
          "2024-03-24T00:00:00",
          "2024-03-25T00:00:00",
          "2024-03-26T00:00:00",
          "2024-03-27T00:00:00",
          "2024-03-28T00:00:00",
          "2024-03-29T00:00:00",
          "2024-03-30T00:00:00",
          "2024-03-31T00:00:00",
          "2024-04-01T00:00:00",
          "2024-04-02T00:00:00",
          "2024-04-03T00:00:00",
          "2024-04-04T00:00:00",
          "2024-04-05T00:00:00",
          "2024-04-06T00:00:00",
          "2024-04-07T00:00:00",
          "2024-04-08T00:00:00",
          "2024-04-09T00:00:00"
         ],
         "y": [
          148.76,
          94.72,
          102.34,
          97.77,
          33.95,
          84.32,
          96.72,
          173.9,
          80.1,
          87.24,
          84.12,
          64.94,
          114.14,
          110.3,
          105.17,
          69.08,
          134.98,
          52.15,
          117.61,
          157.42,
          56.22,
          78.86,
          97.84,
          84.9,
          45.46,
          96.96,
          61.32,
          97.08,
          57.94,
          146.5,
          61.2,
          76.79,
          105.75,
          53.61,
          85.46,
          118.33,
          41.42,
          89.71,
          97.02,
          104.93,
          50.31,
          57.37,
          98.31,
          103.46,
          96.76,
          110.39,
          71.64,
          90.92,
          103.35,
          74.64,
          124.78,
          108.5,
          51.41,
          119.7,
          60.15,
          98.89,
          134.76,
          71.61,
          122.46,
          112.38,
          118.43,
          156.9,
          74.11,
          61.91,
          73.31,
          60.42,
          78.15,
          88.18,
          97.47,
          106.1,
          95.37,
          129.25,
          73.65,
          181.61,
          95.02,
          63.15,
          54.3,
          114.47,
          79.3,
          97.14,
          97.07,
          92.93,
          70.87,
          43.64,
          73.61,
          125.69,
          85.14,
          59.5,
          99.94,
          89.25,
          62.46,
          99.38,
          86.49,
          62.42,
          105.19,
          105.14,
          125.87,
          131.61,
          46.94,
          57.5
         ]
        }
       ],
       "layout": {
        "shapes": [
         {
          "line": {
           "color": "red",
           "dash": "dash"
          },
          "type": "line",
          "x0": 0,
          "x1": 1,
          "xref": "x domain",
          "y0": 91.477,
          "y1": 91.477,
          "yref": "y"
         }
        ],
        "template": {
         "data": {
          "bar": [
           {
            "error_x": {
             "color": "#2a3f5f"
            },
            "error_y": {
             "color": "#2a3f5f"
            },
            "marker": {
             "line": {
              "color": "#E5ECF6",
              "width": 0.5
             },
             "pattern": {
              "fillmode": "overlay",
              "size": 10,
              "solidity": 0.2
             }
            },
            "type": "bar"
           }
          ],
          "barpolar": [
           {
            "marker": {
             "line": {
              "color": "#E5ECF6",
              "width": 0.5
             },
             "pattern": {
              "fillmode": "overlay",
              "size": 10,
              "solidity": 0.2
             }
            },
            "type": "barpolar"
           }
          ],
          "carpet": [
           {
            "aaxis": {
             "endlinecolor": "#2a3f5f",
             "gridcolor": "white",
             "linecolor": "white",
             "minorgridcolor": "white",
             "startlinecolor": "#2a3f5f"
            },
            "baxis": {
             "endlinecolor": "#2a3f5f",
             "gridcolor": "white",
             "linecolor": "white",
             "minorgridcolor": "white",
             "startlinecolor": "#2a3f5f"
            },
            "type": "carpet"
           }
          ],
          "choropleth": [
           {
            "colorbar": {
             "outlinewidth": 0,
             "ticks": ""
            },
            "type": "choropleth"
           }
          ],
          "contour": [
           {
            "colorbar": {
             "outlinewidth": 0,
             "ticks": ""
            },
            "colorscale": [
             [
              0,
              "#0d0887"
             ],
             [
              0.1111111111111111,
              "#46039f"
             ],
             [
              0.2222222222222222,
              "#7201a8"
             ],
             [
              0.3333333333333333,
              "#9c179e"
             ],
             [
              0.4444444444444444,
              "#bd3786"
             ],
             [
              0.5555555555555556,
              "#d8576b"
             ],
             [
              0.6666666666666666,
              "#ed7953"
             ],
             [
              0.7777777777777778,
              "#fb9f3a"
             ],
             [
              0.8888888888888888,
              "#fdca26"
             ],
             [
              1,
              "#f0f921"
             ]
            ],
            "type": "contour"
           }
          ],
          "contourcarpet": [
           {
            "colorbar": {
             "outlinewidth": 0,
             "ticks": ""
            },
            "type": "contourcarpet"
           }
          ],
          "heatmap": [
           {
            "colorbar": {
             "outlinewidth": 0,
             "ticks": ""
            },
            "colorscale": [
             [
              0,
              "#0d0887"
             ],
             [
              0.1111111111111111,
              "#46039f"
             ],
             [
              0.2222222222222222,
              "#7201a8"
             ],
             [
              0.3333333333333333,
              "#9c179e"
             ],
             [
              0.4444444444444444,
              "#bd3786"
             ],
             [
              0.5555555555555556,
              "#d8576b"
             ],
             [
              0.6666666666666666,
              "#ed7953"
             ],
             [
              0.7777777777777778,
              "#fb9f3a"
             ],
             [
              0.8888888888888888,
              "#fdca26"
             ],
             [
              1,
              "#f0f921"
             ]
            ],
            "type": "heatmap"
           }
          ],
          "heatmapgl": [
           {
            "colorbar": {
             "outlinewidth": 0,
             "ticks": ""
            },
            "colorscale": [
             [
              0,
              "#0d0887"
             ],
             [
              0.1111111111111111,
              "#46039f"
             ],
             [
              0.2222222222222222,
              "#7201a8"
             ],
             [
              0.3333333333333333,
              "#9c179e"
             ],
             [
              0.4444444444444444,
              "#bd3786"
             ],
             [
              0.5555555555555556,
              "#d8576b"
             ],
             [
              0.6666666666666666,
              "#ed7953"
             ],
             [
              0.7777777777777778,
              "#fb9f3a"
             ],
             [
              0.8888888888888888,
              "#fdca26"
             ],
             [
              1,
              "#f0f921"
             ]
            ],
            "type": "heatmapgl"
           }
          ],
          "histogram": [
           {
            "marker": {
             "pattern": {
              "fillmode": "overlay",
              "size": 10,
              "solidity": 0.2
             }
            },
            "type": "histogram"
           }
          ],
          "histogram2d": [
           {
            "colorbar": {
             "outlinewidth": 0,
             "ticks": ""
            },
            "colorscale": [
             [
              0,
              "#0d0887"
             ],
             [
              0.1111111111111111,
              "#46039f"
             ],
             [
              0.2222222222222222,
              "#7201a8"
             ],
             [
              0.3333333333333333,
              "#9c179e"
             ],
             [
              0.4444444444444444,
              "#bd3786"
             ],
             [
              0.5555555555555556,
              "#d8576b"
             ],
             [
              0.6666666666666666,
              "#ed7953"
             ],
             [
              0.7777777777777778,
              "#fb9f3a"
             ],
             [
              0.8888888888888888,
              "#fdca26"
             ],
             [
              1,
              "#f0f921"
             ]
            ],
            "type": "histogram2d"
           }
          ],
          "histogram2dcontour": [
           {
            "colorbar": {
             "outlinewidth": 0,
             "ticks": ""
            },
            "colorscale": [
             [
              0,
              "#0d0887"
             ],
             [
              0.1111111111111111,
              "#46039f"
             ],
             [
              0.2222222222222222,
              "#7201a8"
             ],
             [
              0.3333333333333333,
              "#9c179e"
             ],
             [
              0.4444444444444444,
              "#bd3786"
             ],
             [
              0.5555555555555556,
              "#d8576b"
             ],
             [
              0.6666666666666666,
              "#ed7953"
             ],
             [
              0.7777777777777778,
              "#fb9f3a"
             ],
             [
              0.8888888888888888,
              "#fdca26"
             ],
             [
              1,
              "#f0f921"
             ]
            ],
            "type": "histogram2dcontour"
           }
          ],
          "mesh3d": [
           {
            "colorbar": {
             "outlinewidth": 0,
             "ticks": ""
            },
            "type": "mesh3d"
           }
          ],
          "parcoords": [
           {
            "line": {
             "colorbar": {
              "outlinewidth": 0,
              "ticks": ""
             }
            },
            "type": "parcoords"
           }
          ],
          "pie": [
           {
            "automargin": true,
            "type": "pie"
           }
          ],
          "scatter": [
           {
            "fillpattern": {
             "fillmode": "overlay",
             "size": 10,
             "solidity": 0.2
            },
            "type": "scatter"
           }
          ],
          "scatter3d": [
           {
            "line": {
             "colorbar": {
              "outlinewidth": 0,
              "ticks": ""
             }
            },
            "marker": {
             "colorbar": {
              "outlinewidth": 0,
              "ticks": ""
             }
            },
            "type": "scatter3d"
           }
          ],
          "scattercarpet": [
           {
            "marker": {
             "colorbar": {
              "outlinewidth": 0,
              "ticks": ""
             }
            },
            "type": "scattercarpet"
           }
          ],
          "scattergeo": [
           {
            "marker": {
             "colorbar": {
              "outlinewidth": 0,
              "ticks": ""
             }
            },
            "type": "scattergeo"
           }
          ],
          "scattergl": [
           {
            "marker": {
             "colorbar": {
              "outlinewidth": 0,
              "ticks": ""
             }
            },
            "type": "scattergl"
           }
          ],
          "scattermapbox": [
           {
            "marker": {
             "colorbar": {
              "outlinewidth": 0,
              "ticks": ""
             }
            },
            "type": "scattermapbox"
           }
          ],
          "scatterpolar": [
           {
            "marker": {
             "colorbar": {
              "outlinewidth": 0,
              "ticks": ""
             }
            },
            "type": "scatterpolar"
           }
          ],
          "scatterpolargl": [
           {
            "marker": {
             "colorbar": {
              "outlinewidth": 0,
              "ticks": ""
             }
            },
            "type": "scatterpolargl"
           }
          ],
          "scatterternary": [
           {
            "marker": {
             "colorbar": {
              "outlinewidth": 0,
              "ticks": ""
             }
            },
            "type": "scatterternary"
           }
          ],
          "surface": [
           {
            "colorbar": {
             "outlinewidth": 0,
             "ticks": ""
            },
            "colorscale": [
             [
              0,
              "#0d0887"
             ],
             [
              0.1111111111111111,
              "#46039f"
             ],
             [
              0.2222222222222222,
              "#7201a8"
             ],
             [
              0.3333333333333333,
              "#9c179e"
             ],
             [
              0.4444444444444444,
              "#bd3786"
             ],
             [
              0.5555555555555556,
              "#d8576b"
             ],
             [
              0.6666666666666666,
              "#ed7953"
             ],
             [
              0.7777777777777778,
              "#fb9f3a"
             ],
             [
              0.8888888888888888,
              "#fdca26"
             ],
             [
              1,
              "#f0f921"
             ]
            ],
            "type": "surface"
           }
          ],
          "table": [
           {
            "cells": {
             "fill": {
              "color": "#EBF0F8"
             },
             "line": {
              "color": "white"
             }
            },
            "header": {
             "fill": {
              "color": "#C8D4E3"
             },
             "line": {
              "color": "white"
             }
            },
            "type": "table"
           }
          ]
         },
         "layout": {
          "annotationdefaults": {
           "arrowcolor": "#2a3f5f",
           "arrowhead": 0,
           "arrowwidth": 1
          },
          "autotypenumbers": "strict",
          "coloraxis": {
           "colorbar": {
            "outlinewidth": 0,
            "ticks": ""
           }
          },
          "colorscale": {
           "diverging": [
            [
             0,
             "#8e0152"
            ],
            [
             0.1,
             "#c51b7d"
            ],
            [
             0.2,
             "#de77ae"
            ],
            [
             0.3,
             "#f1b6da"
            ],
            [
             0.4,
             "#fde0ef"
            ],
            [
             0.5,
             "#f7f7f7"
            ],
            [
             0.6,
             "#e6f5d0"
            ],
            [
             0.7,
             "#b8e186"
            ],
            [
             0.8,
             "#7fbc41"
            ],
            [
             0.9,
             "#4d9221"
            ],
            [
             1,
             "#276419"
            ]
           ],
           "sequential": [
            [
             0,
             "#0d0887"
            ],
            [
             0.1111111111111111,
             "#46039f"
            ],
            [
             0.2222222222222222,
             "#7201a8"
            ],
            [
             0.3333333333333333,
             "#9c179e"
            ],
            [
             0.4444444444444444,
             "#bd3786"
            ],
            [
             0.5555555555555556,
             "#d8576b"
            ],
            [
             0.6666666666666666,
             "#ed7953"
            ],
            [
             0.7777777777777778,
             "#fb9f3a"
            ],
            [
             0.8888888888888888,
             "#fdca26"
            ],
            [
             1,
             "#f0f921"
            ]
           ],
           "sequentialminus": [
            [
             0,
             "#0d0887"
            ],
            [
             0.1111111111111111,
             "#46039f"
            ],
            [
             0.2222222222222222,
             "#7201a8"
            ],
            [
             0.3333333333333333,
             "#9c179e"
            ],
            [
             0.4444444444444444,
             "#bd3786"
            ],
            [
             0.5555555555555556,
             "#d8576b"
            ],
            [
             0.6666666666666666,
             "#ed7953"
            ],
            [
             0.7777777777777778,
             "#fb9f3a"
            ],
            [
             0.8888888888888888,
             "#fdca26"
            ],
            [
             1,
             "#f0f921"
            ]
           ]
          },
          "colorway": [
           "#636efa",
           "#EF553B",
           "#00cc96",
           "#ab63fa",
           "#FFA15A",
           "#19d3f3",
           "#FF6692",
           "#B6E880",
           "#FF97FF",
           "#FECB52"
          ],
          "font": {
           "color": "#2a3f5f"
          },
          "geo": {
           "bgcolor": "white",
           "lakecolor": "white",
           "landcolor": "#E5ECF6",
           "showlakes": true,
           "showland": true,
           "subunitcolor": "white"
          },
          "hoverlabel": {
           "align": "left"
          },
          "hovermode": "closest",
          "mapbox": {
           "style": "light"
          },
          "paper_bgcolor": "white",
          "plot_bgcolor": "#E5ECF6",
          "polar": {
           "angularaxis": {
            "gridcolor": "white",
            "linecolor": "white",
            "ticks": ""
           },
           "bgcolor": "#E5ECF6",
           "radialaxis": {
            "gridcolor": "white",
            "linecolor": "white",
            "ticks": ""
           }
          },
          "scene": {
           "xaxis": {
            "backgroundcolor": "#E5ECF6",
            "gridcolor": "white",
            "gridwidth": 2,
            "linecolor": "white",
            "showbackground": true,
            "ticks": "",
            "zerolinecolor": "white"
           },
           "yaxis": {
            "backgroundcolor": "#E5ECF6",
            "gridcolor": "white",
            "gridwidth": 2,
            "linecolor": "white",
            "showbackground": true,
            "ticks": "",
            "zerolinecolor": "white"
           },
           "zaxis": {
            "backgroundcolor": "#E5ECF6",
            "gridcolor": "white",
            "gridwidth": 2,
            "linecolor": "white",
            "showbackground": true,
            "ticks": "",
            "zerolinecolor": "white"
           }
          },
          "shapedefaults": {
           "line": {
            "color": "#2a3f5f"
           }
          },
          "ternary": {
           "aaxis": {
            "gridcolor": "white",
            "linecolor": "white",
            "ticks": ""
           },
           "baxis": {
            "gridcolor": "white",
            "linecolor": "white",
            "ticks": ""
           },
           "bgcolor": "#E5ECF6",
           "caxis": {
            "gridcolor": "white",
            "linecolor": "white",
            "ticks": ""
           }
          },
          "title": {
           "x": 0.05
          },
          "xaxis": {
           "automargin": true,
           "gridcolor": "white",
           "linecolor": "white",
           "ticks": "",
           "title": {
            "standoff": 15
           },
           "zerolinecolor": "white",
           "zerolinewidth": 2
          },
          "yaxis": {
           "automargin": true,
           "gridcolor": "white",
           "linecolor": "white",
           "ticks": "",
           "title": {
            "standoff": 15
           },
           "zerolinecolor": "white",
           "zerolinewidth": 2
          }
         }
        },
        "title": {
         "text": "Revenue Over Time: A Story of Growth and Seasonality"
        },
        "xaxis": {
         "title": {
          "text": "Order Date"
         }
        },
        "yaxis": {
         "title": {
          "text": "Revenue ($ thousands)"
         }
        }
       }
      }
     },
     "metadata": {},
     "output_type": "display_data"
    }
   ],
   "source": [
    "import plotly.graph_objects as go\n",
    "fig = go.Figure(data=[go.Scatter(x=df['OrderDate'], y=df['Revenue'], mode='lines', name='Revenue')])\n",
    "avg_revenue = df['Revenue'].mean()\n",
    "fig.add_hline(y=avg_revenue, line_dash='dash', line_color='red')\n",
    "fig.update_layout(title='Revenue Over Time: A Story of Growth and Seasonality',\n",
    "                  xaxis_title='Order Date',\n",
    "                  yaxis_title='Revenue ($ thousands)')\n",
    "fig.show()"
   ]
  },
  {
   "cell_type": "code",
   "execution_count": 45,
   "id": "c276a4f8",
   "metadata": {},
   "outputs": [
    {
     "data": {
      "image/png": "[encoded data removed]",
      "text/plain": [
       "<Figure size 1500x500 with 1 Axes>"
      ]
     },
     "metadata": {},
     "output_type": "display_data"
    }
   ],
   "source": [
    "# Revenue by product category in seaborn\n",
    "plt.figure(figsize=(15,5))\n",
    "df_sorted = df.groupby('Category')['Revenue'].sum().sort_values(ascending=False).reset_index()\n",
    "sns.barplot(x='Category', y='Revenue', data=df_sorted,palette='Set1')\n",
    "plt.title('Revenue by Product Category')\n",
    "plt.xlabel('Product Category')\n",
    "plt.ylabel('Revenue ($ thousands)')\n",
    "plt.show()"
   ]
  },
  {
   "cell_type": "code",
   "execution_count": 46,
   "id": "c5b2a01e",
   "metadata": {},
   "outputs": [
    {
     "data": {
      "image/png": "[encoded data removed]",
      "text/plain": [
       "<Figure size 1500x500 with 1 Axes>"
      ]
     },
     "metadata": {},
     "output_type": "display_data"
    }
   ],
   "source": [
    "# Analyze payment methods in seaborn\n",
    "plt.figure(figsize=(15,5))\n",
    "df_sorted = df.groupby('PaymentMethod')['Revenue'].sum().sort_values(ascending=False).reset_index()\n",
    "sns.barplot(x='PaymentMethod', y='Revenue', data=df_sorted,palette='Set1')\n",
    "plt.title('Revenue by Payment Method')\n",
    "plt.xlabel('Payment Method')\n",
    "plt.ylabel('Revenue ($ thousands)')\n",
    "plt.show()"
   ]
  },
  {
   "cell_type": "code",
   "execution_count": 47,
   "id": "1bac06d2",
   "metadata": {},
   "outputs": [
    {
     "data": {
      "image/png": "[encoded data removed]",
      "text/plain": [
       "<Figure size 1500x500 with 1 Axes>"
      ]
     },
     "metadata": {},
     "output_type": "display_data"
    }
   ],
   "source": [
    "# Average Revenue per order by category in seaborn\n",
    "plt.figure(figsize=(15,5))\n",
    "df_sorted = df.groupby('Category')['Revenue'].mean().sort_values(ascending=False).reset_index()\n",
    "sns.barplot(x='Category', y='Revenue', data=df_sorted,palette='Set1')\n",
    "plt.title('Average Revenue per Order by Category')\n",
    "plt.xlabel('Product Category')\n",
    "plt.ylabel('Average Revenue ($ thousands)')\n",
    "plt.show()"
   ]
  },
  {
   "cell_type": "code",
   "execution_count": 49,
   "id": "547d9d9c",
   "metadata": {},
   "outputs": [
    {
     "data": {
      "image/png": "[encoded data removed]",
      "text/plain": [
       "<Figure size 1500x700 with 1 Axes>"
      ]
     },
     "metadata": {},
     "output_type": "display_data"
    }
   ],
   "source": [
    "# Discount vs Revenue in seaborn\n",
    "plt.figure(figsize=(15,7))\n",
    "sns.scatterplot(x='DiscountApplied', y='Revenue', data=df)\n",
    "plt.title('Discount vs Revenue')\n",
    "plt.xlabel('Discount Applied')\n",
    "plt.ylabel('Revenue ($ thousands)')\n",
    "plt.show()"
   ]
  },
  {
   "cell_type": "code",
   "execution_count": 51,
   "id": "22244dd2",
   "metadata": {},
   "outputs": [
    {
     "data": {
      "application/vnd.microsoft.datawrangler.viewer.v0+json": {
       "columns": [
        {
         "name": "CustomerID",
         "rawType": "int64",
         "type": "integer"
        },
        {
         "name": "OrderID",
         "rawType": "int64",
         "type": "integer"
        }
       ],
       "ref": "28b5c6de-61ed-4273-bab1-8b331de7cf75",
       "rows": [
        [
         "8",
         "9"
        ],
        [
         "7",
         "8"
        ],
        [
         "12",
         "8"
        ],
        [
         "15",
         "8"
        ],
        [
         "4",
         "6"
        ],
        [
         "9",
         "6"
        ],
        [
         "2",
         "6"
        ],
        [
         "1",
         "5"
        ],
        [
         "3",
         "5"
        ],
        [
         "18",
         "5"
        ],
        [
         "14",
         "4"
        ],
        [
         "19",
         "4"
        ],
        [
         "16",
         "4"
        ],
        [
         "11",
         "4"
        ],
        [
         "10",
         "4"
        ],
        [
         "13",
         "3"
        ],
        [
         "17",
         "3"
        ],
        [
         "5",
         "3"
        ],
        [
         "20",
         "3"
        ],
        [
         "6",
         "2"
        ]
       ],
       "shape": {
        "columns": 1,
        "rows": 20
       }
      },
      "text/plain": [
       "CustomerID\n",
       "8     9\n",
       "7     8\n",
       "12    8\n",
       "15    8\n",
       "4     6\n",
       "9     6\n",
       "2     6\n",
       "1     5\n",
       "3     5\n",
       "18    5\n",
       "14    4\n",
       "19    4\n",
       "16    4\n",
       "11    4\n",
       "10    4\n",
       "13    3\n",
       "17    3\n",
       "5     3\n",
       "20    3\n",
       "6     2\n",
       "Name: OrderID, dtype: int64"
      ]
     },
     "execution_count": 51,
     "metadata": {},
     "output_type": "execute_result"
    }
   ],
   "source": [
    "# Most frequent customer in descending order\n",
    "df.groupby('CustomerID')['OrderID'].count().sort_values(ascending=False)"
   ]
  },
  {
   "cell_type": "code",
   "execution_count": 55,
   "id": "e98eee7a",
   "metadata": {},
   "outputs": [
    {
     "data": {
      "application/vnd.microsoft.datawrangler.viewer.v0+json": {
       "columns": [
        {
         "name": "OrderDate",
         "rawType": "datetime64[ns]",
         "type": "datetime"
        },
        {
         "name": "OrderValue",
         "rawType": "float64",
         "type": "float"
        }
       ],
       "ref": "9005be61-c72d-4fae-b11a-e54645de6112",
       "rows": [
        [
         "2024-03-14 00:00:00",
         "181.61"
        ],
        [
         "2024-01-08 00:00:00",
         "173.9"
        ],
        [
         "2024-01-20 00:00:00",
         "165.71"
        ],
        [
         "2024-03-02 00:00:00",
         "156.9"
        ],
        [
         "2024-01-01 00:00:00",
         "156.59"
        ],
        [
         "2024-02-20 00:00:00",
         "155.97"
        ],
        [
         "2024-01-30 00:00:00",
         "146.5"
        ],
        [
         "2024-03-12 00:00:00",
         "143.61"
        ],
        [
         "2024-01-17 00:00:00",
         "142.08"
        ],
        [
         "2024-02-05 00:00:00",
         "139.21"
        ],
        [
         "2024-02-26 00:00:00",
         "134.76"
        ],
        [
         "2024-01-13 00:00:00",
         "134.28"
        ],
        [
         "2024-04-06 00:00:00",
         "132.49"
        ],
        [
         "2024-04-07 00:00:00",
         "131.61"
        ],
        [
         "2024-02-28 00:00:00",
         "128.9"
        ],
        [
         "2024-03-26 00:00:00",
         "125.69"
        ],
        [
         "2024-03-10 00:00:00",
         "124.82"
        ],
        [
         "2024-03-01 00:00:00",
         "124.66"
        ],
        [
         "2024-02-02 00:00:00",
         "124.41"
        ],
        [
         "2024-01-15 00:00:00",
         "123.73"
        ],
        [
         "2024-02-25 00:00:00",
         "123.61"
        ],
        [
         "2024-02-09 00:00:00",
         "123.45"
        ],
        [
         "2024-01-14 00:00:00",
         "122.56"
        ],
        [
         "2024-03-20 00:00:00",
         "121.42"
        ],
        [
         "2024-02-23 00:00:00",
         "119.7"
        ],
        [
         "2024-03-15 00:00:00",
         "118.77"
        ],
        [
         "2024-01-19 00:00:00",
         "117.61"
        ],
        [
         "2024-04-05 00:00:00",
         "116.82"
        ],
        [
         "2024-02-12 00:00:00",
         "115.66"
        ],
        [
         "2024-03-18 00:00:00",
         "114.47"
        ],
        [
         "2024-01-28 00:00:00",
         "114.21"
        ],
        [
         "2024-02-21 00:00:00",
         "114.21"
        ],
        [
         "2024-03-21 00:00:00",
         "114.2"
        ],
        [
         "2024-02-29 00:00:00",
         "112.38"
        ],
        [
         "2024-03-30 00:00:00",
         "111.56"
        ],
        [
         "2024-04-04 00:00:00",
         "110.73"
        ],
        [
         "2024-02-15 00:00:00",
         "110.39"
        ],
        [
         "2024-03-08 00:00:00",
         "110.23"
        ],
        [
         "2024-01-10 00:00:00",
         "109.05"
        ],
        [
         "2024-02-13 00:00:00",
         "108.91"
        ],
        [
         "2024-02-18 00:00:00",
         "108.79"
        ],
        [
         "2024-03-09 00:00:00",
         "108.3"
        ],
        [
         "2024-02-08 00:00:00",
         "107.8"
        ],
        [
         "2024-01-03 00:00:00",
         "107.73"
        ],
        [
         "2024-02-14 00:00:00",
         "107.51"
        ],
        [
         "2024-02-17 00:00:00",
         "106.97"
        ],
        [
         "2024-02-04 00:00:00",
         "106.82"
        ],
        [
         "2024-03-27 00:00:00",
         "106.42"
        ],
        [
         "2024-02-07 00:00:00",
         "105.54"
        ],
        [
         "2024-01-02 00:00:00",
         "105.24"
        ]
       ],
       "shape": {
        "columns": 1,
        "rows": 100
       }
      },
      "text/plain": [
       "OrderDate\n",
       "2024-03-14    181.61\n",
       "2024-01-08    173.90\n",
       "2024-01-20    165.71\n",
       "2024-03-02    156.90\n",
       "2024-01-01    156.59\n",
       "               ...  \n",
       "2024-01-18     57.94\n",
       "2024-03-24     54.55\n",
       "2024-01-25     53.48\n",
       "2024-02-06     51.78\n",
       "2024-01-05     42.44\n",
       "Name: OrderValue, Length: 100, dtype: float64"
      ]
     },
     "execution_count": 55,
     "metadata": {},
     "output_type": "execute_result"
    }
   ],
   "source": [
    "# Average order value by Month\n",
    "df.groupby('OrderDate')['OrderValue'].mean().sort_values(ascending=False)"
   ]
  },
  {
   "cell_type": "markdown",
   "id": "c83b476e",
   "metadata": {},
   "source": [
    "### Insights after EDA and Suggestions"
   ]
  },
  {
   "cell_type": "markdown",
   "id": "40becf34",
   "metadata": {},
   "source": [
    "### Trends in revenue"
   ]
  },
  {
   "cell_type": "markdown",
   "id": "2c5e46a9",
   "metadata": {},
   "source": [
    "Revenue goes up and down a lot. There are high points, like $180K in early March, and low points, like below $50K in mid-April. On average, daily revenue is around $90K.\n",
    "\n",
    "Recommendation:\n",
    "Look into what’s causing the drop in April—could be outside trends or internal problems. Also, use the busy times (like March) to run promotions and boost sales even more."
   ]
  },
  {
   "cell_type": "markdown",
   "id": "eac0d255",
   "metadata": {},
   "source": [
    "### Top-performing categories"
   ]
  },
  {
   "cell_type": "markdown",
   "id": "22e623a4",
   "metadata": {},
   "source": [
    "Home & Kitchen is the top-performing category with $300K in revenue, followed by Books at $220K, Electronics at $210K, and Clothing at $190K. Books have the highest average order value at $100K, while Home & Kitchen averages $90K per order. To grow sales, it's recommended to promote best-selling Home & Kitchen items to increase volume, use bundling or cross-selling strategies for Books to boost average order value, and analyze underperforming subcategories in Electronics and Clothing to adjust inventory and pricing."
   ]
  },
  {
   "cell_type": "markdown",
   "id": "1c214160",
   "metadata": {},
   "source": [
    "### Popular payment methods"
   ]
  },
  {
   "cell_type": "markdown",
   "id": "0ca92687",
   "metadata": {},
   "source": [
    "Credit Card is the most popular payment method, generating $420K in revenue, followed by Net Banking at $310K and PayPal at $170K. To improve efficiency, the business should streamline its credit card processing system. At the same time, it should promote alternative options like PayPal through targeted incentives to encourage more diverse payment choices."
   ]
  },
  {
   "cell_type": "markdown",
   "id": "74921913",
   "metadata": {},
   "source": [
    "### Business Recommendations"
   ]
  },
  {
   "cell_type": "markdown",
   "id": "1c406063",
   "metadata": {},
   "source": [
    "Avoid blanket discounts; instead, target specific products or customer segments .\n",
    "Test moderate discounts (5–10%) with limited-time offers to balance revenue and customer attraction.\n",
    "Peaks in January and March suggest holiday/sales-driven demand. Plan promotions around these periods.\n",
    "Launch targeted campaigns for Home & Kitchen and Books."
   ]
  },
  {
   "cell_type": "markdown",
   "id": "0743253d",
   "metadata": {},
   "source": []
  }
 ],
 "metadata": {
  "kernelspec": {
   "display_name": "base",
   "language": "python",
   "name": "python3"
  },
  "language_info": {
   "codemirror_mode": {
    "name": "ipython",
    "version": 3
   },
   "file_extension": ".py",
   "mimetype": "text/x-python",
   "name": "python",
   "nbconvert_exporter": "python",
   "pygments_lexer": "ipython3",
   "version": "3.11.5"
  }
 },
 "nbformat": 4,
 "nbformat_minor": 5
}
