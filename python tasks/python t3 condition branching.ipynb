{
 "cells": [
  {
   "cell_type": "code",
   "execution_count": 3,
   "id": "abdd4ced",
   "metadata": {},
   "outputs": [
    {
     "name": "stdout",
     "output_type": "stream",
     "text": [
      "x is greater than 10\n"
     ]
    }
   ],
   "source": [
    "# conditions\n",
    "x = 20\n",
    "if x > 10:\n",
    "    print(\"x is greater than 10\")\n",
    "else:\n",
    "    print(\"x is less than 10\")"
   ]
  },
  {
   "cell_type": "code",
   "execution_count": 4,
   "id": "0016ba36",
   "metadata": {},
   "outputs": [
    {
     "name": "stdout",
     "output_type": "stream",
     "text": [
      "False\n",
      "True\n",
      "True\n",
      "False\n",
      "True\n",
      "False\n"
     ]
    }
   ],
   "source": [
    "# comparison operators\n",
    "x = 20\n",
    "y = 10\n",
    "print(x == y)\n",
    "print(x != y)\n",
    "print(x > y)\n",
    "print(x < y)\n",
    "print(x >= y)\n",
    "print(x <= y)"
   ]
  },
  {
   "cell_type": "code",
   "execution_count": 6,
   "id": "21cb7201",
   "metadata": {},
   "outputs": [
    {
     "name": "stdout",
     "output_type": "stream",
     "text": [
      "x is less than 30\n"
     ]
    }
   ],
   "source": [
    "# if conditions\n",
    "x = 20\n",
    "if x < 30:\n",
    "    print(\"x is less than 30\")"
   ]
  },
  {
   "cell_type": "code",
   "execution_count": null,
   "id": "00d10239",
   "metadata": {},
   "outputs": [
    {
     "name": "stdout",
     "output_type": "stream",
     "text": [
      "x is greater than 10\n"
     ]
    }
   ],
   "source": [
    "# if else conditions\n",
    "x = 20\n",
    "if x > 10:\n",
    "    print(\"x is greater than 10\")\n",
    "else:\n",
    "    print(\"x is less than 10\")"
   ]
  },
  {
   "cell_type": "code",
   "execution_count": 7,
   "id": "5590ad1a",
   "metadata": {},
   "outputs": [
    {
     "name": "stdout",
     "output_type": "stream",
     "text": [
      "B\n"
     ]
    }
   ],
   "source": [
    "# if elif else conditions\n",
    "score = 85\n",
    "if score >= 90:\n",
    "    print(\"A\")\n",
    "elif score >= 80:\n",
    "    print(\"B\")\n",
    "elif score >= 70:\n",
    "    print(\"C\")\n",
    "elif score >= 60:\n",
    "    print(\"D\")\n",
    "else:\n",
    "    print(\"F\")"
   ]
  },
  {
   "cell_type": "code",
   "execution_count": 13,
   "id": "a04b42d1",
   "metadata": {},
   "outputs": [
    {
     "name": "stdout",
     "output_type": "stream",
     "text": [
      "x or y is greater than 10\n"
     ]
    }
   ],
   "source": [
    "# if else & or conditions\n",
    "x = 20\n",
    "y = 30\n",
    "if x > 10 or y > 10:\n",
    "    print(\"x or y is greater than 10\")\n",
    "else:\n",
    "    print(\"x and y is less than 10\")"
   ]
  },
  {
   "cell_type": "code",
   "execution_count": 14,
   "id": "4e20d028",
   "metadata": {},
   "outputs": [
    {
     "name": "stdout",
     "output_type": "stream",
     "text": [
      "x or y is less than 10\n"
     ]
    }
   ],
   "source": [
    "# if else & and conditions\n",
    "x = 20\n",
    "y = 15\n",
    "if x > 10 and y > 20:\n",
    "    print(\"x and y is greater than 10\")\n",
    "else:\n",
    "    print(\"x or y is less than 10\")"
   ]
  }
 ],
 "metadata": {
  "kernelspec": {
   "display_name": "base",
   "language": "python",
   "name": "python3"
  },
  "language_info": {
   "codemirror_mode": {
    "name": "ipython",
    "version": 3
   },
   "file_extension": ".py",
   "mimetype": "text/x-python",
   "name": "python",
   "nbconvert_exporter": "python",
   "pygments_lexer": "ipython3",
   "version": "3.11.5"
  }
 },
 "nbformat": 4,
 "nbformat_minor": 5
}
