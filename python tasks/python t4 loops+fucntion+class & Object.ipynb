{
 "cells": [
  {
   "cell_type": "markdown",
   "id": "4567e111",
   "metadata": {},
   "source": [
    "## Loops"
   ]
  },
  {
   "cell_type": "code",
   "execution_count": 1,
   "id": "71cdb569",
   "metadata": {},
   "outputs": [
    {
     "name": "stdout",
     "output_type": "stream",
     "text": [
      "carrot\n",
      "broccoli\n",
      "spinach\n",
      "potato\n",
      "tomato\n"
     ]
    }
   ],
   "source": [
    "vegetables = [\"carrot\", \"broccoli\", \"spinach\", \"potato\", \"tomato\"]\n",
    "for veges in vegetables:\n",
    "    print(veges)"
   ]
  },
  {
   "cell_type": "code",
   "execution_count": 2,
   "id": "d10ac931",
   "metadata": {},
   "outputs": [
    {
     "name": "stdout",
     "output_type": "stream",
     "text": [
      "0\n",
      "1\n",
      "2\n",
      "3\n",
      "4\n",
      "5\n",
      "6\n",
      "7\n",
      "8\n",
      "9\n"
     ]
    }
   ],
   "source": [
    "# Range function to print numbers from 0 to 9\n",
    "for i in range(10):\n",
    "    print(i)"
   ]
  },
  {
   "cell_type": "code",
   "execution_count": 3,
   "id": "1ac6938b",
   "metadata": {},
   "outputs": [
    {
     "name": "stdout",
     "output_type": "stream",
     "text": [
      "0 apple\n",
      "1 banana\n",
      "2 cherry\n"
     ]
    }
   ],
   "source": [
    "# Enumerate function to print index and value of a list\n",
    "fruits = [\"apple\", \"banana\", \"cherry\"]\n",
    "for index,fruit in enumerate(fruits):\n",
    "    print(index,fruit)"
   ]
  },
  {
   "cell_type": "code",
   "execution_count": 6,
   "id": "825adcf2",
   "metadata": {},
   "outputs": [
    {
     "name": "stdout",
     "output_type": "stream",
     "text": [
      "[0, 1, 2, 3, 4, 5]\n"
     ]
    }
   ],
   "source": [
    "# while loop to print numbers from 0 to 5\n",
    "numbers = []\n",
    "l = 0\n",
    "while l <= 5:\n",
    "    numbers.append(l)\n",
    "    l += 1\n",
    "print(numbers)"
   ]
  },
  {
   "cell_type": "code",
   "execution_count": 7,
   "id": "50e65fc0",
   "metadata": {},
   "outputs": [
    {
     "name": "stdout",
     "output_type": "stream",
     "text": [
      "We have a new member: Alice\n",
      "We have a new member: Bob\n",
      "We have a new member: Charlie\n",
      "We have a new member: David\n",
      "We have a new member: Eve\n"
     ]
    }
   ],
   "source": [
    "# Problem 1\n",
    "names = [\"Alice\", \"Bob\", \"Charlie\", \"David\", \"Eve\"]\n",
    "for name in names:\n",
    "    print(\"We have a new member: \" + name)"
   ]
  },
  {
   "cell_type": "code",
   "execution_count": 8,
   "id": "258471e9",
   "metadata": {},
   "outputs": [
    {
     "name": "stdout",
     "output_type": "stream",
     "text": [
      "Tasks for today:1 - wake up\n",
      "Tasks for today:2 - eat breakfast\n",
      "Tasks for today:3 - go to work\n",
      "Tasks for today:4 - have lunch\n",
      "Tasks for today:5 - go home\n"
     ]
    }
   ],
   "source": [
    "# Problem 2 \n",
    "tasks = ['wake up', 'eat breakfast', 'go to work', 'have lunch', 'go home']\n",
    "for index, task in enumerate(tasks,start=1):\n",
    "    print(f'Tasks for today:{index} - {task}')"
   ]
  },
  {
   "cell_type": "code",
   "execution_count": 9,
   "id": "7dd69601",
   "metadata": {},
   "outputs": [
    {
     "name": "stdout",
     "output_type": "stream",
     "text": [
      "[2, 4, 6, 8, 10]\n"
     ]
    }
   ],
   "source": [
    "# problem 3\n",
    "Even_numbers = []\n",
    "number = 2\n",
    "while number <= 10:\n",
    "    Even_numbers.append(number)\n",
    "    number += 2\n",
    "print(Even_numbers)"
   ]
  },
  {
   "cell_type": "code",
   "execution_count": 10,
   "id": "ed42827c",
   "metadata": {},
   "outputs": [
    {
     "name": "stdout",
     "output_type": "stream",
     "text": [
      "1 is Positive\n",
      "3 is Positive\n",
      "5 is Positive\n",
      "7 is Positive\n",
      "86 is Positive\n",
      "-9 is negative\n",
      "-3 is negative\n",
      "-6 is negative\n",
      "0 is zero\n",
      "2 is Positive\n",
      "4 is Positive\n",
      "6 is Positive\n",
      "8 is Positive\n",
      "10 is Positive\n"
     ]
    }
   ],
   "source": [
    "# Problem 4 \n",
    "numbers = [1,3,5,7,86,-9,-3,-6,0,2,4,6,8,10]\n",
    "for num in numbers:\n",
    "    if num < 0:\n",
    "        print(num, \"is negative\")\n",
    "    elif num > 0:\n",
    "        print(num, \"is Positive\")\n",
    "    else:\n",
    "        print(num, \"is zero\")"
   ]
  },
  {
   "cell_type": "markdown",
   "id": "30803580",
   "metadata": {},
   "source": [
    "## Function"
   ]
  },
  {
   "cell_type": "code",
   "execution_count": 16,
   "id": "8a3c4c19",
   "metadata": {},
   "outputs": [
    {
     "name": "stdout",
     "output_type": "stream",
     "text": [
      "The compound interest is:  275279.024\n"
     ]
    }
   ],
   "source": [
    "# Problem 1\n",
    "# calculate compound interest\n",
    "p = 200000 # initial amount\n",
    "r = 0.04 # interest rate\n",
    "t = 8 # time in years\n",
    "n = 12 # number of times interest applied per month\n",
    "\n",
    "def compound_interest(p,r,t,n):\n",
    "    A = p * (1 + r/n)**(n*t)\n",
    "    return A\n",
    "B = round(compound_interest(p,r,t,n),3)\n",
    "print(\"The compound interest is: \", B)\n"
   ]
  },
  {
   "cell_type": "code",
   "execution_count": 17,
   "id": "eee957c4",
   "metadata": {},
   "outputs": [
    {
     "name": "stdout",
     "output_type": "stream",
     "text": [
      "The EMI is:  5562.41\n"
     ]
    }
   ],
   "source": [
    "# Problem 2 \n",
    "# calculate the EMI\n",
    "p = 200000 # principal amount\n",
    "i = 0.08 # interest rate\n",
    "n = 12 # number of times interest applied per month\n",
    "t = 3 # time in years\n",
    "def EMI(p,i,n,t):\n",
    "    r = i / (12 * 100) # monthly interest rate\n",
    "    N = n * t # number of months\n",
    "    emi = (p * r * (1 + r)**N) / ((1 + r)**N - 1)\n",
    "    return emi\n",
    "E = round(EMI(p,i,n,t),3)\n",
    "print(\"The EMI is: \", E)"
   ]
  },
  {
   "cell_type": "code",
   "execution_count": 18,
   "id": "41d019f6",
   "metadata": {},
   "outputs": [
    {
     "name": "stdout",
     "output_type": "stream",
     "text": [
      "Your BMI is:  Normal weight\n"
     ]
    }
   ],
   "source": [
    "# Problem 3\n",
    "# calculate the BMI\n",
    "\n",
    "weight = 70 # in kg\n",
    "height = 1.75 # in meters\n",
    "def BMI(weight, height):\n",
    "    bmi = weight / (height ** 2)\n",
    "    if bmi < 18.5:\n",
    "        return \"Underweight\"\n",
    "    elif 18.5 <= bmi < 24.9:\n",
    "        return \"Normal weight\"\n",
    "    elif 25 <= bmi < 29.9:\n",
    "        return \"Overweight\"\n",
    "    else:\n",
    "        return \"Obese\"\n",
    "B = BMI(weight, height)\n",
    "print(\"Your BMI is: \", B)"
   ]
  },
  {
   "cell_type": "markdown",
   "id": "87935e0b",
   "metadata": {},
   "source": [
    "## Class and Object"
   ]
  },
  {
   "cell_type": "code",
   "execution_count": 3,
   "id": "df7a296d",
   "metadata": {},
   "outputs": [],
   "source": [
    "# Problem 1\n",
    "# Library Book Management System\n",
    "class Book:\n",
    "    def __init__(self, title, author):\n",
    "        self.title = title\n",
    "        self. author = author\n",
    "        self.is_available = True\n",
    "    def borrow(self):\n",
    "        if self.is_available:\n",
    "            self.is_available = False\n",
    "            return f\"You have borrowed '{self.title}'.\"\n",
    "        else:\n",
    "            return f\"Sorry, '{self.title}' is already borrowed.\"\n",
    "    def return_book(self):\n",
    "        if not self.is_available:\n",
    "            self.is_available = True \n",
    "            return f\"'{self.title}' has been returned. Thank you!\"\n",
    "        else:\n",
    "            return f\"{self.title}' is already in the library.\"\n",
    "    def check_availability(self):\n",
    "        return f\"'{self.title}' is {'available' if self.is_available else 'not available'}\""
   ]
  },
  {
   "cell_type": "code",
   "execution_count": 7,
   "id": "fec15d8f",
   "metadata": {},
   "outputs": [],
   "source": [
    "library = Book(\"To Kill a Mockingbird\", \"Harper Lee\")"
   ]
  },
  {
   "cell_type": "code",
   "execution_count": 8,
   "id": "a02ba012",
   "metadata": {},
   "outputs": [
    {
     "name": "stdout",
     "output_type": "stream",
     "text": [
      "'To Kill a Mockingbird' is available\n"
     ]
    }
   ],
   "source": [
    "print(library.check_availability())"
   ]
  },
  {
   "cell_type": "code",
   "execution_count": 9,
   "id": "49a4ff9e",
   "metadata": {},
   "outputs": [
    {
     "name": "stdout",
     "output_type": "stream",
     "text": [
      "You have borrowed 'To Kill a Mockingbird'.\n"
     ]
    }
   ],
   "source": [
    "print(library.borrow())"
   ]
  },
  {
   "cell_type": "code",
   "execution_count": 10,
   "id": "0dc18bb1",
   "metadata": {},
   "outputs": [
    {
     "name": "stdout",
     "output_type": "stream",
     "text": [
      "'To Kill a Mockingbird' is not available\n"
     ]
    }
   ],
   "source": [
    "print(library.check_availability())"
   ]
  },
  {
   "cell_type": "code",
   "execution_count": 11,
   "id": "155c5aa9",
   "metadata": {},
   "outputs": [
    {
     "name": "stdout",
     "output_type": "stream",
     "text": [
      "'To Kill a Mockingbird' has been returned. Thank you!\n"
     ]
    }
   ],
   "source": [
    "print(library.return_book())"
   ]
  },
  {
   "cell_type": "code",
   "execution_count": 12,
   "id": "f4c237de",
   "metadata": {},
   "outputs": [
    {
     "name": "stdout",
     "output_type": "stream",
     "text": [
      "'To Kill a Mockingbird' is available\n"
     ]
    }
   ],
   "source": [
    "print(library.check_availability())"
   ]
  },
  {
   "cell_type": "code",
   "execution_count": 13,
   "id": "34245f11",
   "metadata": {},
   "outputs": [
    {
     "name": "stdout",
     "output_type": "stream",
     "text": [
      "To Kill a Mockingbird' is already in the library.\n"
     ]
    }
   ],
   "source": [
    "print(library.return_book())"
   ]
  },
  {
   "cell_type": "code",
   "execution_count": 14,
   "id": "d06024ce",
   "metadata": {},
   "outputs": [
    {
     "name": "stdout",
     "output_type": "stream",
     "text": [
      "The result of division is: 0.5581395348837209\n"
     ]
    }
   ],
   "source": [
    "try:\n",
    "    num1 = float(input(\"Enter first number: \"))\n",
    "    num2 = float(input(\"Enter second number: \"))\n",
    "    result = num1 / num2\n",
    "except ZeroDivisionError:\n",
    "    print(\"Error: Division by zero is not allowed.\")\n",
    "except ValueError:\n",
    "    print(\"Error: Invalid input. Please enter numeric values.\")\n",
    "else:\n",
    "    print(f\"The result of division is: {result}\")"
   ]
  },
  {
   "cell_type": "code",
   "execution_count": null,
   "id": "90c1a242",
   "metadata": {},
   "outputs": [],
   "source": []
  }
 ],
 "metadata": {
  "kernelspec": {
   "display_name": "base",
   "language": "python",
   "name": "python3"
  },
  "language_info": {
   "codemirror_mode": {
    "name": "ipython",
    "version": 3
   },
   "file_extension": ".py",
   "mimetype": "text/x-python",
   "name": "python",
   "nbconvert_exporter": "python",
   "pygments_lexer": "ipython3",
   "version": "3.11.5"
  }
 },
 "nbformat": 4,
 "nbformat_minor": 5
}
