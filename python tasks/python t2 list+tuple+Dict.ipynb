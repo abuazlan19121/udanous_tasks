{
 "cells": [
  {
   "cell_type": "code",
   "execution_count": 2,
   "id": "90e1e778",
   "metadata": {},
   "outputs": [
    {
     "name": "stdout",
     "output_type": "stream",
     "text": [
      "('apple', 'banana', 'cherry')\n"
     ]
    }
   ],
   "source": [
    "# creating a tuple\n",
    "fruits = (\"apple\", \"banana\", \"cherry\")\n",
    "print(fruits)"
   ]
  },
  {
   "cell_type": "code",
   "execution_count": 3,
   "id": "db7e7fa1",
   "metadata": {},
   "outputs": [
    {
     "name": "stdout",
     "output_type": "stream",
     "text": [
      "('apple', 'banana', 'cherry', 'orange', 'kiwi', 'melon')\n"
     ]
    }
   ],
   "source": [
    "# tuple concatenation\n",
    "fruits1 = (\"apple\", \"banana\", \"cherry\")\n",
    "fruits2 = (\"orange\", \"kiwi\", \"melon\")\n",
    "fruits3 = fruits1 + fruits2\n",
    "print(fruits3)"
   ]
  },
  {
   "cell_type": "code",
   "execution_count": 5,
   "id": "4d40cf2b",
   "metadata": {},
   "outputs": [
    {
     "name": "stdout",
     "output_type": "stream",
     "text": [
      "('apple', 'banana', 'cherry')\n"
     ]
    }
   ],
   "source": [
    "# tuple slicing\n",
    "fruits = (\"apple\", \"banana\", \"cherry\", \"orange\", \"kiwi\", \"melon\")\n",
    "print(fruits[0:3])"
   ]
  },
  {
   "cell_type": "code",
   "execution_count": 6,
   "id": "c2c5f909",
   "metadata": {},
   "outputs": [
    {
     "name": "stdout",
     "output_type": "stream",
     "text": [
      "2\n",
      "banana\n",
      "Y\n"
     ]
    }
   ],
   "source": [
    "# nested slicing tuple\n",
    "tuple1 = ((1,2,3),(\"apple\", \"banana\", \"cherry\"),(\"X\",\"Y\",\"Z\"))\n",
    "print(tuple1[0][1])\n",
    "print(tuple1[1][1])\n",
    "print(tuple1[2][1])"
   ]
  },
  {
   "cell_type": "code",
   "execution_count": 7,
   "id": "9987db64",
   "metadata": {},
   "outputs": [
    {
     "name": "stdout",
     "output_type": "stream",
     "text": [
      "['apple', 'banana', 'cherry']\n"
     ]
    }
   ],
   "source": [
    "# creating a list\n",
    "list1 = [\"apple\", \"banana\", \"cherry\"]\n",
    "print(list1)"
   ]
  },
  {
   "cell_type": "code",
   "execution_count": 9,
   "id": "4b3722a7",
   "metadata": {},
   "outputs": [
    {
     "name": "stdout",
     "output_type": "stream",
     "text": [
      "['apple', 'banana', 'cherry', 'orange']\n"
     ]
    }
   ],
   "source": [
    "# list forward slicing\n",
    "list1 = [\"apple\", \"banana\", \"cherry\", \"orange\", \"kiwi\", \"melon\"]\n",
    "print(list1[0:4])"
   ]
  },
  {
   "cell_type": "code",
   "execution_count": 10,
   "id": "a40c2c7a",
   "metadata": {},
   "outputs": [
    {
     "name": "stdout",
     "output_type": "stream",
     "text": [
      "['cherry', 'orange', 'kiwi']\n"
     ]
    }
   ],
   "source": [
    "# backward slicing\n",
    "list1 = [\"apple\", \"banana\", \"cherry\", \"orange\", \"kiwi\", \"melon\"]\n",
    "print(list1[-4:-1])"
   ]
  },
  {
   "cell_type": "code",
   "execution_count": 16,
   "id": "868415c6",
   "metadata": {},
   "outputs": [
    {
     "name": "stdout",
     "output_type": "stream",
     "text": [
      "['apple', 'cherry', 'kiwi']\n"
     ]
    }
   ],
   "source": [
    "# list strading\n",
    "list1 = [\"apple\", \"banana\", \"cherry\", \"orange\", \"kiwi\", \"melon\"]\n",
    "print(list1[0:5:2])"
   ]
  },
  {
   "cell_type": "code",
   "execution_count": 18,
   "id": "a24170b4",
   "metadata": {},
   "outputs": [
    {
     "name": "stdout",
     "output_type": "stream",
     "text": [
      "3\n",
      "apple\n",
      "Y\n"
     ]
    }
   ],
   "source": [
    "# nested list slicing\n",
    "list1 = [[1,2,3],[\"apple\", \"banana\", \"cherry\"],[\"X\",\"Y\",\"Z\"]]\n",
    "print(list1[0][2])\n",
    "print(list1[1][0])\n",
    "print(list1[2][1])"
   ]
  },
  {
   "cell_type": "code",
   "execution_count": 19,
   "id": "de3e7639",
   "metadata": {},
   "outputs": [
    {
     "name": "stdout",
     "output_type": "stream",
     "text": [
      "['apple', 'banana', 'cherry', 'orange']\n",
      "['banana', 'cherry', 'orange']\n"
     ]
    }
   ],
   "source": [
    "# add and remove \n",
    "list1 = [\"apple\", \"banana\", \"cherry\"]\n",
    "list1.append(\"orange\")\n",
    "print(list1)\n",
    "list1.remove(\"apple\")\n",
    "print(list1)"
   ]
  },
  {
   "cell_type": "code",
   "execution_count": 20,
   "id": "7a1e0522",
   "metadata": {},
   "outputs": [
    {
     "name": "stdout",
     "output_type": "stream",
     "text": [
      "{'name': 'ABC', 'class': '10', 'roll_no': 12}\n"
     ]
    }
   ],
   "source": [
    "# creating a dictionary\n",
    "school = {\n",
    "    \"name\": \"ABC\",\n",
    "    \"class\": \"10\",\n",
    "    \"roll_no\": 12\n",
    "}\n",
    "print(school)"
   ]
  },
  {
   "cell_type": "code",
   "execution_count": 21,
   "id": "6b03b7c4",
   "metadata": {},
   "outputs": [
    {
     "name": "stdout",
     "output_type": "stream",
     "text": [
      "ABC\n",
      "10\n",
      "12\n"
     ]
    }
   ],
   "source": [
    "# slicing a dictionary\n",
    "school = {\n",
    "    \"name\": \"ABC\",\n",
    "    \"class\": \"10\",\n",
    "    \"roll_no\": 12\n",
    "}\n",
    "print(school[\"name\"])\n",
    "print(school[\"class\"])\n",
    "print(school[\"roll_no\"])"
   ]
  },
  {
   "cell_type": "code",
   "execution_count": 24,
   "id": "27b141d0",
   "metadata": {},
   "outputs": [
    {
     "name": "stdout",
     "output_type": "stream",
     "text": [
      "{'name': 'XYZ', 'class': '10', 'roll_no': 12}\n"
     ]
    }
   ],
   "source": [
    "# add and remove\n",
    "school = {\n",
    "    \"name\": \"ABC\",\n",
    "    \"class\": \"10\",\n",
    "    \"roll_no\": 12\n",
    "}\n",
    "school[\"name\"] = \"XYZ\"\n",
    "print(school)"
   ]
  },
  {
   "cell_type": "code",
   "execution_count": 25,
   "id": "1ff33bd9",
   "metadata": {},
   "outputs": [
    {
     "name": "stdout",
     "output_type": "stream",
     "text": [
      "{'name': 'XYZ', 'class': '10'}\n"
     ]
    }
   ],
   "source": [
    "del school[\"roll_no\"]\n",
    "print(school)"
   ]
  },
  {
   "cell_type": "code",
   "execution_count": 27,
   "id": "7220157e",
   "metadata": {},
   "outputs": [
    {
     "name": "stdout",
     "output_type": "stream",
     "text": [
      "dict_keys(['name', 'company', 'id no', 'age'])\n",
      "dict_values(['abc', 'xyz', 123, 25])\n",
      "dict_items([('name', 'abc'), ('company', 'xyz'), ('id no', 123), ('age', 25)])\n"
     ]
    }
   ],
   "source": [
    "# dictionary extracttion\n",
    "profile = {\n",
    "    \"name\": \"abc\",\n",
    "    \"company\": \"xyz\",\n",
    "    \"id no\": 123,\n",
    "    \"age\": 25\n",
    "}\n",
    "print(profile.keys())\n",
    "print(profile.values())\n",
    "print(profile.items())"
   ]
  },
  {
   "cell_type": "code",
   "execution_count": null,
   "id": "24867b3b",
   "metadata": {},
   "outputs": [],
   "source": []
  }
 ],
 "metadata": {
  "kernelspec": {
   "display_name": "base",
   "language": "python",
   "name": "python3"
  },
  "language_info": {
   "codemirror_mode": {
    "name": "ipython",
    "version": 3
   },
   "file_extension": ".py",
   "mimetype": "text/x-python",
   "name": "python",
   "nbconvert_exporter": "python",
   "pygments_lexer": "ipython3",
   "version": "3.11.5"
  }
 },
 "nbformat": 4,
 "nbformat_minor": 5
}
